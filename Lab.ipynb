{
 "cells": [
  {
   "cell_type": "code",
   "execution_count": null,
   "metadata": {
    "editable": false,
    "init_cell": true
   },
   "outputs": [],
   "source": [
    "# This cell runs automatically.  Don't edit it. \n",
    "from CSE142L.notebook import * \n",
    "from notebook import *\n",
    "from cfiddle import *"
   ]
  },
  {
   "cell_type": "markdown",
   "metadata": {
    "cse142L.is_response": true,
    "deletable": false,
    "editable": true
   },
   "source": [
    "\n",
    "<div class=\"namebox\">    \n",
    "Double Click to edit and enter your\n",
    "\n",
    "1.  Name\n",
    "2.  Student ID\n",
    "3.  @ucsd.edu email address\n",
    "    \n",
    "</div>"
   ]
  },
  {
   "cell_type": "markdown",
   "metadata": {
    "editable": false
   },
   "source": [
    "\n"
   ]
  },
  {
   "cell_type": "markdown",
   "metadata": {
    "editable": false
   },
   "source": [
    "<div class=\"title\">Lab 2: The Compiler</div>"
   ]
  },
  {
   "cell_type": "markdown",
   "metadata": {
    "editable": false
   },
   "source": [
    "\n",
    "This lab will give you a much clearer understanding of the role that the compiler plays in translating your source code into executable binaries.  Our focus is on the optimizations that compilers perform and the critical role that they play in efficiently implementing modern compiled programming languages (e.g., C, C++, Rust, Go, and Java).  We will use C++, but many of the same lessons apply to other languages.\n",
    "\n",
    "This lab includes a programming assignment.  You should start thinking about it early, so read that section now (or at least soon).\n",
    "\n",
    "Check gradescope schedule for due date(s)."
   ]
  },
  {
   "cell_type": "markdown",
   "metadata": {
    "editable": false
   },
   "source": [
    "# FAQ and Updates"
   ]
  },
  {
   "cell_type": "markdown",
   "metadata": {
    "editable": false
   },
   "source": [
    "1.  Added missing cell to generate `autograder.json` in Final Measurementn and Grading."
   ]
  },
  {
   "cell_type": "markdown",
   "metadata": {
    "editable": false
   },
   "source": [
    "# Using in the Correct Environment on DataHub"
   ]
  },
  {
   "cell_type": "markdown",
   "metadata": {
    "editable": false
   },
   "source": [
    "<div class=\"alert alert-block alert-danger\">\n",
    "\n",
    "**Use the right Datahub environment** There is a different environment for each lab on DataHub, and you must use the correct environment when working on the corresponding lab.\n",
    "\n",
    "</div>\n",
    "To get into the right environment when you start a new lab, you should:\n",
    "\n",
    "1.  Connect to Datahub.  If it takes you to the menu of environments, select the appropriate one.\n",
    "2.  Otherwise, click \"Control Panel\" in the upper right.\n",
    "3.  Then click \"Stop my Server\"\n",
    "4.  Click \"Start my Server\" which should take to the menu of environments."
   ]
  },
  {
   "cell_type": "markdown",
   "metadata": {
    "editable": false
   },
   "source": [
    "# Pre-Lab Reading Quiz"
   ]
  },
  {
   "cell_type": "markdown",
   "metadata": {
    "editable": false
   },
   "source": [
    "Part of this lab is a pre-lab quiz. The pre-lab quiz is on Canvas.  It is due **on Wednesday before Section A meets** (check Canvas for the time).  It's not hard, but it does require you to read over the lab before class.  If you are having trouble accessing it, make sure you are **logged into Canvas**.\n",
    "\n",
    "##  How To Read the Lab For the Reading Quiz\n",
    "\n",
    "The goal of reading the lab before starting on it is to make sure you have a preview of:\n",
    "\n",
    "1.  What's involved in the lab.\n",
    "2.  The key concepts of the lab.\n",
    "3.  What you can expect from the lab.\n",
    "4.  Any questions you might have.\n",
    "\n",
    "These are the things we will ask about on the quiz.  You _do not_ need to study the lab in depth.  You _do not_ need to run the cells.\n",
    "\n",
    "You should read these parts carefully:\n",
    "\n",
    "* Paragraphs at the top of section/subsections\n",
    "* The description of the programming assignment\n",
    "* Any other large blocks of text\n",
    "* The \"About Labs in This Class\" section (Lab 1 only)\n",
    "* The programming assignment description.\n",
    "\n",
    "You should skim these parts:\n",
    "\n",
    "* The questions.\n",
    "\n",
    "You can skip these parts:\n",
    "\n",
    "* The \"About Labs in This Class\" section (Labs other than Lab 1)\n",
    "* Commentary on the output of code cells (which is most of the lab)\n",
    "* Parts of the lab that refer to things you can't see (like cell output)\n",
    "* Solution to completeness questions.\n",
    "\n",
    "\n",
    "## Taking the Quiz\n",
    "\n",
    "You can find it here: https://canvas.ucsd.edu/courses/40763/quizzes\n",
    "\n",
    "The quiz is \"open lab\" -- you can search, re-read, etc. the lab.\n",
    "\n",
    "You can take the quiz 3 times.  Highest score counts."
   ]
  },
  {
   "cell_type": "markdown",
   "metadata": {
    "editable": false
   },
   "source": [
    "# Browser Compatibility"
   ]
  },
  {
   "cell_type": "markdown",
   "metadata": {
    "editable": false
   },
   "source": [
    "We are still working out some bugs in some browsers.  Here's the current status:\n",
    "\n",
    "1.  Chrome -- well tested.  Preferred option. **Required for Moneta**\n",
    "2.  Firefox -- seems ok, but not thoroughly tested.\n",
    "3.  Edge -- seems ok, but not thoroughly tested.\n",
    "4.  Safari -- not supported at the moment.\n",
    "5.  Internet Explorer -- not supported at the moment.\n",
    "\n",
    "At the moment, the authentication step must be done in Chrome.  You usually _will not_ have to re-authenticate between labs, so if things work OK for the first, things will probably work here. "
   ]
  },
  {
   "cell_type": "markdown",
   "metadata": {
    "editable": false
   },
   "source": [
    "# About Labs In This Class"
   ]
  },
  {
   "cell_type": "markdown",
   "metadata": {
    "editable": false
   },
   "source": [
    "_This section is the same in all the labs.  It's repeated here for your reference._\n",
    "\n",
    "Labs are a way to **learn by doing**.  This means you _must_ **do**.  I have built these labs as Jupyter notebooks so that the \"doing\" is as easy and seamless as possible.\n",
    "\n",
    "In this lab, what you'll do is answer questions about how a program will run and then compare what really happened to your predictions.  Engaging with this process is how you'll learn.  The questions that the lab asks are there for several purposes:\n",
    "\n",
    "1.  To draw your attention to specific aspects of an experiment or of some results.\n",
    "2.  To push you to engage with the material more deeply by thinking about it.\n",
    "3.  To make you commit to a prediction so you can wonder why your prediction was wrong or be proud that you got it right.\n",
    "4.  To provide some practice with skills/concepts you're learning in this course.\n",
    "5.  To test your knowledge about what you've learned.\n",
    "\n",
    "The questions are graded in one of three ways:\n",
    "\n",
    "1. \"Correctness\" questions require you to answer the question and get the correct answer to get full credit.\n",
    "2. \"Completeness\" questions require you to answer (even if incorrectly) all parts of the question to get credit.\n",
    "3. \"Optional\" questions are...optional.  They are there if you want to go further with the material.\n",
    "\n",
    "Some of the \"Completeness\" problems include a solution that will be hidden until you click \"Show Solution\".  To get the most from them, try them on your own first.\n",
    "\n",
    "Many of the \"Completeness\" questions ask you to make predictions about the outcome of an experiment and write down those predictions.  To maximize your learning, think carefully about your prediction and commit to it.  **You will never be penalized for making an incorrect prediction.**\n",
    "\n",
    "You are free to discuss \"Completeness\" and \"Optional\" questions with your classmates.  You must complete \"Correctness\" questions on your own.\n",
    "\n",
    "If you have questions about any kind of question, please ask during office hours or during class."
   ]
  },
  {
   "attachments": {
    "image.png": {
     "image/png": "[encoded data removed]"
    }
   },
   "cell_type": "markdown",
   "metadata": {
    "editable": false
   },
   "source": [
    "## How To Succeed On the Labs\n",
    "\n",
    "Here are some simple tips that will help you do well on this lab:\n",
    "\n",
    "1.  Read/skim through the entire lab _before_ class.  If something confuses you, you can ask about it.\n",
    "2.  Start early.  Getting answers on edstem/piazza can take time.  So think through the lab questions (and your questions about them) carefully.\n",
    "    1. Go through the lab once (several days before the deadline), do the parts that are easy/make sense\n",
    "    2. Ask questions/think about the rest\n",
    "    3. Come back and do the rest.\n",
    "3.  Start early.  The DSMLP cluster gets busy and slow near deadlines.  \"The cluster was slow the night of the deadline\" is not an excuse for not getting the lab done and it is not justification for asking for an extension.\n",
    "4.  Follow the guidelines below for asking answerable questions on edstem/piazza.\n",
    "\n",
    "You may think to yourself: \"If I start early enough to account for all that, I'd have to start right after the lab was assigned!\"  Good thought!\n",
    "\n",
    "![image.png](attachment:image.png)\n"
   ]
  },
  {
   "cell_type": "markdown",
   "metadata": {
    "editable": false
   },
   "source": [
    "<div class=\"alert alert-block alert-danger\">\n",
    "\n",
    "**The Cluster Will Get Slow** DSMLP and our cloud machines will get crowded and slow _before every deadline_.  This is completely predictable.  DSMLP can also get crowded due to deadlines in other courses.  You need to start early so you can avoid/work around these slowdowns.  Unless there's some kind of complete outage, we will not grant extensions because the servers are crowded.\n",
    "    \n",
    "</div>"
   ]
  },
  {
   "cell_type": "markdown",
   "metadata": {
    "editable": false
   },
   "source": [
    "## Getting Help\n",
    "\n",
    "You might run into trouble while doing this lab.  Here's how to get help:\n",
    "\n",
    "1.  Re-read the instructions and make sure you've followed them.\n",
    "2.  Try saving and reloading the notebook.\n",
    "3.  If it says you are not authenticated, go to the [the login section of the lab](#Logging-In-To-the-Course-Tools) and (re)authenticate.\n",
    "4.  If you get a `FileNotFoundError` make sure you've run all the code cells above your current point in the lab.\n",
    "4.  If you get an exception or stack dump, check that you didn't accidentally modify the contents of one of the python cells.\n",
    "5.  If all else fails, post a question to edstem/piazza.\n",
    "\n",
    "## Posting Answerable Questions on Edstem/Piazza\n",
    "\n",
    "If you want useful answers on edstem/piazza, you need to provide information that is specific enough for us to provide a useful answer.  Here's what we need:\n",
    "\n",
    "1.  Which part of which lab are you working on (use the section numbers)?\n",
    "2.  Which problem (copy and paste the _text_ of the question along with the number).\n",
    "\n",
    "If it's question about instructions:\n",
    "\n",
    "1.  Try to be as specific as you can about what is confusing or what you don't understand (e.g., \"I'm not sure if I should do _X_ or _Y_.\")\n",
    "\n",
    "If it's a question about an error while running code, then we need:\n",
    "\n",
    "1.  If you've committed anything, your github repo url.\n",
    "2.  If you've submitted a job with `cse142` you _must_ provide the job id.  It looks like this: `544e0cf2-4771-43c3-86f8-1c30d7af601f`.  With the id, we can figure out just about anything about your job.  Without it, we know nothing.\n",
    "3.  The _entire_ output you received.  There's no limit on how long an edstem/piazza post can be.  Give us all the information, not just the last few lines.  We like to scroll!\n",
    "\n",
    "For all of the above **paste the text** into the edstem/piazza question.  Please **do not provide screen captures**.  The course staff refuses to type in job ids found in screen shots.\n",
    "\n",
    "\n",
    "<div class=\"alert alert-block alert-danger\">\n",
    "\n",
    "**We Can't Answer Unanswerable Questions** If you don't follow these guidelines (especially about the github repo and the job id), we will probably not be able to answer your question on edstem/piazza.  We will archive it and ask you to re-post your question with the information we need.\n",
    "    \n",
    "</div>"
   ]
  },
  {
   "cell_type": "markdown",
   "metadata": {
    "editable": false
   },
   "source": [
    "## Keeping Your Lab Up-to-Date\n",
    "\n",
    "Occasionally, there will be changes made to the base repository after the\n",
    "assignment is released.  This may include bug fixes and updates to this document.  We'll post on piazza/edstem when an update is available.\n",
    "\n",
    "In those cases, you can use `./pull-updates` to pull the changes from upstream and merge them into your code.  You'll need to do this at a shell.  It won't work properly in the notebook.  Save your notebook in the browser first.\n",
    " \n",
    "Then, change to your lab directory and do\n",
    "\n",
    "```\n",
    "./pull-updates\n",
    "```\n"
   ]
  },
  {
   "cell_type": "markdown",
   "metadata": {
    "editable": false
   },
   "source": [
    "Then, reload this page in your browser."
   ]
  },
  {
   "cell_type": "markdown",
   "metadata": {
    "editable": false
   },
   "source": [
    "## Writing Code Outside Jupyter Notebook\n",
    "\n",
    "The code for some programming assignments could get pretty long.  If you'd like, you can develop outside of Jupyter Notebook.\n",
    "\n",
    "You can do this by removing the call to `code()` and replacing it with a file name.  Then `build()` will use the source code in the file.\n",
    "\n",
    "<div class=\"alert alert-block alert-warning\">\n",
    "\n",
    "**Don't overwrite your code**:  `code()` does some checks to try to avoid overwriting your code and will throw an exception if it found modifications to files it wrote earlier.  This seems to work pretty well, but I wouldn't trust it, so commit often.\n",
    "    \n",
    "</div>\n"
   ]
  },
  {
   "cell_type": "markdown",
   "metadata": {
    "editable": false
   },
   "source": [
    "## Using VSCode\n",
    "\n",
    "You can also develop remotely using Microsoft VSCode. You can find instructions from campus about how to do this on Datahub under \"Visual Studio (VS) Code\" at this link: https://support.ucsd.edu/services?id=kb_article_view&sysparm_article=KB0032269&sys_kb_id=01322d481b5ed514d1b0a935604bcb7a\n",
    "\n",
    "The TAs report that this works fine.\n",
    "\n",
    "A few things to note:\n",
    "\n",
    "1. That pages lists several ways of starting docker containers on the campus servers. The configuration for this class is a little unusual, and none of the other methods listed on that page have been tested for this class. I suspect they don't work, and we won't be fixing them.\n",
    "2. You'll need to be on campus or on the campus VPN.\n",
    "3. Using VSCode is not officially supported in this class. If it doesn't work for you, the TAs may be willing help you and you might have luck submitting a ticket to campus, but if you can't get it to wok, you'll need to fall back on working through Jupyter Notebook."
   ]
  },
  {
   "cell_type": "markdown",
   "metadata": {
    "editable": false
   },
   "source": [
    "## How To Use This Document\n",
    "\n",
    "You will use Jupyter Notebook to complete this lab.  You should be able to do much of this lab without leaving Jupyter Notebook.  The main exception will be some parts of the some of the programming assignments.  The instructions will make it clear when you should use the terminal.\n",
    "\n",
    "### Logging In\n",
    "\n",
    "If you haven't already, you can go to [the login section of the lab](#Logging-In-To-the-Course-Tools) and follow the instructions to login into the course infrastructure.\n",
    "\n",
    "### Running Code\n",
    "\n",
    "Jupyter Notebooks are made up of \"cells\".  Some have Markdown-formatted text in them (like this one).  Some have Python code (like the one below).\n",
    "\n",
    "For code cells, you press `shift-return` to execute the code.  Try it below:"
   ]
  },
  {
   "cell_type": "code",
   "execution_count": null,
   "metadata": {
    "editable": false
   },
   "outputs": [],
   "source": [
    "print(\"I'm in python\")"
   ]
  },
  {
   "cell_type": "markdown",
   "metadata": {
    "editable": false
   },
   "source": [
    "Code cells can also execute shell commands using the `!` operator.  Try it below:"
   ]
  },
  {
   "cell_type": "code",
   "execution_count": null,
   "metadata": {
    "editable": false
   },
   "outputs": [],
   "source": [
    "!echo \"I'm in a shell\""
   ]
  },
  {
   "attachments": {
    "image.png": {
     "image/png": "[encoded data removed]"
    }
   },
   "cell_type": "markdown",
   "metadata": {
    "editable": false
   },
   "source": [
    "### Telling What The Notebook is Doing\n",
    "\n",
    "The notebook will only run one cell at a time, so if you press `shift-return` several times, the cells will wait for one another.  You can tell that a cell is waiting if it there's a `*` in the `[]` to the left the cell:\n",
    "\n",
    "![image.png](attachment:image.png)\n"
   ]
  },
  {
   "attachments": {
    "image.png": {
     "image/png": "[encoded data removed]"
    }
   },
   "cell_type": "markdown",
   "metadata": {
    "editable": false
   },
   "source": [
    "You'll can also tell _where_ the notebook is executing by looking at the table of contents on the left.  The section with the currently-executing cell will be red:\n",
    "\n",
    "![image.png](attachment:image.png)"
   ]
  },
  {
   "attachments": {
    "image.png": {
     "image/png": "[encoded data removed]"
    }
   },
   "cell_type": "markdown",
   "metadata": {
    "editable": false
   },
   "source": [
    "### What to Do If Jupyter Notebook It Gets Stuck\n",
    "\n",
    "First, check if it's actually stuck: Some of the cells take a while, but they will usually provide some visual sign of progress.  If _nothing_ is happening for more than 10 seconds, it's probably stuck.\n",
    "\n",
    "To get it unstuck, you stop execution of the current cell with the \"interrupt button\":\n",
    "\n",
    "![image.png](attachment:image.png)"
   ]
  },
  {
   "attachments": {
    "image.png": {
     "image/png": "[encoded data removed]"
    }
   },
   "cell_type": "markdown",
   "metadata": {
    "editable": false
   },
   "source": [
    "You can also restart the underlying python instance (i.e., the confusingly-named \"kernel\" which is not the same thing as the operating system kernel) with the restart button:\n",
    "\n",
    "![image.png](attachment:image.png)\n",
    "\n",
    "Once you do this, all the variables defined by earlier cells are gone, so you may get some errors.  You may need to re-run the cells in the current section to get things to work again.\n",
    "\n",
    "You can also try reloading the web page.  That will leave Python kernel intact, but it can help with some problems."
   ]
  },
  {
   "attachments": {
    "image.png": {
     "image/png": "[encoded data removed]"
    }
   },
   "cell_type": "markdown",
   "metadata": {
    "editable": false
   },
   "source": [
    "### Common Errors and Non-Errors\n",
    "\n",
    "1.  If you get `sh: 0: getcwd() failed: no such file or directory`, restart the kernel.\n",
    "2.  If you get `INFO:MainThread:numexpr.utils:Note: NumExpr detected 40 cores but \"NUMEXPR_MAX_THREADS\" not set, so enforcing safe limit of 8.`.  It's not a real error.  Ignore it. \n",
    "3.  If you get a prompt asking `Do you want to cancel them and run this job?` but you can't reply because you can't type into an output cell in Jupyter notebook, replace `cse142 job run` with `cse142 job run --force`. (see useful tip below.)\n",
    "4.  If you get an `Error: Your request failed on the server: 500 Server Error: Internal Server Error for url=http://cse142l-dev.wl.r.appspot.com/file`, trying running the job again.\n",
    "5.  Sometimes `cse142 job run` will just sit there and seemingly do nothing.  Weirdly, interrupting the kernel (button above) seems to jolt it awake and cause it to continue.\n",
    "6.  These errors while display CFGs are harmless:\n",
    "![image.png](attachment:image.png)\n",
    "6.  Warnings like this in pink about deprecated or ignored arguments are harmless:"
   ]
  },
  {
   "attachments": {
    "image.png": {
     "image/png": "[encoded data removed]"
    }
   },
   "cell_type": "markdown",
   "metadata": {
    "editable": false
   },
   "source": [
    "![image.png](attachment:image.png)"
   ]
  },
  {
   "cell_type": "markdown",
   "metadata": {
    "editable": false
   },
   "source": [
    "7. If you get `http.cookiejar.LoadError: '/home/youruserrname/.djr-cookies.txt does not look like like a Netscape format cookies file.` remove the file and re-authenticate.\n",
    "8. If you get \n",
    "\n",
    "```\n",
    "You already have one or more jobs submitted or running.\n",
    "a26fc9cc-ba36-4f49-89ea-1f36b16b5ea4    you@ucsd.edu    CREATED    2022-10-07 23:46:18.709330+00:00    true\n",
    "Do you want to cancel them and run this job? [y/N]: \n",
    "```\n",
    "\n",
    "You can run `cse142 job run --lab intro --take NOTHING true` and it should fix it.\n",
    "\n",
    "9. If you get a big list of files that ends like this:\n",
    "\n",
    "```\n",
    ".cfiddle/builds/build/MORE_INCLUDES_-I_cse142L_CSE141pp-Tool-Moneta_moneta__nibble/nibble_29.so\n",
    ".cfiddle/builds/build/MORE_INCLUDES_-I_cse142L_CSE141pp-Tool-Moneta_moneta__nibble/nibble_76.so\n",
    "If you want to upload more than 200 files, pass '--input-file-count-limit '.\n",
    "```\n",
    "\n",
    "It means you have too many files in your local directory.  You can delete some of them or do what the error says and pass a large value to `--input-file-count-limit` (although that will make running jobs quite slow for you).  A good candidate for deletion is your `.cfiddle` folder.  You remove but you may need re-run some of your `build()` cells afterwards:"
   ]
  },
  {
   "cell_type": "code",
   "execution_count": null,
   "metadata": {
    "editable": false
   },
   "outputs": [],
   "source": [
    "#!rm -rf .cfiddle"
   ]
  },
  {
   "attachments": {
    "image.png": {
     "image/png": "[encoded data removed]"
    }
   },
   "cell_type": "markdown",
   "metadata": {
    "editable": false
   },
   "source": [
    "10.  If you get this\n",
    "\n",
    "![image.png](attachment:image.png)\n",
    "\n",
    "This means that cfiddle's `code()` function detected a change to the file mentioned (`foo.cpp` in the error above) and it is refusing to overwrite it, so it doesn't destroy your changes.  This can happen, for example, if you've edited the file in VSCode.  You can either \n",
    "\n",
    "    1. Delete the file (`rm foo.cpp`) and re-execute the cell.\n",
    "    2. Delete the file, and replace the argument to `code()` with the new contents of the file, so you can keep editing in Jupyter notebook.\n",
    "    3. Keep editing the file externally and replace the call to `code()` with the file name."
   ]
  },
  {
   "attachments": {
    "image.png": {
     "image/png": "[encoded data removed]"
    }
   },
   "cell_type": "markdown",
   "metadata": {
    "editable": false
   },
   "source": [
    "### Useful Tips\n",
    "\n",
    "1.  If you need to edit a cell, but you can't you can unlock it by pressing this button in the tool bar (although you probably shouldn't do this because it might make the lab work incorrectly.  A better choice is to copy and paste the cell, _and then_ unlock the copy):\n",
    "![image.png](attachment:image.png)"
   ]
  },
  {
   "attachments": {
    "image.png": {
     "image/png": "[encoded data removed]"
    }
   },
   "cell_type": "markdown",
   "metadata": {
    "editable": false
   },
   "source": [
    "### The Embedded Code\n",
    "\n",
    "The code embedded in the lab falls into two categories:\n",
    "\n",
    "1.  Code you need to edit and understand.\n",
    "2.  Code that you do not need to edit or understand -- it's just there to display something for you.\n",
    "\n",
    "For code in the first category, the lab will make it clear that you need to study, modify, and/or run the code.  If we don't explicitly ask you to do something, you don't need to.\n",
    "\n",
    "Most of the code in the second category is for drawing graphs.  You can just run it with shift-return to the see the results.  If you are curious, it's mostly written with `Pandas` and `matplotlib`.   These cells should be un-editable.  However, if you want to experiment with them, you can copy _the contents_ of the cell into a new cell and do whatever you want (If you copy the cell, the copy will also be uneditable).\n",
    "\n",
    "<div class=\"alert alert-block alert-info\">\n",
    "\n",
    "**Most Cells are Immutable** Many of the cells of this notebook are uneditable. The only ones you should edit are some of the code cells and the text cells with questions in them.\n",
    "</div>\n",
    "\n",
    "<div class=\"alert alert-block alert-info\">\n",
    "\n",
    "**Pro Tip** The \"carrot\" icon in the lower right (shown below) will open a scratch pad area.  It can be a useful place to do math (or whatever else you want).\n",
    "    \n",
    "![image.png](attachment:image.png)\n",
    "</div>"
   ]
  },
  {
   "cell_type": "markdown",
   "metadata": {
    "editable": false
   },
   "source": [
    "### Showing Your Work\n",
    "\n",
    "Several questions ask you to show your work for calculations.  We don't need anything fancy.  Many of the questions ask you to compute something based on results of an experiment.  Your experimental results will be different than others', so your answer will be different as well.\n",
    "\n",
    "To make it possible to grade your work (and give you partial credit), we need to know where your answer came from.  This is why you need to show your work.  For instance this would be fine as answer to \"On average, how many weeks do you have per lab?\":\n",
    "\n",
    "```\n",
    "Weeks in quarter/# of labs = 10/5 = 2 weeks/lab\n",
    "```\n",
    "\n",
    "2 significant figures is sufficient in all cases, but you can include more, if you want.\n",
    "\n",
    "If you are feeling fancy, you can use LaTex, but it's not at all required.\n",
    "\n",
    "When it's appropriate, you can also paste in images.  However, Jupyter Notebook is flaky about it.  Save frequently."
   ]
  },
  {
   "attachments": {
    "image-2.png": {
     "image/png": "[encoded data removed]"
    },
    "image-3.png": {
     "image/png": "[encoded data removed]"
    },
    "image.png": {
     "image/png": "[encoded data removed]"
    }
   },
   "cell_type": "markdown",
   "metadata": {
    "editable": false
   },
   "source": [
    "###  Saving Your Work and Making Sure Your Connected to the Server\n",
    "\n",
    "In theory, Jupyter Notebook saves automatically.  However, a few things can go wrong:\n",
    "\n",
    "If your Datahub server shuts down, you can still edit your notebook, but you won't be able to save it.  \n",
    "\n",
    "![image-3.png](attachment:image-3.png)\n",
    "\n",
    "You can tell your server has stopped if there's a red box in the upper right that says \"Not Connected\":\n",
    "\n",
    "![image-2.png](attachment:image-2.png)\n",
    "\n",
    "If this happens, you should stop working, restart your server and reload the lab.\n",
    "\n",
    "In any case, it's a good idea to save frequently:\n",
    "\n",
    "![image.png](attachment:image.png)\n"
   ]
  },
  {
   "cell_type": "markdown",
   "metadata": {
    "editable": false
   },
   "source": [
    "### Answering Questions\n",
    "\n",
    "Throughout this document, you'll see some questions (like the one below).  You can double click on them to edit them and fill in your answer.  Try not to mess up the formatting (so it's easy for us to grade), but at least make sure your answer shows up clearly.  When you are done editing, you can `shift-return` to make it pretty again.\n",
    "\n",
    "A few tips, pointers, and caveats for answering questions:\n",
    "\n",
    "1. The answers are all in [github-flavored markdown](https://guides.github.com/features/mastering-markdown/) with some html sprinkled in.  Leave the html alone.\n",
    "2. Many answers require you to fill in a table, and many of the `|` characters will be missing.  You'll need to add them back.\n",
    "3. The HTML needs to start at the beginning of a line.  If there are spaces before a tag, it won't render properly.  If you accidentally add white space at the beginning of a line with an html tag on it, you'll need to fix it.\n",
    "4. Text answers also need to start at the beginning of a line, otherwise they will be rendered as code.\n",
    "5. Press `shift-return` or `option-return` to render the cell and make sure it looks good.\n",
    "6. There needs to be a blank line between html tags and markdown.  Otherwise, the markdown formatting will not appear correctly.\n",
    "\n",
    "\n",
    "You'll notice that there are three kinds of questions: \"Correctness\", \"Completeness\", and \"Optional\".  You need to provide an answer to the \"Completeness\" questions, but you won't be graded on its correctness.  You'll need to answer \"Correctness\" questions correctly to get credit.  The \"Optional\" questions are optional."
   ]
  },
  {
   "cell_type": "markdown",
   "metadata": {
    "editable": false
   },
   "source": [
    " \n"
   ]
  },
  {
   "cell_type": "markdown",
   "metadata": {
    "editable": false
   },
   "source": [
    "# Logging In To the Course Tools"
   ]
  },
  {
   "cell_type": "markdown",
   "metadata": {
    "editable": false
   },
   "source": [
    "    \n",
    "In the course you will use some specialized tools to let you perform detailed measurements of program behavior.  To use them you need to login with your `@ucsd.edu` email address using the instructions below. **You need to use the email address that appears on the course roster.  That's the email address we created an account for.  In almost all cases, this is your `@ucsd.edu` email address.**\n",
    "\n",
    "You'll probably only have to do this once this quarter, but if you get an error about not being authenticated, just re-authenticate.  You can return to this notebook (or any other of the lab notebooks) to login at any time.\n",
    "\n",
    "Here's what to do:\n",
    "\n",
    "1.  Enter your `@ucsd.edu` email address (without the '<>') in quotes after `login` below.  It'll take a few seconds to load.\n",
    "2.  Click the google \"G\" login button below and login with your `@ucsd.edu` email address. \n",
    "3. **Click the google button regardless of whether it says \"sign in\" or \"signed in\".  Then be sure to select your `@ucsd.edu account` if it shows you multiple google acocunts**\n",
    "4. You'll see a very long string numbers an letters appear above.  Click \"Copy it\" to copy it.\n",
    "\n",
    "**Note:** If it doesn't give you a choice about which account to log into and authentication fails, that means you are logged into a single Google account and that account is _not_ your `@ucsd.edu` account.  You'll have to log into your `@ucsd.edu` through Gmail or through Chrome's account manager and then try again.\n",
    "\n",
    "<div class=\"alert alert-block alert-danger\">\n",
    "\n",
    "**Use Chrome** The login process doesn't seem to work properly with Safari or Firefox.  Use Chrome to login.  You can use any of the other compatible browsers you want for the doing the rest of the lab, and it should be fine.\n",
    "\n",
    "</div>\n",
    "\n"
   ]
  },
  {
   "cell_type": "code",
   "execution_count": null,
   "metadata": {
    "editable": true
   },
   "outputs": [],
   "source": [
    "login(\"Your @ucsd.edu email address\") \n"
   ]
  },
  {
   "cell_type": "markdown",
   "metadata": {
    "editable": false
   },
   "source": [
    "Next step:  Paste it below between the quote marks.  Press `shift-return`."
   ]
  },
  {
   "cell_type": "code",
   "execution_count": null,
   "metadata": {
    "editable": true
   },
   "outputs": [],
   "source": [
    "token(\"your_token\") \n"
   ]
  },
  {
   "cell_type": "markdown",
   "metadata": {
    "editable": false
   },
   "source": [
    "It should have replied with\n",
    "\n",
    "``` \n",
    "You are authenticated as <your email>\n",
    "```\n",
    "\n",
    "You are now logged in!  Try submitting a job: "
   ]
  },
  {
   "cell_type": "code",
   "execution_count": null,
   "metadata": {
    "editable": false
   },
   "outputs": [],
   "source": [
    "!cse142 job run \"echo Hello World\""
   ]
  },
  {
   "cell_type": "markdown",
   "metadata": {
    "editable": false
   },
   "source": [
    "If you see \"Hello World\", you're all set.  Proceed with the lab!\n",
    "\n",
    "<div class=\"alert alert-block alert-danger\">\n",
    "\n",
    "Delete your token from the above cell (`token(\"...\")`). Because your token is essentially your username and password combined, you should treat it like a password or ssh private key.  **Sharing your token with another student or possessing another student's token is an AI violation**.\n",
    "</div>"
   ]
  },
  {
   "cell_type": "markdown",
   "metadata": {
    "editable": false
   },
   "source": [
    " \n"
   ]
  },
  {
   "cell_type": "markdown",
   "metadata": {
    "editable": false
   },
   "source": [
    "# Grading"
   ]
  },
  {
   "cell_type": "markdown",
   "metadata": {
    "editable": false
   },
   "source": [
    "Your grade for this lab will be based on the following components.\n",
    "\n",
    "| Part                       | value |\n",
    "|----------------------------|-------|\n",
    "| Reading quiz               | 3%    |\n",
    "| Jupyter Notebook           | 55%   |\n",
    "| Programming Assignment     | 40%   |\n",
    "| Post-lab survey.           | 2%    |\n",
    "\n",
    "* No late work or extensions will be allowed.\n",
    "* We will grade 5 of the \"completeness\" problems.  They are worth 3 points each.  We will grade all of the \"correctness\" questions.\n",
    "* You'll follow the directions at the end of the lab to submit the lab write up and the programming assignment through gradescope. \n",
    "* Please check gradescope for exact due dates."
   ]
  },
  {
   "cell_type": "markdown",
   "metadata": {
    "editable": false
   },
   "source": [
    "# A Note About The Examples"
   ]
  },
  {
   "cell_type": "markdown",
   "metadata": {
    "editable": false
   },
   "source": [
    "There are a bunch of short functions in the examples in the lab.  Their purpose is to illustrate the impact of different compiler optimizations in a clear way, and that is what I designed them for (often by trial and error).  As a result, none of them do anything _useful_.   Please don't expend effort trying to understand what the functions are doing or what they are for, there's nothing to find :-).\n",
    "\n",
    "If you look closely, you'll also see that I compile some of the functions using complex sets of compiler flags.  I do this to highlight specific optimizations, but it's not usually helpful or necessary in the real world.\n",
    "GCC and other compilers provide a [huge number of flags](https://gcc.gnu.org/onlinedocs/gcc/Optimize-Options.html) that control how the compiler optimizes.  Using these flags is _almost never necessary_ in the real world.  When you need to ship your code, just compile it with `-O3`.\n",
    "\n"
   ]
  },
  {
   "cell_type": "markdown",
   "metadata": {
    "editable": false
   },
   "source": [
    "# New Tools"
   ]
  },
  {
   "cell_type": "markdown",
   "metadata": {
    "editable": false
   },
   "source": [
    "There are few new tools we will be using in this lab."
   ]
  },
  {
   "cell_type": "markdown",
   "metadata": {
    "editable": false
   },
   "source": [
    "## Local Execution\n",
    "\n",
    "Running code in cloud can be slow, which can be a pain when you are debugging and trying things out.  To make this faster, you can run a job locally like so:"
   ]
  },
  {
   "cell_type": "code",
   "execution_count": null,
   "metadata": {
    "editable": false
   },
   "outputs": [],
   "source": [
    "hello = build(code(r\"\"\"\n",
    "#include<iostream>\n",
    "\n",
    "extern \"C\"\n",
    "void hello() {\n",
    "    std::cout << \"hello\\n\";\n",
    "}\n",
    "\"\"\"))\n",
    "\n",
    "with local_execution():\n",
    "    run(hello, \"hello\")"
   ]
  },
  {
   "cell_type": "markdown",
   "metadata": {
    "editable": false
   },
   "source": [
    "You can try commenting out the `with` statement and seeing how much longer it take.\n",
    "\n",
    "\n",
    "<div class=\"alert alert-block alert-danger\">\n",
    "\n",
    "**Performance is meaningless with local execution**:  Since the Datahub servers are virtualized and shared, performance can vary wildly.  Don't try to tune/optimize performance while running code locally.\n",
    "    \n",
    "</div>"
   ]
  },
  {
   "cell_type": "markdown",
   "metadata": {
    "editable": false
   },
   "source": [
    "## Control Flow Graphs"
   ]
  },
  {
   "cell_type": "markdown",
   "metadata": {
    "editable": false
   },
   "source": [
    "Control flow graphs (CFGs) are a common way to visually inspect the structure of _one function_ in a program.  \n",
    "\n",
    "A CFG is a collection of nodes and edges.  Each node is a _basic block_ -- a sequence of instructions that always execute together.  This means that a basic block ends with either 1) a branch, 2) a jump, or 3) the target of a branch or jump.  The edges in the CFG are possible _control transfers_ between basic blocks.  So, the CFG shows all possible paths of control flow through the function.\n",
    "\n",
    "CFiddle can generate CFGs for most functions.   Take a look at this code then run the cell to see it's CFG:"
   ]
  },
  {
   "cell_type": "code",
   "execution_count": null,
   "metadata": {
    "editable": false,
    "init_cell": true
   },
   "outputs": [],
   "source": [
    "if_ex = build(code(r\"\"\"\n",
    "#include<cstdint>\n",
    "#include<cstdlib>\n",
    "\n",
    "extern \"C\" \n",
    "int if_ex(uint64_t array, unsigned long int size) {\n",
    "    if (size == 0) {\n",
    "        return 0;\n",
    "    }\n",
    "    return array + 1;\n",
    "}\n",
    "\"\"\", file_name=\"if_ex.cpp\"), arg_map(DEBUG_FLAGS=\"-g0\"))\n",
    "\n",
    "compare([if_ex[0].source(\"if_ex\"),\n",
    "         if_ex[0].cfg(\"if_ex\", remove_assembly=True)])\n"
   ]
  },
  {
   "attachments": {
    "image.png": {
     "image/png": "[encoded data removed]"
    }
   },
   "cell_type": "markdown",
   "metadata": {
    "editable": false
   },
   "source": [
    "<div class=\"alert alert-block alert-info\">\n",
    "\n",
    "**This error is not an error**:  You'll get this error every time you render a CFG:\n",
    "![image.png](attachment:image.png)    \n",
    "    \n",
    "You can ignore it.\n",
    "    \n",
    "There are also sometimes stray gray boxes (like above).  You can ignore those too.\n",
    "    \n",
    "</div>\n"
   ]
  },
  {
   "cell_type": "markdown",
   "metadata": {
    "editable": false
   },
   "source": [
    "The CFG shows that there are two paths through the function depending on the value of the `if` condition.  So there are two paths along which _control_ can _flow_.  The green and red lines correspond to the taken and not-taken outcomes of the branch at the end of the top block.  We'll discuss them in more detail below.\n",
    "\n",
    "Here's a more complex piece of code (below the question).  Study it, answer the question, and then run the code cell below.\n",
    "\n",
    "**Note:** Remember that you can paste images into a text cell while it's in edit mode."
   ]
  },
  {
   "cell_type": "markdown",
   "metadata": {
    "cse142L.is_response": true,
    "cse142L.points": 1,
    "cse142L.question_type": "completeness",
    "deletable": false,
    "editable": true
   },
   "source": [
    "<div class=\"question completeness\">\n",
    "\n",
    "<div class=\"question-text\">\n",
    "    \n",
    "What do you think the CFG for the code below will look like (describe it briefly or use ASCII art or paste in screen capture)?</div>\n",
    "\n",
    "<div class=\"answer\">\n",
    "\n",
    "```\n",
    "ASCII art or text drawing/description of the CFG here.  \n",
    "    \n",
    "```\n",
    "    \n",
    "**How many paths through the code are there?**\n",
    "\n",
    "\n",
    "\n",
    "Or paste an image out here (outside the triple backticks).\n",
    "\n",
    "</div>\n",
    "</div>"
   ]
  },
  {
   "cell_type": "code",
   "execution_count": null,
   "metadata": {
    "editable": false,
    "init_cell": true
   },
   "outputs": [],
   "source": [
    "build(code(r\"\"\"\n",
    "#include<cstdint>\n",
    "#include<cstdlib>\n",
    "\n",
    "extern \"C\"\n",
    "uint64_t if_else_if_else(uint64_t array, unsigned long int size) {\n",
    "    if (size/2) {\n",
    "        return NULL;\n",
    "    } else if (size/3) {\n",
    "        return size/3;\n",
    "    } else {\n",
    "        return array;\n",
    "    }\n",
    "}\n",
    "\"\"\"))[0].cfg(\"if_else_if_else\")"
   ]
  },
  {
   "attachments": {
    "image.png": {
     "image/png": "[encoded data removed]"
    }
   },
   "cell_type": "markdown",
   "metadata": {
    "cse142L.is_response": true,
    "cse142L.points": 2,
    "cse142L.question_type": "correctness",
    "deletable": false,
    "editable": true
   },
   "source": [
    "<div class=\"question correctness points-2\">\n",
    "    \n",
    "<div class=\"question-text\">\n",
    "\n",
    "In the code below, modify `foo()` so that its CFG looks like this (you can edit the code as many times as you'd like):\n",
    "\n",
    "</div>\n",
    "\n",
    "![image.png](attachment:image.png)\n",
    "\n",
    "</div>"
   ]
  },
  {
   "cell_type": "code",
   "execution_count": null,
   "metadata": {
    "cse142L.is_response": true,
    "deletable": false,
    "editable": true
   },
   "outputs": [],
   "source": [
    "\n",
    "build(code(r\"\"\"\n",
    "extern \"C\" \n",
    "int foo(int a) {\n",
    "    return 0;\n",
    "}\n",
    "\"\"\"))[0].cfg(\"foo\", remove_assembly=True)"
   ]
  },
  {
   "cell_type": "markdown",
   "metadata": {
    "editable": false
   },
   "source": [
    "Finally, take a look at this code and the resulting CFG, and then answer the question below.  As you think about the question, look at the code and figure out what decision the program will need to make.  Each of these decisions maps to node with two out-going edges.  If you do that starting at the top of the loop, the role of each basic block should become clear."
   ]
  },
  {
   "cell_type": "code",
   "execution_count": null,
   "metadata": {
    "editable": false
   },
   "outputs": [],
   "source": [
    "loop_if = build(code(r\"\"\"\n",
    "#include<cstdint>\n",
    "#include<cstdlib>\n",
    "\n",
    "extern \"C\" \n",
    "uint64_t loop_if(uint64_t array, unsigned long int size) {\n",
    "\tuint64_t t= 0;\n",
    "\tint k = 0;\n",
    "\tfor(uint i = 0; i < size; i++) {\n",
    "\t\tif (i-size != 0) {\n",
    "\t\t\tk = 4;   //  L1\n",
    "\t\t} else if (i+size != 0) { // L2\n",
    "\t\t\tk = 5;\n",
    "\t\t}\n",
    "\t}\n",
    "\treturn t + k; // L3\n",
    "\t\n",
    "}\n",
    "\n",
    "\"\"\"))\n",
    "\n",
    "compare([loop_if[0].source(\"loop_if\"), loop_if[0].cfg(\"loop_if\", number_nodes=True, remove_assembly=True)])"
   ]
  },
  {
   "cell_type": "markdown",
   "metadata": {
    "cse142L.is_response": true,
    "cse142L.points": 3,
    "cse142L.question_type": "correctness",
    "deletable": false,
    "editable": true
   },
   "source": [
    "<div class=\"question correctness points-3\">\n",
    "    \n",
    "<div class=\"question-text\">Fill out the table below to show which nodes in the CFG correspond to the labeled line in the source code:</div>\n",
    "    \n",
    "<div class=\"answer\">\n",
    "\n",
    "| Line | Node | \n",
    "|------|------|\n",
    "| L1   |       \n",
    "| L2   |       \n",
    "| L3   |       \n",
    "    \n",
    "</div>\n",
    "</div>"
   ]
  },
  {
   "cell_type": "markdown",
   "metadata": {
    "editable": false
   },
   "source": [
    "\n",
    "## Call Graphs"
   ]
  },
  {
   "cell_type": "markdown",
   "metadata": {
    "editable": false
   },
   "source": [
    "\n",
    "CFGs show the control flow _within a single function_ , but they cannot tell us much about the flow of control through an entire program.  To understand how functions call one another, we will use _call graphs_.\n",
    "\n",
    "In a call graph, the nodes are functions, and an edge exists from one function to another, if the first function calls the second.\n",
    "\n",
    "We will build call graphs by running the program and keeping track of which function calls occur.  We'll use the `gprof` profiler to collect the data, which means that building a call graph is a three stop process:\n",
    "\n",
    "1.  Compile the program with `gprof` enabled.\n",
    "2.  Run the program on a representative input.\n",
    "3.  Generate the call graph for that execution of the program.\n",
    "\n",
    "Here's an example:"
   ]
  },
  {
   "cell_type": "markdown",
   "metadata": {
    "cse142L.is_response": true,
    "cse142L.points": 1,
    "cse142L.question_type": "completeness",
    "deletable": false,
    "editable": true
   },
   "source": [
    "\n",
    "<div class=\"question completeness\">\n",
    "\n",
    "<div class=\"question-text\">\n",
    "    \n",
    "What do you think the call graph for the code below will look like (describe it briefly or use ASCII art or paste in screen capture)?</div>\n",
    "\n",
    "<div class=\"answer\">\n",
    "\n",
    "```\n",
    "ASCII art or text drawing/description of the CFG here. \n",
    "    \n",
    "```\n",
    "Or paste an image out here (outside the triple backticks).\n",
    "\n",
    "</div>\n",
    "</div>"
   ]
  },
  {
   "cell_type": "code",
   "execution_count": null,
   "metadata": {
    "cse142L.is_response": true,
    "deletable": false,
    "editable": true
   },
   "outputs": [],
   "source": [
    "\n",
    "call_graph(code(r\"\"\"\n",
    "extern \"C\" {\n",
    "int one(int a);\n",
    "int two(int a);\n",
    "int three(int a);\n",
    "\n",
    "int main(int argc, char * argv[]) {\n",
    "    for(int i = 0; i < 100; i++) one(i);\n",
    "    return one(4);\n",
    "}\n",
    "\n",
    "int one(int a) {\n",
    "    if (a & 1)\n",
    "        return two(a);\n",
    "    else\n",
    "        return three(a);\n",
    "}\n",
    "\n",
    "int two(int a) {\n",
    "    return three(a);\n",
    "}\n",
    "\n",
    "int three(int a) {\n",
    "    return a;\n",
    "}\n",
    "}\n",
    "\"\"\"), root=\"one\")"
   ]
  },
  {
   "cell_type": "markdown",
   "metadata": {
    "editable": false
   },
   "source": [
    "The call graph has a bunch of information in it regarding how many times each function was called and how often a function was called from one location rather than another, but for now, we'll just focus on which function called which."
   ]
  },
  {
   "cell_type": "markdown",
   "metadata": {
    "cse142L.is_response": true,
    "cse142L.points": 1,
    "cse142L.question_type": "completeness",
    "deletable": false,
    "editable": true
   },
   "source": [
    "<div class=\"question completeness\">\n",
    "\n",
    "<div class=\"question-text\">Modify the code above to add a loop to the call graph (but be sure the function still terminates).  Describe what you did below.</div>\n",
    "\n",
    "<div class=\"answer\">\n",
    "    \n",
    "</div>\n",
    "<div>\n",
    "   "
   ]
  },
  {
   "cell_type": "markdown",
   "metadata": {
    "editable": false
   },
   "source": [
    "Call graphs can reveal the internal workings of libraries.  For instance, take a look at the function below and answer this question:"
   ]
  },
  {
   "cell_type": "markdown",
   "metadata": {
    "cse142L.is_response": true,
    "cse142L.points": 1,
    "cse142L.question_type": "completeness",
    "deletable": false,
    "editable": true
   },
   "source": [
    "<div class=\"question completeness\">\n",
    "\n",
    "<div class=\"question-text\">\n",
    "\n",
    "How deep do you think the call graph is (i.e., how long is the longest chain of one function calling another, calling another, etc.)?  How many different functions do you think are invoked? How many function calls are made in the course of running the program?  (It's OK if you have no concrete way to answer this.  But think about the code you've written and what reasonable values might be.)\n",
    "    \n",
    "</div>\n",
    "    \n",
    "<div class=\"answer\">\n",
    "\n",
    "1. How deep is the graph?:\n",
    "\n",
    "2. How many different functions are called?:\n",
    "    \n",
    "3. How many function calls are made?:\n",
    "\n",
    "</div>\n",
    "\n",
    "</div>\n"
   ]
  },
  {
   "cell_type": "code",
   "execution_count": null,
   "metadata": {
    "editable": false
   },
   "outputs": [],
   "source": [
    "call_graph(code(r\"\"\"\n",
    "#include<algorithm>\n",
    "\n",
    "extern \"C\" int one(int a);\n",
    "\n",
    "int main(int argc, char * argv[]) {\n",
    "    return one(4);\n",
    "}\n",
    "#define ARRAY_SIZE (16*1024)\n",
    "extern \"C\"  int one(int a) {\n",
    "    int * array = new int[ARRAY_SIZE];\n",
    "    std::sort(array, &array[ARRAY_SIZE]);\n",
    "    return array[a];\n",
    "}\n",
    "\n",
    "\"\"\"), root=\"one\", opt=\"-O0\")"
   ]
  },
  {
   "cell_type": "markdown",
   "metadata": {
    "editable": false
   },
   "source": [
    "Wow, what a mess!  \n",
    "\n",
    "You can double click on the image to zoom in and pan around.  You'll see lots of functions called many, many times, and each of those function calls requires a few extra instructions (e.g., to call the function and return from it.)\n",
    "\n",
    "This seems shockingly inefficient.  Someone should really clean that up!\n",
    "\n",
    "This kind of complex, deep call graph is very common in modern object-oriented programming languages.  "
   ]
  },
  {
   "cell_type": "markdown",
   "metadata": {
    "cse142L.is_response": true,
    "cse142L.question_type": "optional",
    "deletable": false,
    "editable": true
   },
   "source": [
    "<div class=\"question optional\">\n",
    "<div class=\"question-text\">\n",
    "Modify the code to use other parts of the standard template library (STL).  For instance, you could create and initialize a `std::vector`  or an `std::list`.\n",
    "</div>\n",
    "<div class=\"answer\">\n",
    "What did you find?\n",
    "</div>\n",
    "</div>"
   ]
  },
  {
   "cell_type": "markdown",
   "metadata": {
    "editable": false
   },
   "source": [
    "## Looking At Assembly"
   ]
  },
  {
   "cell_type": "markdown",
   "metadata": {
    "editable": false
   },
   "source": [
    "CFGs and call graphs are good tools for looking at the high-level structure and behavior of programs, but we also need to understand what's going on at a finer level:  Inside the basic blocks.  To do that, we'll have to look at the assembly language that the compiler generates.\n",
    "\n",
    "The lectures in 142 provided an overview of the x86 assembly and our main goal in both courses is that you will be able to look at some x86 assembly and (with the help of google) get _some idea_ of what is going on.\n",
    "\n",
    "<div class=\"alert alert-block alert-danger\">\n",
    "\n",
    "**Use the Slides, Luke! (and google!):** This lab doesn't contain everything you need to know about x86 assembly.  Please look back over the slides from 142 and relevant parts of the textbook for more details, especially about instruction suffixes and the register file.  Google is a good resource as well:  Searching for \"x86 _inst name_ \" will get you information about any instruction.\n",
    "</div>"
   ]
  },
  {
   "cell_type": "markdown",
   "metadata": {
    "editable": false
   },
   "source": [
    "### The Basics"
   ]
  },
  {
   "cell_type": "markdown",
   "metadata": {
    "editable": false
   },
   "source": [
    "We'll start simple by revisiting the `if_ex()` function we saw earlier (run the cell):"
   ]
  },
  {
   "cell_type": "code",
   "execution_count": null,
   "metadata": {
    "editable": false,
    "init_cell": true
   },
   "outputs": [],
   "source": [
    "compare([if_ex[0].source(\"if_ex\"), if_ex[0].asm(\"if_ex\")])\n",
    "display(if_ex[0].cfg(\"if_ex\"))"
   ]
  },
  {
   "cell_type": "markdown",
   "metadata": {
    "editable": false
   },
   "source": [
    "Take some time to study the source code (top left) and assembly output (top right) and how it corresponds to the CFG annotated with the assembly (bottom).\n",
    "\n",
    "A few things to note:\n",
    "\n",
    "1.  Comments in assembly start with `;`\n",
    "2.  Things like `.L3:` that end in `:` are labels in the assembly and can be used as the \"targets\" of branches.  Some of them (e.g., `if_ex:`) mark the beginnings of functions.\n",
    "3.  Other things like `.cfi_endproc` are assembly directives.  They provide metadata about the instruction, functions, and symbols.  They don't affect execution.  We will mostly ignore them.\n",
    "4. In x86 the first 6 function arguments are passed in %rdi, %rsi, %rdx, %rcx, %r8, and %r9.\n",
    "\n",
    "Finally, note how the assembly in the CFG is different than the assembly from the compiler. \n",
    "\n",
    "The assembly on the right is the actual x86 assembly that the compiler generated.  The code in the CFG is equivalent, but it's not x86 assembly.  We'll call it _pseudo-assembly_.  It was generated by a _disassembler_ from the compiled binary.  There's a one-to-one correspondence between the assembly and the pseudo-assembly but there are some important differences:\n",
    "\n",
    "1.  The targets for branch and jump instructions are raw addresses in the pseudo-assembly rather than labels.\n",
    "2.  The pseudo-assembly provides some information about argument types in comments (e.g., `; var int64_t var_10h @ rbp-0x10`) and then uses `var_10h` in the pseudoassembly.  \n",
    "\n",
    "Why does the CFG contain pseudo-assembly instead of the actual assembly? -- Because that's what the CFG drawing tool provides.  (As an aside, the tool we use to draw the CFGs is called [Redare2](https://rada.re/n/) and it's a really powerful reverse engineering tool.  It's really cool, but it has a really terrible interface)."
   ]
  },
  {
   "cell_type": "markdown",
   "metadata": {
    "cse142L.is_response": true,
    "cse142L.points": 1,
    "cse142L.question_type": "completeness",
    "deletable": false,
    "editable": true
   },
   "source": [
    "<div class=\"question completeness\">\n",
    "\n",
    "<div class=\"question-text\"> \n",
    "    \n",
    "How does the variable `size` appear in the assembly and the unoptimized pseudo-assembly?  That is, how can we tell that an instruction is operating on the value stored in `size`?\n",
    "</div>\n",
    "    \n",
    "<div class=\"answer\">\n",
    "\n",
    "1. What does `size` look like in x86 assembly: \n",
    "2. What does `size` look like in pseudo-assembly: \n",
    "3. That is, how can we tell that an instruction is operating on the value store in `size`?  \n",
    "    \n",
    "</div>    \n",
    "</div>    "
   ]
  },
  {
   "cell_type": "markdown",
   "metadata": {
    "editable": false
   },
   "source": [
    "You should also be able to spot the boundaries between the basic blocks in the assembly and see how the CFG makes them explicit.  You can see that the instruction at the start of each basic block is either\n",
    "\n",
    "1. A branch target (i.e., a label that a branch might jump to), or\n",
    "2. The instruction right after a branch.\n",
    "\n",
    "The last instruction in each basic block is either:\n",
    "\n",
    "1.  The instruction before a branch target (i.e.,  label), or\n",
    "2.  A branch, jump, or return instruction.\n",
    "\n",
    "If the last instruction in the block is a branch, then there will be two lines leaving the block -- one green, one red.  The green line is the path that control will take if the branch is _taken_.  The red line is the branch's _not taken_ path.  Notice how the red (not-taken) path leads to the block that contains `movl $0, %eax` which sets the return value for the function to 0.  This corresponds to the if condition `size == 0` being `true`.  The compiler is free to use any branch it wants to implement an if condition.  In this case, it used `jne` (jump on not equal), but it could have used `je` (jump on equal) and reversed the position of the two basic blocks in the assembly.\n",
    "\n",
    "For instance, here's a comparison between the assembly above and the same code compiled with more optimizations turned on.  The more optimized code (on the right) uses `je` instead of `jne` so the `movl $0, %eax` is on the green path instead of the red path."
   ]
  },
  {
   "cell_type": "code",
   "execution_count": null,
   "metadata": {
    "editable": false
   },
   "outputs": [],
   "source": [
    "if_ex = build(\"./if_ex.cpp\", build_parameters=arg_map(OPTIMIZE=[\"-O0\", \"-Og\"]))\n",
    "compare([x.cfg(\"if_ex\") for x in  if_ex], [f\"OPTIMIZE = {x.get_build_parameters()['OPTIMIZE']}\" for x in if_ex])\n"
   ]
  },
  {
   "cell_type": "markdown",
   "metadata": {
    "cse142L.is_response": true,
    "cse142L.points": 2,
    "cse142L.question_type": "correctness",
    "deletable": false,
    "editable": true
   },
   "source": [
    "<div class=\"question correctness points-2\">\n",
    "\n",
    "<div class=\"question-text\"> \n",
    "    \n",
    "In the assembly below, add lines that say \"`; basic block boundary`\" between each of the basic blocks in the assembly.\n",
    "</div>\n",
    " \n",
    "<div class=\"answer\"><!-- preserve the blank line after this line and make sure ``` are left-aligned -->\n",
    "\n",
    "```\n",
    "\n",
    "bb:\n",
    ".LFB0:\n",
    "\t.cfi_startproc\n",
    "\tendbr64\n",
    "\tpushq\t%rbp\n",
    "\t.cfi_def_cfa_offset 16\n",
    "\t.cfi_offset 6, -16\n",
    "\tmovq\t%rsp, %rbp\n",
    "\t.cfi_def_cfa_register 6\n",
    "\tmovl\t%edi, -20(%rbp)\n",
    "\tmovl\t%esi, -24(%rbp)\n",
    "\tmovl\t$0, -8(%rbp)\n",
    "\tmovl\t$0, -4(%rbp)\n",
    "\tjmp\t.L2\n",
    ".L5:\n",
    "\tcmpl\t$0, -24(%rbp)\n",
    "\tjle\t.L3\n",
    "\tmovl\t-4(%rbp), %eax\n",
    "\taddl\t%eax, -8(%rbp)\n",
    "\tjmp\t.L4\n",
    ".L3:\n",
    "\tmovl\t-4(%rbp), %eax\n",
    "\tsubl\t%eax, -8(%rbp)\n",
    ".L4:\n",
    "\taddl\t$1, -4(%rbp)\n",
    ".L2:\n",
    "\tmovl\t-4(%rbp), %eax\n",
    "\tcmpl\t-20(%rbp), %eax\n",
    "\tjl\t.L5\n",
    "\tmovl\t-8(%rbp), %eax\n",
    "\tpopq\t%rbp\n",
    "\t.cfi_def_cfa 7, 8\n",
    "\tret\n",
    "\t.cfi_endproc\n",
    "```\n",
    "</div>    \n",
    "</div>    "
   ]
  },
  {
   "cell_type": "markdown",
   "metadata": {
    "editable": false
   },
   "source": [
    "### A More Complex Example\n",
    "\n",
    "Here's the assembly for `loop_if()`.  Run the cell. (The `-g0` option tells gcc to supress debugging information in the assembly.  It makes it easier to read, but doesn't change any of the instructions.)"
   ]
  },
  {
   "cell_type": "code",
   "execution_count": null,
   "metadata": {
    "editable": false
   },
   "outputs": [],
   "source": [
    "loop_if = build(code(r\"\"\"\n",
    "#include<cstdint>\n",
    "#include<cstdlib>\n",
    "\n",
    "extern \"C\" \n",
    "uint64_t loop_if(uint64_t array, unsigned long int size) {\n",
    "    uint64_t t= 0;\n",
    "    int k = 0;\n",
    "    for(uint i = 0; i < size; i++) {\n",
    "        if (i + size != 0) { //  L1\n",
    "            k = 4; \n",
    "        } else if (i+size == 0) { // L2\n",
    "            k = 5;\n",
    "        }\n",
    "    }\n",
    "    return t + k; // L3\n",
    "    \n",
    "}\n",
    "\n",
    "\"\"\"), build_parameters=arg_map(OPTIMIZE=\"-g0\"))\n",
    "analyze(loop_if[0], \"loop_if\")\n"
   ]
  },
  {
   "cell_type": "markdown",
   "metadata": {
    "cse142L.is_response": true,
    "cse142L.points": 2,
    "cse142L.question_type": "correctness",
    "deletable": false,
    "editable": true
   },
   "source": [
    "<div class=\"question correctness points-2\">\n",
    "\n",
    "<div class=\"question-text\">\n",
    "\n",
    "What instruction implements these parts of the `loop_if()` (just copy and paste it from the assembly and don't be afraid to google.  Include the registers)?\n",
    "\n",
    "</div>\n",
    "        \n",
    "<div class=\"answer\">\n",
    "\n",
    "|    |  Instruction|\n",
    "|------|------|\n",
    "| The add on line `L1` |  \n",
    "| The comparison to zero on line `L2` | \n",
    "    \n",
    "</div>    \n",
    "</div>    "
   ]
  },
  {
   "cell_type": "markdown",
   "metadata": {
    "editable": false
   },
   "source": [
    "### Counting Instructions With the CFG\n",
    "\n",
    "In the next section you will study how compiler optimizations change which instructions execute.  Let's see what we can learn about which instructions execute by looking at the assembly."
   ]
  },
  {
   "cell_type": "code",
   "execution_count": null,
   "metadata": {
    "editable": false
   },
   "outputs": [],
   "source": [
    "loop_func = build(code(r\"\"\"\n",
    "#include<cstdint>\n",
    "#include<cstdlib>\n",
    "\n",
    "extern \"C\" \n",
    "uint64_t *loop_func(uint64_t  *array, unsigned long int size) {\n",
    "    uint64_t s = 0;\n",
    "    for(uint i = 0; i < 10; i++) {\n",
    "        s += array[i];\n",
    "    }\n",
    "    return array + s;\n",
    "}\n",
    "\n",
    "\"\"\"), arg_map(OPTIMIZE=\"-g0\"))\n",
    "analyze(loop_func[0], \"loop_func\")\n"
   ]
  },
  {
   "cell_type": "markdown",
   "metadata": {
    "editable": false
   },
   "source": [
    "We are primarily interested in two things:\n",
    "\n",
    "1.  How many instructions execute _in total_ (that's just `IC` from the performance equation).\n",
    "2.  How many instructions access memory.\n",
    "\n",
    "Counting instructions is simple:  You can count up the number of instructions in each basic block and multiply it by the number of times the basic block executes.\n",
    "\n",
    "Determining which instructions access memory is also pretty simple except for one wrinkle.\n",
    "\n",
    "The basic rules are that:\n",
    "\n",
    "1.  In x86 assembly, if the instruction uses an addressing mode with parentheses (e.g., `-8(%rbp)` or `(%rax)`) then it accesses memory.\n",
    "2.  In pseudo-assembly, operands like `[var_8h]` or `[rax*8]` are _also_ memory accesses.\n",
    "3.  `push` and `pop` instructions are memory accesses.\n",
    "\n",
    "The exception is the `lea` family of instructions (`leaq`, `leal`, etc.). These are \"load effective address\" and they just compute the address and store the _address_ into the destination register.  So when you count memory accesses you should ignore `lea*` instructions.\n",
    "\n",
    "Simple, right!  :-)\n",
    "\n",
    "For this question, recall that \"dynamic instructions\" is the number of instructions that the processor executes and \"static instructions\" is the number of instructions the compiler generates."
   ]
  },
  {
   "cell_type": "markdown",
   "metadata": {
    "cse142L.is_response": true,
    "cse142L.points": 1,
    "cse142L.question_type": "completeness",
    "deletable": false,
    "editable": true
   },
   "source": [
    "<div class=\"question completeness\">\n",
    "\n",
    "<div class=\"question-text\">\n",
    "    \n",
    "Fill in the table below to compute how many total instructions and how many memory accesses occur when `loop_func()` executes.  You only need to fill out the last two columns on the bottom row. (Hint:  It is not necessary to trace through exactly what each instruction does.  Instead think about how control will flow through the CFG and just count how many times each block must execute.  Also don't be afraid to google the instruction names).\n",
    "    \n",
    "</div>\n",
    "    \n",
    "<div class=\"answer\">\n",
    "\n",
    "| basic block | # of times the block executes | static instruction count | static memory instruction count |  dynamic instruction count | dynamic memory instruction count | \n",
    "|-------------|-----------------|-------------------|--------------------------|-------------------|--------------------------|\n",
    "| n0          |  \n",
    "| n1          |   \n",
    "| n2          |   \n",
    "| n3          |   \n",
    "|                 |                ||   **Total**    \n",
    "    \n",
    "</div>"
   ]
  },
  {
   "cell_type": "markdown",
   "metadata": {
    "editable": false
   },
   "source": [
    "# The Perils of C++"
   ]
  },
  {
   "cell_type": "markdown",
   "metadata": {
    "editable": false
   },
   "source": [
    "C++ is a big, complex mess of a language that includes a bunch of powerful tools that make it possible to write fast code without too much pain.  However, all that power translates into a lot of complexity that shows up in the assembly code generated for C++ programs.  \n",
    "\n",
    "In order to read C++ assembly output, you need to understand a few details about one aspect of this implementation process: linking.\n",
    "\n",
    "## What Is Linking?\n",
    "\n",
    "Linking is the final step in compiling a program.  Non-trivial programs are spread across multiple source files that are compiled one-at-a-time into _object files_ (`.o`) that contain binary instructions and static data (e.g., string constants from your code).  Each function and global variable in the object file has a name called a _symbol_.  We say that the object file _defines_ the symbols it contains.  For instance, if `foo.cpp` contains the source code for a function `bar()` then, `foo.o` will define the symbol `bar`.\n",
    "\n",
    "The code in the object files will also _reference_ symbols defined in other object files.  For instance, if another file, `baz.cpp`, calls `bar`, then `baz.o` will have reference to `bar`.  Prior to linking, that reference is _undefined_.\n",
    "\n",
    "The linker takes all the `.o` files and copies their contents into a single executable file.  As it copies them it _resolves_ the undefined references.  In \n",
    "this example, the linker resolves the undefined reference in `bar.o`  by replacing the reference with pointer to the code for `bar()` in  `foo.o`.\n",
    "\n",
    "One important thing about linkers is that they are language-agnostic -- the linker will happily link object file generated from C++, C, Go, or Rust as long as the symbols match.\n",
    "\n",
    "There's a lot more to [linking](https://www.amazon.com/Linkers-Kaufmann-Software-Engineering-Programming/dp/1558604960), but this is enough to see what's problematic about C++.\n",
    "\n",
    "## C++ Name Mangling\n",
    "\n",
    "The linker restricts what strings can serve as valid symbols: Symbols must start with a letter (or `_`) and only contain letters, numbers, and `_`.\n",
    "\n",
    "For C, this poses no problems. If you declare a function `bar` in file `foo.c`:\n",
    "\n",
    "``` c++\n",
    "int bar(int a) {\n",
    "    return 1;\n",
    "}\n",
    "```\n",
    "\n",
    "The compiler will generate exactly one symbol with the name `bar`.   Then you can call it from another file `baz.c`:\n",
    "\n",
    "```  c++\n",
    "main() {\n",
    "     bar(4);\n",
    "} \n",
    "```\n",
    "\n",
    "and the linker will know what function you mean (i.e., the function named `bar` from `foo.c`).\n",
    "\n",
    "However, C++ allows function overloading, so we might have this in `foo.cpp`:\n",
    "\n",
    "``` c++\n",
    "int bar(int a) {\n",
    "}\n",
    "\n",
    "float bar(float a) {\n",
    "}\n",
    "\n",
    "```\n",
    "\n",
    "This will generate two functions, so they need two symbols.  But what symbols should the compiler choose?  The compiler needs a systematic way of naming functions _that includes their type information_.  This will ensure that when we have `baz.cpp` with\n",
    "\n",
    "``` c++\n",
    "main() {\n",
    "    bar(4);\n",
    "    bar(4.0);\n",
    "} \n",
    "```\n",
    "\n",
    "The linker will know that we mean to call two different functions.\n",
    "\n",
    "Things get more complex with templates, since we could have:\n",
    "\n",
    "``` c++\n",
    "int bar(const std::map<std::string, std::vector<int>> & a) {\n",
    "}\n",
    "```\n",
    "\n",
    "That's a lot of information to pack into one symbol!\n",
    "\n",
    "The solution that C++ compilers have adopted is called _name mangling_.  Name mangling is a deterministic, standardized way to convert _any_  function type into a unique symbol.\n",
    "\n",
    "Let's see what it does.  Run the cell and answer the question:"
   ]
  },
  {
   "cell_type": "code",
   "execution_count": null,
   "metadata": {
    "cse142L.is_response": true,
    "deletable": false,
    "editable": true
   },
   "outputs": [],
   "source": [
    "\n",
    "build(code(r\"\"\"\n",
    "#include<map>\n",
    "#include<vector>\n",
    "#include<string>\n",
    "int foo(int a) {\n",
    "    return 0;\n",
    "}\n",
    "\n",
    "float foo(float a) {\n",
    "    return 0;\n",
    "}\n",
    "\n",
    "int foo(const std::map<std::string, std::vector<int>> & a) {\n",
    "    return 0;\n",
    "}\n",
    "\"\"\"))[0].asm(demangle=False, show=(0,100))"
   ]
  },
  {
   "cell_type": "markdown",
   "metadata": {
    "cse142L.is_response": true,
    "cse142L.points": 1,
    "cse142L.question_type": "completeness",
    "deletable": false,
    "editable": true
   },
   "source": [
    "<div class=\"question completeness\">\n",
    "\n",
    "<div class=\"question-text\"> What's the mangled name for each of these functions?</div>\n",
    "    \n",
    "<div class=\"answer\">\n",
    "    \n",
    "| function | mangled name |\n",
    "|----------|--------------|\n",
    "| `int foo(int a)` | | \n",
    "| `float foo(float a)` |  | \n",
    "\n",
    "   |||\n",
    "|-|-|\n",
    "|**function**| `int foo(const std::map<std::string, std::vector<int>> & a)`|\n",
    "|**mangled name**| | \n",
    "\n",
    "    \n",
    "</div>\n",
    "\n",
    "</div>"
   ]
  },
  {
   "cell_type": "markdown",
   "metadata": {
    "editable": false
   },
   "source": [
    "As you can see, mangled names make assembly pretty hard to read. To make matters worse, mangled names show up in other places as well (e.g.,  the output of profiling tools).\n",
    "\n",
    "Fortunately, C++ compilers usually come with a utility to de-mangle names.  For `g++` it's called `c++filt` and it takes in text, looks for mangled names and demangles them.  For instance:"
   ]
  },
  {
   "cell_type": "code",
   "execution_count": null,
   "metadata": {
    "editable": false
   },
   "outputs": [],
   "source": [
    "!echo _Z3foof | c++filt\n",
    "!echo _Z3fooRKSt3mapINSt7__cxx1112basic_stringIcSt11char_traitsIcESaIcEEESt6vectorIiSaIiEESt4lessIS5_ESaISt4pairIKS5_S8_EEE | c++filt"
   ]
  },
  {
   "cell_type": "markdown",
   "metadata": {
    "editable": false
   },
   "source": [
    "You'll notice that the full name for `int foo(const std::map<std::string, std::vector<int>> & a)` is very long.  This is because it includes full type names (including the C++ namespace) and all the default template parameters.\n",
    "\n",
    "To see how it works on assembly, change `demangle=False` in the code above to `demangle=True` and re-run it.  The resulting assembly is no longer valid code assembly (since the symbol names are invalid), but it's much easier to read.\n",
    "\n",
    "From now on in the examples, the assembly code in the examples will be demangled, but you will probably run into some mangled names occasionally.  Just remember to use `c++filt` to clean them up."
   ]
  },
  {
   "cell_type": "markdown",
   "metadata": {
    "editable": false
   },
   "source": [
    "## C vs C++ Linkage\n",
    "\n",
    "The way that the compiler generate symbols for a function is called the function's _linkage_.  We've seen two kinds:  C linkage which just uses the function name  and C++ linkage which uses mangled names.\n",
    "\n",
    "You might have noticed that most of the code examples have `extern \"C\"` before some functions.  This is a way of telling the compiler that it should use C linkage for those functions (i.e., just use the function names).  You can use it for one function:\n",
    "\n",
    "``` c++\n",
    "extern \"C\" int foo()\n",
    "```\n",
    "\n",
    "or a group of functions:\n",
    "\n",
    "``` c++\n",
    "extern \"C\" {\n",
    "    int foo(){}\n",
    "    int bar(){}\n",
    "}\n",
    "```\n",
    "\n",
    "This is useful if you want to call the function from a language other than C++ (e.g., C).  We will use it in the examples, because it makes it easier to refer to the functions."
   ]
  },
  {
   "cell_type": "markdown",
   "metadata": {
    "editable": false
   },
   "source": [
    "# Optimization"
   ]
  },
  {
   "cell_type": "markdown",
   "metadata": {
    "editable": false
   },
   "source": [
    "Now, we have all the tools we need to study how  compiler optimizations affect program performance.  In the exercises below, we'll look at some of the most important optimizations that compilers perform and why and how they work.  \n",
    "\n",
    "We have several goals:\n",
    "\n",
    "1.  To provide some intuition about what the compiler can and cannot do, so you can predict when it will need your help and when you should trust it to \"do the right thing\".\n",
    "2.  To see how and why optimization is so important for languages like C++.\n",
    "3.  To gain further insight into how the way a computation is implemented affects its performance (via the performance equation)."
   ]
  },
  {
   "cell_type": "markdown",
   "metadata": {
    "editable": false
   },
   "source": [
    "## Register assignment"
   ]
  },
  {
   "cell_type": "markdown",
   "metadata": {
    "editable": false
   },
   "source": [
    "The first and simplest optimization is _register assignment_.  Register assignment takes local variables and intermediate values and stores them in registers rather than on the stack.  This saves `mov` instructions and memory accesses.  You can see it in action below:"
   ]
  },
  {
   "cell_type": "code",
   "execution_count": null,
   "metadata": {
    "cse142L.is_response": true,
    "deletable": false,
    "editable": true,
    "init_cell": true
   },
   "outputs": [],
   "source": [
    "\n",
    "foo = build(code(r\"\"\"\n",
    "extern \"C\" \n",
    "int foo(int a, int b){\n",
    "    return a * b;\n",
    "}\n",
    "\"\"\"), arg_map(OPTIMIZE=[\"-O0 -g0\", \"-O1 -g0\"]))\n",
    "display(foo[0].source())\n",
    "compare([x.asm(\"foo\") for x in foo], [html_parameters(v.get_build_parameters()) for v in foo])"
   ]
  },
  {
   "cell_type": "markdown",
   "metadata": {
    "editable": false
   },
   "source": [
    "The code on the left is unoptimized.  The code on the right is optimized.\n",
    "\n",
    "Wow!  The optimized code is much shorter!\n",
    "\n",
    "A few things to notice about the code and to remember about x86 assembly:\n",
    "\n",
    "First, the \"base pointer\" is in `%rbp`.  This is the base of the stack frame for this function call.  Local variables typically live on the stack and are accessed relative to the base pointer.\n",
    "\n",
    "Second, in x86, the first two function arguments are passed in `%edi` and `%esi`.  Return values are stored in `%eax`.\n",
    "\n",
    "Third, in unoptimized code, `a` and `b` are on the stack at locations `-4(%rbp)` and `-8(%rbp)`, respectively.  In fact, the compiler goes through the trouble of storing `%edi` and `%esi` into `-4(%rbp)` and `-8(%rbp)`.  \n",
    "\n",
    "Then it, _immediately_ uses `movl` to load `a` back into the `%eax` before the `imull` instruction loads `b` from the stack, multiplies it by `%eax`, storing the result in `%eax`. \n",
    "\n",
    "The optimized code avoids all that nonsense with the stack.  It just copies `%edi` into `%eax`, and multiplies it by `%esi`, once again leaving the result in `%eax`.\n",
    "\n",
    "<div class=\"alert alert-block alert-info\">\n",
    "\n",
    "**Pro Tip: Identifying unoptimized assembly** Register assignment is one of the most basic optimizations that compilers perform and the difference between the optimized and unoptimized versions is starkly obvious.  This means that you can usually just tell by looking at assembly code whether it was compiled with optimizations enabled: if it has lots of parentheses (on instructions other than `lea`) it's probably not optimized.\n",
    "</div>"
   ]
  },
  {
   "cell_type": "markdown",
   "metadata": {
    "cse142L.is_response": true,
    "cse142L.points": 2,
    "cse142L.question_type": "correctness",
    "deletable": false,
    "editable": true
   },
   "source": [
    "<div class=\"question correctness points-2\">\n",
    "\n",
    "<div class=\"question-text\">\n",
    "    \n",
    "Assuming constant `CPI` and `CT` (i.e., they are the same for the optimized and unoptimized code) how much speedup did register assignment provide for `foo()` (show your work)?\n",
    "    \n",
    "</div>\n",
    " \n",
    "<div class=\"answer\">\n",
    "    \n",
    "\n",
    "    \n",
    "</div>\n",
    "\n",
    "    \n",
    "</div>"
   ]
  },
  {
   "cell_type": "markdown",
   "metadata": {
    "editable": false
   },
   "source": [
    "You can also encourage the compiler to put a variable into a register with the `register` keyword.  This is not a good practice in real code since modern compilers do register assignment automatically.  We'll use this trick in some of our examples to highlight the impact of individual optimizations.  "
   ]
  },
  {
   "cell_type": "markdown",
   "metadata": {
    "cse142L.is_response": true,
    "cse142L.points": 1,
    "cse142L.question_type": "completeness",
    "deletable": false,
    "editable": true
   },
   "source": [
    "<div class=\"question completeness\">\n",
    "    \n",
    "\n",
    "<div class=\"question-text\">\n",
    "\n",
    "In the code above, force the compiler to put `a` in a register by writing `register int a` in the argument list for `foo()`.  What changed?\n",
    "</div>\n",
    "    \n",
    "<div class=\"answer\">\n",
    "    \n",
    "\n",
    "    \n",
    "</div>\n",
    "    \n",
    "</div>"
   ]
  },
  {
   "cell_type": "markdown",
   "metadata": {
    "editable": false
   },
   "source": [
    "### The `register` Keyword \n",
    "You can provide some guidance to the compiler about what to put in registers with the `register` keyword:"
   ]
  },
  {
   "cell_type": "code",
   "execution_count": null,
   "metadata": {
    "editable": false
   },
   "outputs": [],
   "source": [
    "register = build(code(r\"\"\"\n",
    "extern \"C\" \n",
    "int foo(register int a, register int b){\n",
    "    int c = a *b;\n",
    "    return c * b;\n",
    "}\n",
    "\"\"\"), arg_map(OPTIMIZE=[\"-O0 -g0\", \"-Og -g0\", \"-O1 -g0\"]))\n",
    "display(register[0].source())\n",
    "compare([x.asm(\"foo\") for x in register], [html_parameters(v.get_build_parameters()) for v in register])"
   ]
  },
  {
   "cell_type": "markdown",
   "metadata": {
    "editable": false
   },
   "source": [
    "Note how, with no optimizations, the compiler uses loads and stores to access `c` but not `a` or `b` (which were both declared `register`).  But with optimizations, all three are in registers.\n",
    "\n",
    "You don't see `register` very much in code because compilers put things in register automatically.  So you shouldn't ever use it...except maybe in programming assignments..."
   ]
  },
  {
   "cell_type": "markdown",
   "metadata": {
    "editable": false
   },
   "source": [
    "### Register to Replace Memory\n",
    "\n",
    "The compiler will also combine multiple memory updates into one by storing the intermediate values in a register.  For instance:"
   ]
  },
  {
   "cell_type": "code",
   "execution_count": null,
   "metadata": {
    "editable": false
   },
   "outputs": [],
   "source": [
    "enregister = build(code(r\"\"\"\n",
    "#include\"cfiddle.hpp\"\n",
    "extern \"C\"\n",
    "void foo(register uint64_t * sum, uint k) {\n",
    "    for(uint i =0 ; i < k; i++) {\n",
    "        *sum += i;\n",
    "    }\n",
    "}\n",
    "\"\"\"), arg_map(OPTIMIZE=[\"-O0 -g0\", \"-O1 -g0\"]))\n",
    "compare([x.asm(\"foo\") for x in enregister], [html_parameters(v.get_build_parameters()) for v in enregister])"
   ]
  },
  {
   "cell_type": "markdown",
   "metadata": {
    "editable": false
   },
   "source": [
    "In the unoptimized code (on the left), `s` lives at the address in `%rax`.  In the basic block starting at `.L3`, it loads and stores `s`, adds to it, and then stores it back.  It does this _on every iteration_.  With optimizations (on the right), `s` lives at the address in `%rdi`.  The code loads it once (into `%rdx`) with `movq (%rdi), %rdx` at the beginning, updates the register in the loop body, and stores `%rdx` back into `%rdi` at the end."
   ]
  },
  {
   "cell_type": "markdown",
   "metadata": {
    "editable": false
   },
   "source": [
    "## Common sub-expression elimination"
   ]
  },
  {
   "cell_type": "markdown",
   "metadata": {
    "editable": false
   },
   "source": [
    "A _common sub-expression_ is a piece of repeated computation in a program.  Since calculating the same thing twice is a waste of time, the compiler will eliminate the second instance and reuse the result of the first.  Here's an example:"
   ]
  },
  {
   "cell_type": "code",
   "execution_count": null,
   "metadata": {
    "cse142L.is_response": true,
    "deletable": false,
    "editable": true
   },
   "outputs": [],
   "source": [
    "\n",
    "optimization_example(code(r\"\"\"\n",
    "extern \"C\" int foo(register int a, register int b) {\n",
    "    register int c = a * b;\n",
    "    return a * b + c;\n",
    "}\n",
    "\"\"\"), \"foo\")"
   ]
  },
  {
   "cell_type": "markdown",
   "metadata": {
    "editable": false
   },
   "source": [
    "Again, the unoptimized code does some inefficient things.  I encourage you to trace through the assignments/`movl`s (`a` is in `%edi` and `b` is in `%esi`), but the key thing is that it performs two `imull` instructions that compute the same result.\n",
    "\n",
    "The optimized code, just computes the product once and stores it in `%edi`.  Then it uses `leal` to add `%rdi` to itself and store the result in `%eax`.  \n",
    "\n",
    "<div class=\"alert alert-block alert-info\">\n",
    "\n",
    "**Pro Tip: `lea` in action** Recall that `leal` computes the effective address of its first argument and stores that address in its second argument.  In this case, it uses the `(r1,r2)` addressing mode which adds `r1` and `r2` together to compute the effective address.  Using `leal` in this way is a very common idiom in x86 assembly, because most x86 instructions overwrite one argument.  `lea`, however, does not.\n",
    "    \n",
    "</div>"
   ]
  },
  {
   "cell_type": "markdown",
   "metadata": {
    "cse142L.is_response": true,
    "cse142L.points": 1,
    "cse142L.question_type": "completeness",
    "deletable": false,
    "editable": true
   },
   "source": [
    "<div class=\"question completeness\">\n",
    "\n",
    "<div class=\"question-text\">\n",
    "    \n",
    "Play around with the code above and see how complex of a sub-expression you can get the compiler to eliminate.\n",
    "    \n",
    "</div>\n",
    "    \n",
    "\n",
    "    \n",
    "</div>"
   ]
  },
  {
   "cell_type": "markdown",
   "metadata": {
    "editable": false
   },
   "source": [
    "It's useful to know what common sub-expressions the compiler can eliminate because it lets you write more natural code.  Consider these two (equivalent) code snippets:\n",
    "\n",
    "```c++\n",
    "if (k < array[len - 1] ) {\n",
    "   k = array[len - 1];\n",
    "}\n",
    "```\n",
    "and \n",
    "\n",
    "```c++\n",
    "int t = len - 1;\n",
    "if (k < array[t] ) {\n",
    "   k = array[t];\n",
    "}\n",
    "```\n",
    "\n",
    "In the second, the programmer has effectively performed common sub-expression elimination explicitly leading to longer and (I would argue) less readable code.  \n",
    "\n",
    "A programmer without the benefit of CSE142L might think the longer code is faster, but the savvy alumnus of this class will know they can rely on the compiler to eliminate the extra work automatically."
   ]
  },
  {
   "cell_type": "markdown",
   "metadata": {
    "editable": false
   },
   "source": [
    "## Loop invariant code motion"
   ]
  },
  {
   "cell_type": "markdown",
   "metadata": {
    "editable": false
   },
   "source": [
    "_Loop invariant code motion_ identifies computations in the body of a loop that don't change from one iteration to the next.  The compiler can _hoist_ that code out of the loop, saving instructions.  For example:"
   ]
  },
  {
   "cell_type": "code",
   "execution_count": null,
   "metadata": {
    "editable": false
   },
   "outputs": [],
   "source": [
    "optimization_example(code(r\"\"\"\n",
    "extern \"C\" int foo(register int a, register int b){\n",
    "    register int c = 0;\n",
    "    for(register int i = 0; i < a; i++) {\n",
    "        c += b*a;\n",
    "    }\n",
    "    return c;\n",
    "}\n",
    "\n",
    "\"\"\"), function=\"foo\", cfg=True)"
   ]
  },
  {
   "cell_type": "markdown",
   "metadata": {
    "editable": false
   },
   "source": [
    "Quite a bit changes when we turn on optimizations, but the key thing to notice is that the unoptimized code has an `imull` in the loop body while the optimized code does not.  In the optimized code, the `imull` has been moved into a new basic block called a _loop header_."
   ]
  },
  {
   "cell_type": "markdown",
   "metadata": {
    "editable": false
   },
   "source": [
    "## Strength reduction"
   ]
  },
  {
   "cell_type": "markdown",
   "metadata": {
    "editable": false
   },
   "source": [
    "In _strength reduction_ the compiler converts a \"stronger\" (i.e., more general and/or slower) operation into a \"weaker\" (i.e. less general and/or faster) operation.  The most common example is converting multiplication and division by powers of two into left and right shifts.\n",
    "\n",
    "For example:"
   ]
  },
  {
   "cell_type": "code",
   "execution_count": null,
   "metadata": {
    "cse142L.is_response": true,
    "deletable": false,
    "editable": true
   },
   "outputs": [],
   "source": [
    "\n",
    "optimization_example(code(r\"\"\"\n",
    "extern \"C\" int foo(register unsigned int a, register unsigned int b){\n",
    "    return a *8;\n",
    "}\n",
    "\n",
    "\"\"\"), function=\"foo\")"
   ]
  },
  {
   "cell_type": "markdown",
   "metadata": {
    "editable": false
   },
   "source": [
    "We don't even need to look at the optimized code to find strength reduction.  Strength reduction is such a common optimization that the compiler does it even when we tell it not to optimize.  Note that there is no `mull` instruction, but there is a shift arithmetic left long (`sall`) instruction with a constant `$3` that multiplies `%eax` by 8.\n",
    "\n",
    "The optimized code does one better and folds the whole function in one `leal`.  The `n(,%r,k)` addressing mode multiplies register `%r` times `k` and adds it to `n`.  `k` must be power of two, which means that the processor can use a left shift to implement it."
   ]
  },
  {
   "cell_type": "markdown",
   "metadata": {
    "cse142L.is_response": true,
    "cse142L.points": 1,
    "cse142L.question_type": "completeness",
    "deletable": false,
    "editable": true
   },
   "source": [
    "<div class=\"question completeness\">\n",
    "\n",
    "<div class=\"question-text\">\n",
    "\n",
    "Modify the code above so that the `0` in the `leal`s first argument becomes a 4.\n",
    "    \n",
    "</div>\n",
    "\n",
    "\n",
    "</div>"
   ]
  },
  {
   "cell_type": "markdown",
   "metadata": {
    "editable": false
   },
   "source": [
    "Changing multiplies and divides in to shifts is not the only kind of strength reduction that is possible.  In the code below change the `a*8` to the expressions given in the question below and see what the compiler does:"
   ]
  },
  {
   "cell_type": "code",
   "execution_count": null,
   "metadata": {
    "cse142L.is_response": true,
    "deletable": false,
    "editable": true
   },
   "outputs": [],
   "source": [
    "\n",
    "optimization_example(code(\"\"\"\n",
    "extern \"C\" int foo(register unsigned int a, register unsigned int b){\n",
    "    return a *8;\n",
    "}\n",
    "\"\"\"), function=\"foo\")\n"
   ]
  },
  {
   "attachments": {
    "image.png": {
     "image/png": "[encoded data removed]"
    }
   },
   "cell_type": "markdown",
   "metadata": {
    "cse142L.is_response": true,
    "cse142L.points": 1,
    "cse142L.question_type": "completeness",
    "deletable": false,
    "editable": true
   },
   "source": [
    "<div class=\"question completeness\">\n",
    "\n",
    "<div class=\"question-text\"> \n",
    "    \n",
    "Try replacing `a*8` with each of the following.  Describe what the compiler does:\n",
    "    \n",
    "</div>\n",
    "\n",
    "<div class=\"answer\">\n",
    "\n",
    "|        | What the compiler did | \n",
    "|--------|-----------------------|\n",
    "| `a*3`   |  |  \n",
    "| `a*5`|  |\n",
    "| `a*11`|  |\n",
    "| `a/b`| |\n",
    "| `a/3`| |\n",
    "\n",
    "</div>\n",
    "    \n",
    "<div class=\"question-text\"> \n",
    "    \n",
    "Optional:  Find an expression for which the compiler has to do something significantly different.\n",
    "    \n",
    "</div>\n",
    "\n",
    "</div>\n",
    "\n",
    "![image.png](attachment:image.png)"
   ]
  },
  {
   "cell_type": "markdown",
   "metadata": {
    "editable": false
   },
   "source": [
    "## Constant propagation"
   ]
  },
  {
   "cell_type": "markdown",
   "metadata": {
    "editable": false
   },
   "source": [
    "_Constant propagation_ allows the compiler to identify the value of constant expressions at compile time and use those constant values to simplify computations.  This effectively executes part of the program _at compile time_ and embeds the result in the assembly.\n",
    "\n",
    "For example:"
   ]
  },
  {
   "cell_type": "code",
   "execution_count": null,
   "metadata": {
    "editable": false
   },
   "outputs": [],
   "source": [
    "optimization_example(code(\"\"\"\n",
    "\n",
    "extern \"C\" int foo(register int a, register int b){\n",
    "    register int c = 4;\n",
    "    register int d = 4;\n",
    "    return a + c + d;\n",
    "}\n",
    "\n",
    "\"\"\"), function=\"foo\")\n"
   ]
  },
  {
   "cell_type": "markdown",
   "metadata": {
    "editable": false
   },
   "source": [
    "Again, the compiler is doing multiple things at once, but the constant propagation is visible:  In the unoptimized code, it moves `$4` into both `%r12d` and `%ebx` and then adds both those register to `%eax` on the next two lines.  In the optimized code it's folded both `4`s into the `8` in the `leal` instruction.  Here, `leal` is using the `n(%r)` addressing mode which adds a constant `n` to `%r`.  In this case, that is enough to implement the entire function.\n",
    "\n",
    "So what happened to variables `c` and `d`?  They are gone!\n",
    "\n",
    "The compiler can make bigger things disappear:"
   ]
  },
  {
   "cell_type": "code",
   "execution_count": null,
   "metadata": {
    "cse142L.is_response": true,
    "deletable": false,
    "editable": true
   },
   "outputs": [],
   "source": [
    "\n",
    "optimization_example(code(\"\"\"\n",
    "extern \"C\" int foo(register int a, register int b){\n",
    "    register int i, s = 0;\n",
    "    for(i = 0; i < 10; i++) {\n",
    "        s+= i;\n",
    "    }\n",
    "    return s;\n",
    "}\n",
    "\"\"\"), function=\"foo\")"
   ]
  },
  {
   "cell_type": "markdown",
   "metadata": {
    "editable": false
   },
   "source": [
    "Since the compiler can evaluate the whole loop at compile time, it does.\n",
    "Bye, bye loop!  \n",
    "\n",
    "![Bye bye](https://media3.giphy.com/media/SABGACIrfegQ4O1Aey/200w.webp?cid=ecf05e47aa8u3emxknrkw6fv3rpkesce1x1nog5t1hjpoang&rid=200w.webp&ct=g)"
   ]
  },
  {
   "cell_type": "markdown",
   "metadata": {
    "cse142L.is_response": true,
    "cse142L.question_type": "optional",
    "deletable": false,
    "editable": true
   },
   "source": [
    "<div class=\"question optional\">\n",
    "    \n",
    "<div class=\"question-text\">\n",
    "   \n",
    "Play around with the code to test the limits of constant propagation.  Can you write code that could be evaluated at compile time but the compiler can't do it?  What code constructs/patterns does the compiler have trouble with when it comes to constant propagation?\n",
    "\n",
    "</div>\n",
    "\n",
    "</div>    \n",
    "    "
   ]
  },
  {
   "cell_type": "markdown",
   "metadata": {
    "editable": false
   },
   "source": [
    "## Loop Unrolling"
   ]
  },
  {
   "cell_type": "markdown",
   "metadata": {
    "editable": false
   },
   "source": [
    "The example above also demonstrates _loop unrolling_.  In loop unrolling, the compiler \"unrolls\" a loop so that the loop body contains the computation for multiple iterations of the loop.  For instance:"
   ]
  },
  {
   "cell_type": "code",
   "execution_count": null,
   "metadata": {
    "cse142L.is_response": true,
    "deletable": false,
    "editable": true
   },
   "outputs": [],
   "source": [
    "\n",
    "optimization_example(code(r\"\"\"\n",
    "\n",
    "extern \"C\" int foo(register unsigned int b, int *array){\n",
    "    register unsigned int i, s = 0;\n",
    "    for(i = 0; i < b*8; i++) {\n",
    "        s+= array[i];\n",
    "    }\n",
    "    return s;\n",
    "}\n",
    "\"\"\", file_name=\"foo.cpp\"), function=\"foo\", OPTIMIZE= [\"-O0\", \"-Og -funroll-loops\"], cfg=True)\n"
   ]
  },
  {
   "cell_type": "markdown",
   "metadata": {
    "editable": false
   },
   "source": [
    "On the left, the loop body is unoptimized blocks `n1` and `n2`.  They get merged and replicated into optimized blocks `n1` and `n2` (on the right)."
   ]
  },
  {
   "cell_type": "markdown",
   "metadata": {
    "cse142L.is_response": true,
    "cse142L.points": 3,
    "cse142L.question_type": "correctness",
    "deletable": false,
    "editable": true
   },
   "source": [
    "<div class=\"question correctness points-3\">\n",
    "\n",
    "<div class=\"question-text\">\n",
    "    \n",
    "If `b` is 16 and CPI and CT remains constant (i.e., change in speedup is due just to change in `IC`)\n",
    "    , how much speedup would you expect from unrolling the loop (Show your work)?  Assume the branch in `n0` of the optimized code is taken.</div>\n",
    "    \n",
    "<div class=\"answer\">\n",
    "    \n",
    "\n",
    "    \n",
    "\n",
    "\n",
    "\n",
    "</div>\n",
    "    \n",
    "\n",
    "</div>"
   ]
  },
  {
   "cell_type": "markdown",
   "metadata": {
    "editable": false
   },
   "source": [
    "The example above is simplified since the loop bound is `8*b`.  From experience, I know that gcc likes to unroll loops 8 times, so this makes the number of iterations work out nicely.  Replace the loop bound with `b` and try running it again."
   ]
  },
  {
   "cell_type": "markdown",
   "metadata": {
    "cse142L.is_response": true,
    "cse142L.points": 1,
    "cse142L.question_type": "completeness",
    "deletable": false,
    "editable": true
   },
   "source": [
    "<div class=\"question completeness\">\n",
    "\n",
    "<div class=\"question-text\">\n",
    "\n",
    "After you replaced `8*b` with `b`, why did the compiler add the additional basic blocks that appeared in the optimized CFG?  For an (optional) challenge, explain how they work.</div>\n",
    "    \n",
    "    \n",
    "<div class=\"answer\">\n",
    "\n",
    "</div>\n",
    "</div>"
   ]
  },
  {
   "cell_type": "markdown",
   "metadata": {
    "editable": false
   },
   "source": [
    "While, in principle, a compiler could unroll any loop, it will refuse to unroll some loops because they are too complicated:"
   ]
  },
  {
   "cell_type": "code",
   "execution_count": null,
   "metadata": {
    "cse142L.is_response": true,
    "deletable": false,
    "editable": true
   },
   "outputs": [],
   "source": [
    "\n",
    "optimization_example(code(r\"\"\"\n",
    "\n",
    "extern \"C\" int foo(register unsigned int a, register unsigned int b, unsigned int *array){\n",
    "    register unsigned int i, s = 0;\n",
    "\n",
    "    i = 8*b;     // LOOP B\n",
    "    while(i > 0) {\n",
    "        i -= b;\n",
    "        s += i;\n",
    "        if (i == a)\n",
    "            continue;\n",
    "        if (i == b)\n",
    "            break;\n",
    "        if (i % 4) {\n",
    "            s++;\n",
    "        }\n",
    "    }\n",
    "\n",
    "    return s;\n",
    "}\n",
    "\n",
    "\"\"\"), function=\"foo\",OPTIMIZE=[\"-O0\", \"-O1 -funroll-loops\"])\n"
   ]
  },
  {
   "cell_type": "markdown",
   "metadata": {
    "cse142L.is_response": true,
    "cse142L.points": 1,
    "cse142L.question_type": "completeness",
    "deletable": false,
    "editable": true
   },
   "source": [
    "<div class=\"question completeness\">\n",
    "\n",
    "<div class=\"question-text\">\n",
    "\n",
    "Simplify the loops above so that the compiler will unroll it.  You can change the computation that the loop performs, but try to alter the loop as little as possible.  What characteristics or parts of the loop are preventing the compiler from unrolling the loop?  Can it it unroll loops that use the  `break` keyword? `continue`? `if-else`?  Non-constant stride?\n",
    "    \n",
    "</div>\n",
    "    \n",
    "</div>"
   ]
  },
  {
   "cell_type": "markdown",
   "metadata": {
    "editable": false
   },
   "source": [
    "## Combining Single-function Optimizations"
   ]
  },
  {
   "cell_type": "markdown",
   "metadata": {
    "editable": false
   },
   "source": [
    "Each of these optimizations is interesting in isolation, but they are more powerful together.\n",
    "\n",
    "Consider this code.  I've used a macro `DIV` to make it clearer where division occurs.  This code uses division in several different ways.  Study it, and, assuming `size = 30`, calculate how many divides the program will execute?\n",
    "\n",
    "Run the cell and let's see what the compiler does:"
   ]
  },
  {
   "cell_type": "code",
   "execution_count": null,
   "metadata": {
    "editable": false
   },
   "outputs": [],
   "source": [
    "optimization_example(code(r\"\"\"\n",
    "#include<cstdint>\n",
    "#include<cstdlib>\n",
    "extern \"C\" uint32_t div_loop(uint64_t * array,  unsigned long int size) {\n",
    "#define X 3\n",
    "#define Y 8\n",
    "#define DIV(a,b) (a / b)\n",
    "\n",
    "    for(uint32_t i = 0; i < DIV(size, 3); i++) {\n",
    "        array[DIV(i, 2) +  DIV(Y, X)] = DIV(size, 3);\n",
    "    }\n",
    "    return array[0];\n",
    "}\n",
    "\n",
    "\n",
    "\"\"\"), cfg=True, function=\"div_loop\", OPTIMIZE=[\"-O0\", \"-O1 -fno-inline\"])\n"
   ]
  },
  {
   "cell_type": "markdown",
   "metadata": {
    "editable": false
   },
   "source": [
    "To start, how many divides (i.e., instructions with `div` in their names) are there? -- zero!\n",
    "\n",
    "Something strange is going on.  How is the compiler dividing (hint:  it's the weirdest looking thing in this code) Even if you don't know how _exactly_ it's dividing, can you tell _how many times_ its dividing?"
   ]
  },
  {
   "cell_type": "markdown",
   "metadata": {
    "cse142L.is_response": true,
    "cse142L.points": 1,
    "cse142L.question_type": "completeness",
    "deletable": false,
    "editable": true,
    "solution2": "hidden",
    "solution2_first": true
   },
   "source": [
    "<div class=\"question completeness\">\n",
    "\n",
    "<div class=\"question-text\">\n",
    "\n",
    "For each `DIV()` in the code above, list the optimizations that the compiler applied to the code and the combined effect they had.  (hint: the optimizations we've discussed are sufficient)\n",
    "    \n",
    "</div>\n",
    "    \n",
    "<div class=\"answer\">\n",
    "    \n",
    "|              | optimizations | effect |\n",
    "|--------------|---------------|--------|\n",
    "|DIV(size,3)  |  \n",
    "|  DIV(8/3)   | \n",
    "|  DIV(i,2)   | \n",
    "    \n",
    "</div>\n",
    "</div>"
   ]
  },
  {
   "cell_type": "markdown",
   "metadata": {
    "editable": false,
    "solution2": "hidden"
   },
   "source": [
    "<div class=\"solution\">\n",
    "    \n",
    "`DIV(size,3)`:  If you go looking for this divide in the unoptimized code, you won't find it:  The compiler uses strength reduction to convert division by a constant into multiplication by the inverse of that constant.  Or, to think about it another way, `size/3` becomes `size * 1/3`, is just algebra.  \n",
    "    \n",
    "In the unoptimized code, the compiler does dutifully execute it twice, however:  The `1/3` comes from the `movabsq` instruction in unoptimized blocks `n1` and `n2`. That huge immediate value is binary for `1/3`.\n",
    "    \n",
    "In the optimized code, the compiler recognizes that `DIV(size,3)` is loop-invariant and a common sub-expression, so all the instances of it get moved into block `n0`, where it executes just once at the beginning, rather than twice in each iteration.\n",
    "    \n",
    "`DIV(8/3)`:  This expression is a constant (`8/3 = 2` in integer math), so the compiler computes the value and stores it as the constant in the first `addl` in block `n2` of the unoptimized code.  Is the optimized code, it's the `2` in `2(%rcx)` in block `n2`.\n",
    "    \n",
    "`DIV(i/2)`:  Here, again, strength reduction happens even without optimizations turned on: This divide becomes `shrl` in unoptimized block `n2`. It's the same thing in the optimized version.\n",
    "\n",
    "So, in total, the optimizer removed or optimized away everything by a single shift in the loop body.  You can also see that it removed a bunch of other instructions too.  For fun, you could figure out why the rest of them are not necessary.  \n",
    "    \n",
    "</div>"
   ]
  },
  {
   "cell_type": "markdown",
   "metadata": {
    "editable": false
   },
   "source": [
    "## Function Inlining"
   ]
  },
  {
   "cell_type": "markdown",
   "metadata": {
    "editable": false
   },
   "source": [
    "So far, all the optimizations have only affected a single function and none of them will have any impact on the call graph of our program.  This means they cannot hope to fix those monstrous call graphs that we got from invoking relatively simple STL functions.  Function _inlining_ will change all that.\n",
    "\n",
    "### Function Call Overhead \n",
    "\n",
    "Before we get to inlining, let's talk a little about functions.  When you a write a function, the code you write turns into the \"body\" of the function.  However, the processor has to do some work to _make_ the function call and each function includes some overhead instructions in addition to instructions for code the function contains.  For example, consider this code:"
   ]
  },
  {
   "cell_type": "code",
   "execution_count": null,
   "metadata": {
    "editable": false
   },
   "outputs": [],
   "source": [
    "prologue = build(code(r\"\"\"\n",
    "\n",
    "extern \"C\"\n",
    "long int sum(long int a, long int b) {\n",
    "    return a + b;\n",
    "}\n",
    "\n",
    "int main(){\n",
    "    return sum(1,2);\n",
    "}\n",
    "\"\"\"), arg_map(DEBUG_FLAGS=\"-g0\", OPTIMIZE=\"-O4\"))\n",
    "compare([prologue[0].source(), prologue[0].asm()])\n"
   ]
  },
  {
   "cell_type": "markdown",
   "metadata": {
    "editable": false
   },
   "source": [
    "<div class=\"sidebar\">\n",
    "    <div class=\"title\">The Application Binary Interface (ABI)</div>    \n",
    "\n",
    "There are several standardized protocols for how arguments are passed to functions and even how names are mangled.  These protocols are called \"application binary interfaces\" or ABIs.  It's important that the caller (the function that calls) and the callee (the function that is called) agree on the ABI.   The ABI dictates which arguments go in which register and in what order, the number of bits in an `int` vs a `long int`, how things like pass-by-value vs. pass-by-references are implemented, and how C++ virtual function tables (which implement virtual functions) are laid out. Generally speaking, if two object files (i.e., `.o` files) were compiled with the same ABI, functions in one object file can call functions in another.  \n",
    "\n",
    "For the most part, you can think of there being one ABI per operating system, but that's not completely accurate.  Linux has (at least) two: one for the kernel and one for user programs.  Microsoft has one.  Intel has defined a standard as well.  The [wikipedia page](https://en.wikipedia.org/wiki/Application_binary_interface) has a little more detail.\n",
    "    \n",
    "If you're curious, use the code cell to see how the compiler passes, `struct`s, pointers to `struct`, and C++ references to `struct`s.  What's surprising about how it implements those three different language constructs?\n",
    "    \n",
    "</div>\n",
    "\n",
    "\n",
    "The body of `sum` is very simple:  It should just be a single add instruction, but instead it has to return as well and the [`endbr64` instruction](https://stackoverflow.com/a/56910435/3949036) which is a recently-added security feature.  The _call site_ in `main` takes 5 instructions:  Adjust the stack, store two arguments into registers, call function, and re-adjust the stack pointer.  The `ret` is part of the overhead for calling `main`, not `sum`.\n",
    "\n",
    "In this case, the _function call overhead_ is eight instructions: 1 x  `subq`,  2 x `movl`,  1 x `call`, 1x `endbr64`,1 x `ret`, and 1x `addq`.\n",
    "\n",
    "Recall the earlier example with `std::sort` and how many function calls were involved.  Each of them incurred this kind of overhead.  What a waste!"
   ]
  },
  {
   "cell_type": "markdown",
   "metadata": {
    "cse142L.is_response": true,
    "cse142L.question_type": "optional",
    "deletable": false,
    "editable": true
   },
   "source": [
    "<div class=\"question optional\">\n",
    "\n",
    "<div class=\"question-text\">\n",
    "\n",
    "What happens to function call overhead if you add more arguments (something interesting happens past 8)?  What if pass a struct?   How does the complexity of _the caller_ affect function call overhead?\n",
    "    \n",
    "</div>\n",
    "    \n",
    "<div class=\"answer\">\n",
    "    \n",
    "    \n",
    "</div>\n",
    "</div>\n",
    "\n"
   ]
  },
  {
   "cell_type": "markdown",
   "metadata": {
    "editable": false
   },
   "source": [
    "### Removing Function Call Overheads\n",
    "\n",
    "One way to remove the function call overhead is to copy the body of the function (i.e., the useful part) to the caller.  Then, we don't need to pass arguments, make the `call`, or do the `ret`.\n",
    "The compiler can do this automatically by _inlining_ the function.\n",
    "\n",
    "For instance, the compiler can inline `foo` into `loop`:"
   ]
  },
  {
   "cell_type": "code",
   "execution_count": null,
   "metadata": {
    "editable": false
   },
   "outputs": [],
   "source": [
    "\n",
    "overhead = build(code(r\"\"\"\n",
    "#include<iostream>\n",
    "#include <unistd.h>\n",
    "#include\"fastrand.h\"\n",
    "\n",
    "int k = 0;\n",
    "extern \"C\" \n",
    "int inline __attribute__ ((used)) foo( register int a, register int b) { \n",
    "    if (a + k)\n",
    "        return b+k;\n",
    "    else\n",
    "        return 2 *k;\n",
    "}\n",
    "\n",
    "extern \"C\"\n",
    "int loop(int bound){\n",
    "    register int i;\n",
    "    register int s = 0;\n",
    "    for(i = 0; i < bound; i++) {\n",
    "        s += foo(i,i+1);\n",
    "    }\n",
    "    return s;\n",
    "}\n",
    "\n",
    "\n",
    "\"\"\"), arg_map(OPTIMIZE=[\"-O0 -g0\", \"-O2 -g0\"]))\n",
    "\n",
    "compare([overhead[0].source(\"foo\"), overhead[0].cfg(\"foo\")], [\"foo()\", \"No inlining\"])\n",
    "compare([overhead[0].source(\"loop\"), overhead[0].cfg(\"loop\")], [\"loop()\", \"No inlining\"])\n",
    "compare([overhead[1].cfg(\"loop\")], [\"loop() with inlining\"])\n"
   ]
  },
  {
   "cell_type": "markdown",
   "metadata": {
    "editable": false
   },
   "source": [
    "When the compiler is finished with `loop()` it contains all the code that was in `foo()`.  It also no longer contains a function call at all."
   ]
  },
  {
   "cell_type": "markdown",
   "metadata": {
    "cse142L.is_response": true,
    "cse142L.points": 1,
    "cse142L.question_type": "completeness",
    "deletable": false,
    "editable": true,
    "solution2": "hidden",
    "solution2_first": true
   },
   "source": [
    "<div class=\"question completeness\">\n",
    "\n",
    "<div class=\"question-text\">\n",
    "\n",
    "Based on the change in instruction count (IC), how much speedup does inlining provide in this case? \n",
    "    \n",
    "</div>\n",
    "    \n",
    "<div class=\"answer\">\n",
    "    \n",
    "</div>\n",
    "</div>"
   ]
  },
  {
   "attachments": {
    "image.png": {
     "image/png": "[encoded data removed]"
    }
   },
   "cell_type": "markdown",
   "metadata": {
    "editable": false,
    "solution2": "hidden"
   },
   "source": [
    "<div class=\"solution\">\n",
    "    \n",
    "Without inlining, each trip through `for` loop takes 21 or 22 instructions depending on the branch: (8 in `loop()` and 13 or 14 in `foo()`).  With inlining, it's 7.  \n",
    "    \n",
    "How big a difference this makes depends on the value of `argc`.  Let's assume it's large (like 100).  In this case the instructions before and after the loop contribute very little to `IC` and we can ignore them.   So the speedup (ignoring the first and last basic block) approximately 22/7 = 3.14x, which is almost $\\pi$!\n",
    "    \n",
    "![image.png](attachment:image.png)\n",
    "\n",
    "</div>"
   ]
  },
  {
   "cell_type": "markdown",
   "metadata": {
    "editable": false
   },
   "source": [
    "But this is just the beginning of inlining's power, because it also vastly increases the opportunities to apply other optimizations.  Consider `foo()` in the example above.  Without inlining, the compiler can only apply optimizations that will work for _all_ values of `a` and `b`.  However, once `foo()` is inlined, the compiler can optimize _that copy_ of `foo()` for the values of `a` and `b` at that call site.  Then it is free to apply all the other optimizations we've discussed already.\n",
    "\n",
    "For instance:"
   ]
  },
  {
   "cell_type": "code",
   "execution_count": null,
   "metadata": {
    "editable": false
   },
   "outputs": [],
   "source": [
    "byebye = build(code(r\"\"\"\n",
    "extern \"C\" inline int the_loop(register int a) { \n",
    "    register int i;\n",
    "    register int sum = 0;\n",
    "    for(i = 0; i < a; i++) {\n",
    "        sum += i;\n",
    "    }\n",
    "    return sum;\n",
    "}\n",
    "\n",
    "extern \"C\" \n",
    "int caller() {\n",
    "    int sum = 0;\n",
    "    for(int i = 0; i < 10; i++) {\n",
    "        sum += the_loop(20);\n",
    "    }\n",
    "    return sum;\n",
    "}\n",
    "\n",
    "\"\"\"), arg_map(OPTIMIZE=[\"-O0 -g0 -fkeep-inline-functions\", \"-O2 -g0 -fkeep-inline-functions\"]))\n",
    "\n",
    "compare([byebye[0].source(), byebye[0].cfg(\"the_loop\")], [\"the_loop()\", \"No inlining\"])\n",
    "compare([byebye[0].source(\"caller\"), byebye[0].cfg(\"caller\")], [\"caller()\", \"No inlining\"])\n",
    "compare([byebye[1].cfg(\"caller\")], [\"caller() with inlining\"])\n",
    "\n"
   ]
  },
  {
   "cell_type": "markdown",
   "metadata": {
    "editable": false
   },
   "source": [
    "Bye bye, function call!  Bye Bye, loops!\n",
    "\n",
    "![bye bye](https://media3.giphy.com/media/tuvMgAPzxaQBq/200.webp?cid=ecf05e47jb4f5ojpiqlpr9o2b5wdn980swe4q4pcbwxmbxcu&rid=200.webp&ct=g)\n"
   ]
  },
  {
   "cell_type": "markdown",
   "metadata": {
    "cse142L.is_response": true,
    "cse142L.points": 1,
    "cse142L.question_type": "completeness",
    "deletable": false,
    "editable": true,
    "solution2": "hidden",
    "solution2_first": true
   },
   "source": [
    "<div class='question completeness'>\n",
    "\n",
    "<div class=\"question-text\">\n",
    "\n",
    "Which optimizations did the compiler apply to come up with inlined, optimized version of `caller()`?  For each optimization explain what it accomplished.\n",
    "    \n",
    "</div>\n",
    "    \n",
    "<div class='answer'>\n",
    "\n",
    "\n",
    "</div>\n",
    "</div>"
   ]
  },
  {
   "cell_type": "markdown",
   "metadata": {
    "editable": false,
    "solution2": "hidden"
   },
   "source": [
    "<div class=\"solution\">\n",
    "The compiler applied:\n",
    "    \n",
    "1. Inlining -- It merged `foo()` into the loop.\n",
    "2. constant propagation -- The loop bound becomes constant.\n",
    "3. Loop unrolling -- It completely unrolled the loop because it has a constant loop bound.\n",
    "4. constant prop -- It evaluated the unrolled loop at compile time.\n",
    "</div>"
   ]
  },
  {
   "cell_type": "markdown",
   "metadata": {
    "editable": false
   },
   "source": [
    "# C++ Revisited"
   ]
  },
  {
   "cell_type": "markdown",
   "metadata": {
    "editable": false
   },
   "source": [
    "C++ is an amazing language and it places a large burden on the compiler which has to implement all its interesting features and make it go fast.  Below, let's look at how the optimizations you've explored can fix the messy call graph we saw earlier.  Then, we'll investigate the impact of virtual functions.\n",
    "\n",
    "## Optimizations in C++\n",
    "\n",
    "We now have all the tools we need to see how a compiler can handle the messiness of C++ and its standard library.  Here's the sort example from earlier with and without optimizations:"
   ]
  },
  {
   "cell_type": "code",
   "execution_count": null,
   "metadata": {
    "editable": false
   },
   "outputs": [],
   "source": [
    "no_inlining = call_graph(code(r\"\"\"\n",
    "#include<algorithm>\n",
    "#include\"cfiddle.hpp\"\n",
    "\n",
    "\n",
    "extern \"C\" uint64_t stl_sort(uint64_t * array, uint64_t size);\n",
    "\n",
    "extern \"C\" void sort_harness(uint64_t size, uint64_t seed) {\n",
    "\n",
    "\tuint64_t *array = new uint64_t[size];\n",
    "\tfor(uint64_t i = 0; i < size; i++) {\n",
    "\t\tarray[i] = fast_rand(&seed);\n",
    "\t}\n",
    "\tstl_sort(array, size);\n",
    "}\n",
    "\n",
    "int main() {\n",
    "    sort_harness(1000, 1);\n",
    "    return 0;\n",
    "}\n",
    "\n",
    "extern \"C\" uint64_t stl_sort(uint64_t * array, uint64_t size) {\n",
    "    start_measurement();\n",
    "    std::sort(array, &array[size]);\n",
    "    end_measurement();\n",
    "    return array[size-1];\n",
    "}\n",
    "\n",
    "\"\"\", file_name=\"./stl_sort.cpp\"), root=\"stl_sort\", quiet_on_success=True)\n",
    "\n",
    "inlining = call_graph(\"./stl_sort.cpp\",opt=\"-O1\", root=\"stl_sort\", quiet_on_success=True)\n",
    "\n",
    "compare([no_inlining, inlining], [\"Without inlining\", \"With inlining\"])\n",
    "\n",
    "sort = build(\"./stl_sort.cpp\", build_parameters=arg_map(OPTIMIZE=[\"-O0 -g0\", \"-O1 -g0\"]))\n",
    "\n",
    "compare([sort[0].cfg(\"stl_sort\"), sort[1].cfg(\"stl_sort\")], [\"Without inlining\", \"With inlining\"])\n",
    "\n"
   ]
  },
  {
   "cell_type": "markdown",
   "metadata": {
    "editable": false
   },
   "source": [
    "What a difference some optimization can make!  A few things to note about the optimized code:\n",
    "\n",
    "1. The call to `std::sort()` is gone.  It's been inlined into `stl_sort()`, which now calls several other functions that `std::sort()` calls.\n",
    "2.  The CFG for `stl_sort()` is more complex because it contains parts of `std::sort`.\n",
    "3.  The optimized call graph above is _much_ shallower, and there are vastly few function calls (you'll have to double click and zoom in to see that).  The call graph is probably missing some calls due to some limitations of `gprof` (there are a few other function calls in `one()`), but the situation is clearly much better.\n",
    "\n",
    "There's a large impact on performance as well.  The cell below runs a very similar code to the code above, and this cell takes a while...:\n"
   ]
  },
  {
   "cell_type": "code",
   "execution_count": null,
   "metadata": {
    "editable": false
   },
   "outputs": [],
   "source": [
    "sort = build(\"./stl_sort.cpp\", \n",
    "             build_parameters=arg_map(OPTIMIZE=[\"-O0\", \"-Og\", \"-O3\"], DEBUG_FLAGS=\"-g0\"))\n",
    "\n",
    "sort_run = run(sort, function=\"sort_harness\", arguments=arg_map(size=10000000, seed=42))"
   ]
  },
  {
   "cell_type": "code",
   "execution_count": null,
   "metadata": {
    "editable": false
   },
   "outputs": [],
   "source": [
    "sort_df = PE_calc(sort_run.as_df())\n",
    "display(sort_df)\n",
    "plotPEBar(df=sort_df,\n",
    "          what=[(\"OPTIMIZE\", \"IC\"),\n",
    "                (\"OPTIMIZE\", \"CPI\"),\n",
    "                (\"OPTIMIZE\", \"CT\"), \n",
    "                (\"OPTIMIZE\", \"ET\")])"
   ]
  },
  {
   "cell_type": "markdown",
   "metadata": {
    "cse142L.is_response": true,
    "cse142L.points": 3,
    "cse142L.question_type": "correctness",
    "deletable": false,
    "editable": true
   },
   "source": [
    "<div class=\"question correctness points-3\">\n",
    "\n",
    "<div class=\"question-text\">\n",
    "    \n",
    "Based on the data above compute the speedup of `-O3` over `-O0` for `IC`, `CPI`, and `ET`.  \n",
    "</div>\n",
    "    \n",
    "<div class=\"answer\">\n",
    "\n",
    "|            | speedup | \n",
    "|------------|---------|\n",
    "| `IC`       | \n",
    "| `CPI`      | \n",
    "| `ET`       | \n",
    "    \n",
    "</div>\n",
    "    \n",
    "</div>"
   ]
  },
  {
   "cell_type": "markdown",
   "metadata": {
    "editable": false
   },
   "source": [
    "That is why you should compile your C++ code with optimizations turned on."
   ]
  },
  {
   "cell_type": "markdown",
   "metadata": {
    "editable": false
   },
   "source": [
    "## C++ Virtual Functions"
   ]
  },
  {
   "cell_type": "markdown",
   "metadata": {
    "editable": false
   },
   "source": [
    "C++ has a lot of fancy object-oriented features, and one of the most powerful is virtual functions (sometimes also called \"virtual methods\").  However, an often-cited downside of virtual functions is that they are more expensive than normal functions.  A [google search](https://www.google.com/search?q=C%2B%2B+virtual+function+call+overhead) for \"C++ virtual function call overhead\" produces an astonishing number of hits.   Let's see for ourselves!\n",
    "\n",
    "\n",
    "<div class=\"alert alert-block alert-info\">\n",
    "    \n",
    "**Virtual function refresher**: Virtual Functions in C++ allow child classes to override member functions of parent classes. Then, when a member function is called on a pointer to an instance of the class (e.g., `p->foo()`), C++ determines _at run time_ which version of the function to call.  This means the compiler doesn't know what function is being called.\n",
    "    \n",
    "</div>\n",
    "\n",
    "In the code below, we have a class with a single, virtual function that we'll call in two different ways.  \n",
    "\n",
    "In `static_call()` we allocate an instance of `A` as a local variable.  This lets the compiler know, for certain, that `a` is actually of type `a` and not a subclass of `A` that has overridden `foo()`.   As a result, when we invoke `a.foo()`, it is not a virtual call.  It's a \"static\" call.\n",
    "\n",
    "In `virtual_call()`, we create an instance of `A` using `new` and store _a pointer to it_ in `a` which is of type `A*`.  Now, when we invoke `a->foo()`, all the compiler knows is that `a` points to an instance of `A` or a _subclass of_ `A` that might have overridden `foo()`.  In this case, it has to make a \"virtual\" or \"dynamic\" call to `foo()`.  (It's worth noting that it seems like the compiler could infer that `a` points to an instance of `A` instead of an instance of a subclass.  However, our compiler seems to not be that smart.)\n",
    "\n",
    "Run the cell, and we'll look at the assembly."
   ]
  },
  {
   "cell_type": "code",
   "execution_count": null,
   "metadata": {
    "editable": false
   },
   "outputs": [],
   "source": [
    "virt = build(code(r\"\"\"\n",
    "#include<cstdint>\n",
    "#include\"cfiddle.hpp\"\n",
    "\n",
    "class A {\n",
    "public:\n",
    "    virtual void bar() {}\n",
    "    virtual int foo(int x) {\n",
    "        int s = 0;\n",
    "        for(int i = 0; i < 10; i++) {\n",
    "            s += x;\n",
    "        }\n",
    "        return s;\n",
    "    }\n",
    "};\n",
    "\n",
    "\n",
    "extern \"C\" int static_call(uint64_t  size) {\n",
    "    A a;\n",
    "    register int sum = 0;\n",
    "    \n",
    "    start_measurement();\n",
    "    for(register uint64_t i = 0; i < size ; i++)\n",
    "        sum += a.foo(4);\n",
    "    end_measurement();\n",
    "    \n",
    "    return sum;\n",
    "}\n",
    "\n",
    "extern \"C\" int virtual_call(uint64_t  size) {\n",
    "    register A * a = new A();\n",
    "    register int sum = 0;\n",
    "    \n",
    "    start_measurement();\n",
    "    for(register uint64_t i = 0; i < size ; i++)\n",
    "        sum += a->foo(4);\n",
    "    end_measurement();\n",
    "    \n",
    "    return sum;\n",
    "}\n",
    "\n",
    "\"\"\", file_name=\"virt.cpp\"), build_parameters=arg_map(OPTIMIZE=[\"-Og -fno-inline\", \"-O3\"]))\n",
    "                     \n"
   ]
  },
  {
   "cell_type": "code",
   "execution_count": null,
   "metadata": {
    "editable": false
   },
   "outputs": [],
   "source": [
    "display(heading(\"Static call (no inlining)\"))\n",
    "display(virt[0].cfg(\"static_call\", number_nodes=True))\n",
    "display(heading(\"virtual call (no inlining)\"))\n",
    "display(virt[0].cfg(\"virtual_call\", number_nodes=True))"
   ]
  },
  {
   "cell_type": "markdown",
   "metadata": {
    "editable": false
   },
   "source": [
    "On the top, is `static_call()`.   In block `n2` you can see the call to `A::foo(int)` in the form of `callq 0x10d0`.\n",
    "\n",
    "\n",
    "`virtual_call()` is on the bottom.  The structure is similar the same, but this time the call is in `n3`.  Instead of invoking the function via a fixed address, it's calling the function whose address is in `%rax`: `callq *8(%rax)`.\n",
    "\n",
    "The instructions before `callq *8(%rax)` are looking up the address of `a`'s virtual method `foo` in `a`'s _virtual table_ or _vtable_.  \n",
    "\n",
    "Here's what's going on in `n3` of `virtual_call()`:\n",
    "\n",
    "1. `a` is in `%rbp`\n",
    "2. `movq` loads the first word of `b` into `%rax`.  According to the C++ ABI, the first word of an object with virtual methods is the address of the object's vtable, so `%rax` now has the base of the vtable.\n",
    "3. `movl` set's the function's second argument for `foo` to `4`.\n",
    "4. `movq` set's the function's first argument to the address of `a`.  This is the implicit `this` parameter that every method call receives.\n",
    "5. `callq *8(%rax)` adds 8 to the base address of the vtable, loads that value as a function pointer, and calls it.  The 8 is the offset of `foo` in `a`'s virtual table (the function `bar()` is the first slot at offset 0).\n",
    "\n",
    "The invocation of `a.foo()` on the left is simpler: `a` is in `%rsi`.  The code still passes `4` and `this`, but it doesn't have to load the vtable, it just calls `A::foo` directly.\n",
    "\n",
    "In this code, the difference between the virtual and non-virtual invocation is pretty small:  Just a few instructions per loop iteration.\n",
    "\n",
    "But let's see what happens when we turn on more optimizations:"
   ]
  },
  {
   "cell_type": "code",
   "execution_count": null,
   "metadata": {
    "editable": false
   },
   "outputs": [],
   "source": [
    "display(heading(\"Static call (Lots of optimizations)\"))\n",
    "display(virt[1].cfg(\"static_call\", number_nodes=True))\n",
    "display(heading(\"virtual call (Lots of optimizations)\"))\n",
    "display(virt[1].cfg(\"virtual_call\", number_nodes=True))"
   ]
  },
  {
   "cell_type": "markdown",
   "metadata": {
    "editable": false
   },
   "source": [
    "For `static_call()`, the compiler could apply many of the optimizations we've studied:  It inlines `a.foo()`, unrolls the loop and evaluates it at compile time, and then multiplies it times `size`.  It's all wrapped up in `leal` and `shll` in block `n1`.\n",
    "\n",
    "For `virtual_call()`, the compiler...sure does something complicated.  I haven't traced through what exactly it is (If you figure it out, let me know).  However, it's clear what it did not do:  It did not get rid of the virtual function call.  It's there in `n4`.\n",
    "\n",
    "Why can't the compiler inline `a->foo()`?  Or at least just call it once and multiply the result by `size`?  Because it doesn't know what function it will invoke.  The version that actually runs could return random numbers or never return at all, so the compiler _must_ execute it just as the code calls it.\n",
    "\n",
    "Let's see what performance looks like."
   ]
  },
  {
   "cell_type": "code",
   "execution_count": null,
   "metadata": {
    "editable": false
   },
   "outputs": [],
   "source": [
    "virtual_data = run(virt, function=[\"static_call\", \"virtual_call\"], \n",
    "                   arguments=arg_map(size=100000000)).as_df()\n",
    "virtual_data[\"experiment\"] = virtual_data[\"function\"] + \"-\" + virtual_data[\"OPTIMIZE\"]\n",
    "virtual_df = PE_calc(virtual_data)\n",
    "display(virtual_df)\n",
    "plotPEBar(df=virtual_df, what=[(\"experiment\", \"IC\")])\n"
   ]
  },
  {
   "cell_type": "markdown",
   "metadata": {
    "cse142L.is_response": true,
    "cse142L.points": 2,
    "cse142L.question_type": "correctness",
    "deletable": false,
    "editable": true
   },
   "source": [
    "<div class=\"question correctness points-2\">\n",
    "    \n",
    "<div class=\"question-text\">\n",
    "    \n",
    "How much speedup does the static call to `foo()` provide over the virtual call to `foo()` \"unoptimized\" case?  How about in the optimized case?\n",
    "</div>\n",
    "\n",
    "<div class=\"answer\">\n",
    "\n",
    "\n",
    "    \n",
    "**Speedup in unoptimized case:** \n",
    "    \n",
    "**Speedup in the optimized case:** \n",
    "</div>\n",
    "    \n",
    "</div>"
   ]
  },
  {
   "cell_type": "markdown",
   "metadata": {
    "editable": false
   },
   "source": [
    "This is the main cost of virtual functions:  It's not that calling virtual functions is expensive, it's that using virtual functions vastly reduces the effectiveness of compiler optimizations.\n",
    "\n",
    "And this is why the `stl` containers don't use virtual functions -- they are all template-based instead.  Templates are processed at compile time, so the compiler always knows what's getting called and it can apply inlining.  The massive reduction in call graph complexity we saw for `std::sort` would not have been possible if the `std::sort` used virtual functions to implement a generic sorting algorithm."
   ]
  },
  {
   "cell_type": "markdown",
   "metadata": {
    "cse142L.is_response": true,
    "cse142L.question_type": "optional",
    "deletable": false,
    "editable": true
   },
   "source": [
    "<div class=\"question optional\">\n",
    "    \n",
    "<div class=\"question-text\">\n",
    "    \n",
    "How much speedup do optimizations provide for the `virtual_call()`?  What did the compiler do to achieve this?\n",
    "</div>\n",
    "\n",
    "<div class=\"answer\">\n",
    "\n",
    "</div>\n",
    "    \n",
    "</div>"
   ]
  },
  {
   "cell_type": "markdown",
   "metadata": {
    "editable": false
   },
   "source": [
    "# Compilers are Easily Confused"
   ]
  },
  {
   "cell_type": "markdown",
   "metadata": {
    "editable": false
   },
   "source": [
    "So far, we have seen the compiler do some pretty remarkable things.  The transformations it performed on `std::sort()` are pretty impressive, but we have also seen how some program constructs (like virtual functions) can limit what the compiler can do.\n",
    "\n",
    "There is a second, bigger problem that limits how effectively compiler can optimize: Memory.\n",
    "\n",
    "## Aliases\n",
    "\n",
    "Consider this code and it's assembly:"
   ]
  },
  {
   "cell_type": "code",
   "execution_count": null,
   "metadata": {
    "editable": false
   },
   "outputs": [],
   "source": [
    "alias = build(code(r\"\"\"\n",
    "#include\"cfiddle.hpp\"\n",
    "\n",
    "extern \"C\" void values(int * c, int a, int b) {\n",
    "    *c += a + b;\n",
    "    *c += a + b;\n",
    "    *c += a + b;\n",
    "    *c += a + b;\n",
    "    *c += a + b;\n",
    "}\n",
    "\n",
    "extern \"C\" void pointers(int *c, int * a, int * b) {\n",
    "\n",
    "    *c += *a + *b;\n",
    "    *c += *a + *b;\n",
    "    *c += *a + *b;\n",
    "    *c += *a + *b;\n",
    "    *c += *a + *b;\n",
    "}\"\"\"\n",
    "), build_parameters=arg_map(OPTIMIZE=[\"-O4\"], DEBUG_FLAGS=\"-Og\"))\n",
    "compare([alias[0].asm(\"values\"), alias[0].asm(\"pointers\")], [\"values()\", \"pointers()\"])"
   ]
  },
  {
   "cell_type": "markdown",
   "metadata": {
    "editable": false
   },
   "source": [
    "Despite the code looking almost the same, the assembly output is quite different. "
   ]
  },
  {
   "cell_type": "markdown",
   "metadata": {
    "cse142L.is_response": true,
    "cse142L.points": 1,
    "cse142L.question_type": "completeness",
    "deletable": false,
    "editable": true,
    "solution2": "hidden",
    "solution2_first": true
   },
   "source": [
    "<div class=\"question completeness\">\n",
    "    \n",
    "<div class=\"question-text\">\n",
    "    \n",
    "Add and remove copies of the expression to each function.  What happens to the relative lengths of the resulting assembly code? Why?  What can and can't the compiler assume in each function?  What optimization can it apply?</div>\n",
    "\n",
    "<div class=\"answer\">\n",
    "\n",
    "</div>\n",
    "    \n",
    "</div>"
   ]
  },
  {
   "cell_type": "markdown",
   "metadata": {
    "editable": false,
    "solution2": "hidden"
   },
   "source": [
    "<div class=\"solution\">\n",
    "\n",
    "Strangely adding or removing `*c += *a + *b;` affects the length of the assembly while adding or removing `*c += a + b` does not.\n",
    "\n",
    "Let's start by examining `values()`.  Here, the compiler identifies `a + b` as a common subexpression and replaces any number of `+=` operations with a multiply (in the guise of our old friend `leal`). So, the length of the assembly doesn't change.\n",
    "\n",
    "For `pointers()`, the situation appears, at first, to be the same:  `*a + *b` seems to be a common subexpression.  But is it?  \n",
    "\n",
    "Unfortunately, it is not because it is possible that `c == a` and/or `c == b` which would be that `*c += *a + *b;` could modify `*a` or `*b`.  As a result, the compiler cannot assume that `*a` or `*b` is a constant, so `*a + *b` is not a common subexpression.\n",
    "\n",
    "</div>"
   ]
  },
  {
   "cell_type": "markdown",
   "metadata": {
    "editable": false
   },
   "source": [
    "A situation where two pointers refer to the same values is called an \"alias\" and \"alias analysis\" is compiler's attempt to determine whether or not two variables might alias with one another.  Unfortunately, alias analysis is, in general, very difficult.  In the case of the code above, it is not possible:  It really is the case that `c` could be equal to `a` or `b`, so the compiler has to take that into account.\n",
    "\n",
    "However, the _programmer_ might know that the alias does not exist.  Aliases have a big enough effect on optimizations that the latest standards for C and most dialects of C++ provide a keyword to tell the compiler that aliases don't exist.  In C, it's `restrict`.  For the dialect of C++ that `g++` implements it's `__restrict__`.  Here it is in action:"
   ]
  },
  {
   "cell_type": "code",
   "execution_count": null,
   "metadata": {
    "editable": false
   },
   "outputs": [],
   "source": [
    "noalias = build(code(r\"\"\"\n",
    "#include\"cfiddle.hpp\"\n",
    "\n",
    "extern \"C\" void pointers(int * __restrict__ c, int *__restrict__ a, int *__restrict__ b) {\n",
    "\n",
    "    *c += *a + *b;\n",
    "    *c += *a + *b;\n",
    "    *c += *a + *b;\n",
    "    *c += *a + *b;\n",
    "    *c += *a + *b;\n",
    "}\"\"\"\n",
    "), build_parameters=arg_map(OPTIMIZE=[\"-O2\"], DEBUG_FLAGS=\"-Og\"))\n",
    "compare([noalias[0].asm(\"pointers\")])"
   ]
  },
  {
   "cell_type": "markdown",
   "metadata": {
    "editable": false
   },
   "source": [
    "And now, `*a + *b` _is_ a common subexpression and the compiler can optimize things."
   ]
  },
  {
   "cell_type": "markdown",
   "metadata": {
    "editable": false
   },
   "source": [
    "## Function Calls and Memory"
   ]
  },
  {
   "cell_type": "markdown",
   "metadata": {
    "editable": false
   },
   "source": [
    "The `restrict` keyword can only do so much.  Check out this code:"
   ]
  },
  {
   "cell_type": "code",
   "execution_count": null,
   "metadata": {
    "editable": false
   },
   "outputs": [],
   "source": [
    "side_effect = build(code(r\"\"\"\n",
    "#include\"cfiddle.hpp\"\n",
    "\n",
    "extern \"C\" void something() {\n",
    "}\n",
    "\n",
    "extern \"C\" void pointers(int * __restrict__ c, int *__restrict__ a, int *__restrict__ b) {\n",
    "    *c += *a + *b;\n",
    "    something();\n",
    "    *c += *a + *b;\n",
    "    something();\n",
    "    *c += *a + *b;\n",
    "    something();\n",
    "    *c += *a + *b;\n",
    "    something();\n",
    "    *c += *a + *b;\n",
    "}\n",
    "\n",
    "\"\"\",\n",
    "file_name=\"side_effect.cpp\"), build_parameters=arg_map(OPTIMIZE=[\"-O3\"], DEBUG_FLAGS=\"-Og\"))\n",
    "compare([side_effect[0].asm(\"pointers\")], [html_parameters(side_effect[0].get_build_parameters())])"
   ]
  },
  {
   "cell_type": "markdown",
   "metadata": {
    "cse142L.is_response": true,
    "cse142L.points": 1,
    "cse142L.question_type": "completeness",
    "deletable": false,
    "editable": true,
    "solution2": "hidden",
    "solution2_first": true
   },
   "source": [
    "<div class=\"question completeness\">\n",
    "    \n",
    "<div class=\"question-text\">\n",
    "\n",
    "What's preventing common subexpression elimination here?  What is an optimization that would alleviate the problem?\n",
    "</div>\n",
    "\n",
    "<div class=\"answer\">\n",
    " </div>\n",
    "    \n",
    "</div>"
   ]
  },
  {
   "cell_type": "markdown",
   "metadata": {
    "editable": false,
    "solution2": "hidden"
   },
   "source": [
    "<div class=\"solution\">\n",
    "\n",
    "Based on the earlier example, we should be looking for something that would prevent the compiler from being certain that `*a + *b` is a common sub-expression.  \n",
    "\n",
    "The obvious culprit is `something()`, but it doesn't do _anything_, so it can't possibly have changed the value of `*a` or `*b`.  The problem, though, is that the compiler doesn't know this.\n",
    "\n",
    "As a result, it must assume that `something()` might change _anything, anywhere in memory_, including `*a` or `*b`, so it has to re-calculate `*a + *b` each time.  When a function changes memory in way that's not obvious from it's argument list, it's called a \"side effect\".  So the compiler must assume that `something()` has side effects.\n",
    "\n",
    "The underlying problem is that, by default, `g++` and `gcc` compile code one function at time.  \n",
    "\n",
    "To solve this problem, we could enable function inlining (which I turned off above):\n",
    "\n",
    "</div>"
   ]
  },
  {
   "cell_type": "code",
   "execution_count": null,
   "metadata": {
    "editable": false,
    "solution2": "hidden"
   },
   "outputs": [],
   "source": [
    "side_effect = build(code(r\"\"\"\n",
    "#include\"cfiddle.hpp\"\n",
    "\n",
    "extern \"C\" inline void something() {\n",
    "}\n",
    "\n",
    "extern \"C\" void pointers(int * __restrict__ c, int *__restrict__ a, int *__restrict__ b) {\n",
    "    *c += *a + *b;\n",
    "    something();\n",
    "    *c += *a + *b;\n",
    "    something();\n",
    "    *c += *a + *b;\n",
    "    something();\n",
    "    *c += *a + *b;\n",
    "    something();\n",
    "    *c += *a + *b;\n",
    "}\n",
    "\n",
    "\"\"\",\n",
    "file_name=\"side_effect.cpp\"), build_parameters=arg_map(OPTIMIZE=[\"-O4\"], DEBUG_FLAGS=\"-Og\"))\n",
    "compare([side_effect[0].asm(\"pointers\")], [html_parameters(side_effect[0].get_build_parameters())])"
   ]
  },
  {
   "cell_type": "markdown",
   "metadata": {
    "editable": false
   },
   "source": [
    "There we go!  The compiler can optimize again.\n",
    "\n",
    "However, inlining can only do so much.  If `something()` were defined in another file or, even worse, in a library.  The compiler would have to assume that `something()` had side effects."
   ]
  },
  {
   "cell_type": "markdown",
   "metadata": {
    "editable": false
   },
   "source": [
    "# Practical Rules For Using Compiler Optimizations"
   ]
  },
  {
   "cell_type": "markdown",
   "metadata": {
    "editable": false
   },
   "source": [
    "The single most important lesson to learn from this lab is that you should compile your code with optimizations turned on.  It is the easiest 2-10x boost in performance you can get.\n",
    "\n",
    "Fortunately, it's pretty simple to do that.  Somewhat overwhelmingly, gcc provides around [300 flags](https://gcc.gnu.org/onlinedocs/gcc/Optimize-Options.html) that control optimization and a bunch of tunable parameters as well, but in practice you don't need to worry about them.\n",
    "\n",
    "There are just a handful that are typically useful.  Here's what the gcc docs have to say about them:\n",
    "\n",
    "* `-O0`: Perform no optimizations.  You should never use this unless you're just playing around.\n",
    "* `-O1`: \"the compiler tries to reduce code size and execution time, without performing any optimizations that take a great deal of compilation time.\"\n",
    "* `-O2`: \"GCC performs nearly all supported optimizations that do not involve a space-speed tradeoff.\"  \"Space\" in this context means the number of static instructions generated.\n",
    "* `-O3`: \"Optimize yet more\"\n",
    "* `-Og`: \"Optimize debugging experience. -Og should be the optimization level of choice for the standard edit-compile-debug cycle, offering a reasonable level of optimization while maintaining fast compilation and a good debugging experience.\"\n",
    "\n",
    "A final option that can be useful is `-march=`.  This allows you to set the specific version of the processor your are compiling for.  By default, gcc generates assembly that'll run on any 64-bit x86 machine (the first of these appeared in 2002).  There are many options here (you can see them all with `gcc -Q --help=target`), but most useful is `-march=native`.   This setting compiles your code for the machine you are running on.  It might not run on an older machine.\n",
    "\n",
    "So, if you want to run code on the local machine.  A good default set of flags is `-O3 -march=native`.  In this class, we compile locally an run stuff in the cloud.  For the cloud machines, the right setting is `-march=skylake`, so that's a good default for this class.\n",
    "\n",
    "The benefits of `-march=native` are highly variable.\n",
    "\n",
    "Among these, `-Og` is a relatively new flag that \"optimizes the debugging experience\".  What does that mean?  The optimizations we described above (especially function inlining, but others as well) can cause strange behavior when you debug.  For instance, consider the inlined version of `stl_sort()` in the previous section.  If you set a break point in the `something()` function that  `pointers()` calls in the example above, your code would never stop because that function is never called.  Likewise, we've seen loops and variables disappear.  This can make debugging really difficult and frustrating.  On the other hand, compiling with `-O0` will make the code much, much slower (just look at the graphs above).  \n",
    "\n",
    "So `-Og` strikes a balance:  It optimizes but avoids these problems in debugging.\n",
    "\n",
    "Here's what that balance looks like:"
   ]
  },
  {
   "cell_type": "code",
   "execution_count": null,
   "metadata": {
    "editable": false
   },
   "outputs": [],
   "source": [
    "plotPEBar(df=sort_df,\n",
    "          what=[(\"OPTIMIZE\", \"IC\"),\n",
    "                (\"OPTIMIZE\", \"CPI\"),\n",
    "                (\"OPTIMIZE\", \"CT\"), \n",
    "                (\"OPTIMIZE\", \"ET\")])"
   ]
  },
  {
   "cell_type": "markdown",
   "metadata": {
    "editable": false
   },
   "source": [
    "There's not a huge difference between `-O3` and `-Og`...  You might conclude that `-O3` is not worth it, but I'd want to see data for a range of different, more realistic programs.  Our examples here are tiny.\n",
    "\n",
    "So, in practice you should:\n",
    "\n",
    "* Use `-Og` when debugging and developing.\n",
    "* Use `-O3` when deploying (and maybe `-march` if you can be sure of what hardware you'll be running on).\n",
    "\n",
    "The other 298 options have their uses, but unless you are interested in squeezing out the very last drop of performance (and doing the experiments to check that the optimizations help), they are not worth the effort and are pretty hard to use productively.  It's usually a lot of trial and error.\n",
    "\n",
    "That said, by the time you've finished this class, you'll have a pretty deep understanding of CPU performance and how to look \"under the hood\" at what the compiler is doing.  So, you'll be in a good position to read about those other options and design meaningful experiments that let you measure their impact.\n",
    "\n"
   ]
  },
  {
   "cell_type": "markdown",
   "metadata": {
    "editable": false
   },
   "source": [
    "# How the Compiler Implements (and Optimizes) Common C++ Constructs"
   ]
  },
  {
   "cell_type": "markdown",
   "metadata": {
    "editable": false
   },
   "source": [
    "As I mentioned early in the class (and as you will need for the programming assignment), one goal of this class is to give you better intuition about what the compiler does to your code.  To help with that, let's take a look at common C++ constructs to see what kind of assembly they generate with and without optimizations.  You'll probably want to read this section carefully while working on the programming assignment."
   ]
  },
  {
   "cell_type": "markdown",
   "metadata": {
    "editable": false
   },
   "source": [
    "## Trivial Function\n",
    "\n",
    "Let's see what it takes to call the smallest function possible:"
   ]
  },
  {
   "cell_type": "code",
   "execution_count": null,
   "metadata": {
    "cse142L.is_response": true,
    "deletable": false,
    "editable": true
   },
   "outputs": [],
   "source": [
    "\n",
    "foo = build(code(r\"\"\"\n",
    "#include\"cfiddle.hpp\"\n",
    "\n",
    "extern \"C\" void foo() {\n",
    "}\n",
    "\"\"\"), arg_map(OPTIMIZE=[\"-O0\", \"-O3\"], DEBUG_FLAGS=\"-g0 -Wno-unused\"))\n",
    "compare([x.asm(\"foo\") for x in foo], [f\"OPTIMIZE = {x.get_build_parameters()['OPTIMIZE']}\" for x in foo])\n"
   ]
  },
  {
   "cell_type": "markdown",
   "metadata": {
    "editable": false
   },
   "source": [
    "It doesn't take much, especially with optimizations."
   ]
  },
  {
   "cell_type": "markdown",
   "metadata": {
    "editable": false
   },
   "source": [
    "## Local Variable Access"
   ]
  },
  {
   "cell_type": "code",
   "execution_count": null,
   "metadata": {
    "cse142L.is_response": true,
    "deletable": false,
    "editable": true
   },
   "outputs": [],
   "source": [
    "\n",
    "foo = build(code(r\"\"\"\n",
    "#include\"cfiddle.hpp\"\n",
    "\n",
    "extern \"C\" void foo() {\n",
    "        int i = 0;\n",
    "        i = 4;\n",
    "}\n",
    "\n",
    "extern \"C\" void bar() {\n",
    "        register int i = 0;\n",
    "        i = 4;\n",
    "}\n",
    "\n",
    "\"\"\"), arg_map(OPTIMIZE=[\"-O0\", \"-O3\"], DEBUG_FLAGS=\"-g0 -Wno-unused\"))\n",
    "compare([x.asm(\"foo\") for x in foo], [f\"OPTIMIZE = {x.get_build_parameters()['OPTIMIZE']}\" for x in foo])"
   ]
  },
  {
   "cell_type": "markdown",
   "metadata": {
    "editable": false
   },
   "source": [
    "The code above is for `foo()`.   Without optimizations, every non-`register` access is a load or a store:  The `movl` instructions store 0 and the 4 to `i`.  \n",
    "\n",
    "The optimizer realizes the whole thing is pointless and just returns.\n",
    "\n",
    "Let's look at `bar()`:"
   ]
  },
  {
   "cell_type": "code",
   "execution_count": null,
   "metadata": {
    "editable": false
   },
   "outputs": [],
   "source": [
    "compare([x.asm(\"bar\") for x in foo], [f\"OPTIMIZE = {x.get_build_parameters()['OPTIMIZE']}\" for x in foo])"
   ]
  },
  {
   "cell_type": "markdown",
   "metadata": {
    "editable": false
   },
   "source": [
    "The optimized code is the same, but adding the `register` keyword got rid of the memory accesses for `i`.  In fact, `i` is now totally gone.\n"
   ]
  },
  {
   "cell_type": "markdown",
   "metadata": {
    "editable": false
   },
   "source": [
    "## Array Access"
   ]
  },
  {
   "cell_type": "code",
   "execution_count": null,
   "metadata": {
    "cse142L.is_response": true,
    "deletable": false,
    "editable": true
   },
   "outputs": [],
   "source": [
    "\n",
    "foo = build(code(r\"\"\"\n",
    "#include\"cfiddle.hpp\"\n",
    "\n",
    "extern \"C\" uint foo(register  uint * array) {\n",
    "    return array[4];\n",
    "}\n",
    "\n",
    "\"\"\"), arg_map(OPTIMIZE=[\"-O0\", \"-O3\"], DEBUG_FLAGS=\"-g0 -Wno-unused\"))\n",
    "\n",
    "compare([x.asm(\"foo\") for x in foo], [f\"OPTIMIZE = {x.get_build_parameters()['OPTIMIZE']}\" for x in foo])"
   ]
  },
  {
   "cell_type": "markdown",
   "metadata": {
    "editable": false
   },
   "source": [
    "**Note**:  A reminder than in x86 the first 6 function arguments are passed in %rdi, %rsi, %rdx, %rcx, %r8, and %r9.\n",
    "\n",
    "To access an array, we need to compute the address of the element.  In general, it looks like `array_address + sizeof(element) * index`.  In this case, that works out to `4*4 = 16` and you can see that constant 16 shows in the `movl`.  The addressing mode it uses (`n(%rax)`) adds `n` to `%rax` and uses that as the effective address.\n",
    "\n",
    "Without `register` on the declaration of `array`, the compiler emits several more instructions.  Try modifying the above cell and see if you can figure out what it's doing.\n",
    "\n",
    "With optimizations, there's a single load instruction."
   ]
  },
  {
   "cell_type": "markdown",
   "metadata": {
    "editable": false
   },
   "source": [
    "## Complex Array Access"
   ]
  },
  {
   "cell_type": "code",
   "execution_count": null,
   "metadata": {
    "cse142L.is_response": true,
    "deletable": false,
    "editable": true
   },
   "outputs": [],
   "source": [
    "\n",
    "foo = build(code(r\"\"\"\n",
    "#include\"cfiddle.hpp\"\n",
    "\n",
    "extern \"C\" uint foo(register  uint * array, register uint64_t i, register uint64_t k) {\n",
    "    return array[i * 5 + k];\n",
    "}\n",
    "\n",
    "\"\"\"), arg_map(OPTIMIZE=[\"-O0\", \"-O3\"], DEBUG_FLAGS=\"-g0 -Wno-unused\"))\n",
    "compare([x.asm(\"foo\") for x in foo], [f\"OPTIMIZE = {x.get_build_parameters()['OPTIMIZE']}\" for x in foo])"
   ]
  },
  {
   "cell_type": "markdown",
   "metadata": {
    "editable": false
   },
   "source": [
    "Here the address calculation is more complicated.  Without optimizations, the compiler dutifully implements the calculations.  The most interesting part is\n",
    "\n",
    "```\n",
    "\tmovq\t%rcx, %rax\n",
    "\tsalq\t$2, %rax\n",
    "\taddq\t%rcx, %rax\n",
    "```\n",
    "\n",
    "Which multiplies `%rcx` by 5 (how?).\n",
    "\n",
    "\n",
    "With optimizations, the compiler relies on the `leaq` with a complex addressing mode to do most of the work.  The fully general version is:\n",
    "\n",
    "```\n",
    "k(%r1,%r2,l) = %r1 + l*%r2 + k\n",
    "```\n",
    "\n",
    "Where `l` must be a power of two.\n",
    "\n",
    "So the first `leaq` does `i * 4 + i` to get `5*i`.  The `addq` does the `+k`, and then the `movl`, takes the result which is in `%rax`, multiplies it by 4 ( which is `sizeof(uint)`) and adds it to `array` which is in `%rdi`.  It use that as the effective address and loads the value into `%eax`.\n"
   ]
  },
  {
   "cell_type": "markdown",
   "metadata": {
    "editable": false
   },
   "source": [
    "## `for` Loops"
   ]
  },
  {
   "cell_type": "code",
   "execution_count": null,
   "metadata": {
    "cse142L.is_response": true,
    "deletable": false,
    "editable": true
   },
   "outputs": [],
   "source": [
    "\n",
    "foo = build(code(r\"\"\"\n",
    "#include\"cfiddle.hpp\"\n",
    "\n",
    "extern \"C\" uint foo( uint64_t i,  uint64_t k) {\n",
    "uint64_t sum = 0;\n",
    "    for (uint64_t a = 0; a < i; a++) {\n",
    "        sum += a;\n",
    "    }\n",
    "    return sum;\n",
    "}\n",
    "\n",
    "\"\"\"), arg_map(OPTIMIZE=[\"-O0\", \"-O3\"], DEBUG_FLAGS=\"-g0 -Wno-unused\"))\n",
    "compare([x.cfg(\"foo\") for x in foo], [f\"OPTIMIZE = {x.get_build_parameters()['OPTIMIZE']}\" for x in foo])"
   ]
  },
  {
   "cell_type": "markdown",
   "metadata": {
    "editable": false
   },
   "source": [
    "**Note**: We are shifting to looking at CFGs as the code constructs get more complex.  Remember that our CFG generate pseudo-assembly rather than real assembly.  In particular, each thing that looks like `var_20h` represents something like `-4(%rbp)` (which is a address on the stack), so instructions with arguments like `var_20h` include a load or store.\n",
    "\n",
    "Here, the unoptimized code pushes several things onto the stack (`pushq`) and initializes `sum` and `a` with `movl`.  The loop body is just two `addq` to increment `a` and add it to `sum`.\n",
    "\n",
    "The optimizer puts variables into registers (e.g. eliminating `var_10h` and `var_8h` in the loop body) and removes the `pushq`s and `popq`s."
   ]
  },
  {
   "cell_type": "markdown",
   "metadata": {
    "editable": false
   },
   "source": [
    "## Array Access in a Loop"
   ]
  },
  {
   "cell_type": "code",
   "execution_count": null,
   "metadata": {
    "cse142L.is_response": true,
    "deletable": false,
    "editable": true
   },
   "outputs": [],
   "source": [
    "\n",
    "foo = build(code(r\"\"\"\n",
    "#include\"cfiddle.hpp\"\n",
    "\n",
    "extern \"C\" uint foo(register  uint * array, register uint64_t i, register uint64_t k) {\n",
    "    register int sum = 0;\n",
    "    for (register uint64_t a = 0; a < i; a++) {\n",
    "        sum += array[i * 5 + a];\n",
    "    }\n",
    "    return sum;\n",
    "}\n",
    "\n",
    "\"\"\"), arg_map(OPTIMIZE=[\"-O0\", \"-O2\"], DEBUG_FLAGS=\"-Wno-unused\"))\n",
    "compare([x.cfg(\"foo\") for x in foo], [f\"OPTIMIZE = {x.get_build_parameters()['OPTIMIZE']}\" for x in foo])\n",
    "#compare([x.asm(\"foo\") for x in foo], [f\"OPTIMIZE = {x.get_build_parameters()['OPTIMIZE']}\" for x in foo])\n",
    "#compare([x.cfg(\"bar\") for x in foo], [f\"OPTIMIZE = {x.get_build_parameters()['OPTIMIZE']}\" for x in foo])"
   ]
  },
  {
   "cell_type": "markdown",
   "metadata": {
    "editable": false
   },
   "source": [
    "Without optimization, the address calculation occurs with each loop iteration and (like above) it doesn't use `leal`.  It also increments `a` (which lives in `%rbx`) using the last `addq`.\n",
    "\n",
    "With optimizations, the `i*5` (which is loop-invariant), is moved above the loop (can you spot it?  Remember that the x86 calling convention puts `i` is `%rsi`). "
   ]
  },
  {
   "cell_type": "markdown",
   "metadata": {
    "editable": false
   },
   "source": [
    "Another trick it uses is to get rid of `a` altogether by rewriting the loop bounds check to operate on the address we are accessing rather than an index variable.\n",
    "\n",
    "To see this, read the assembly the comments I've added carefully.\n",
    "\n",
    "```\n",
    "\n",
    "; initially array is in `rdi` and i is in rsi\n",
    "foo:\n",
    ".LFB39:\n",
    "\t.cfi_startproc\n",
    "\tendbr64\n",
    "\ttestq\t%rsi, %rsi\n",
    "\tje\t.L4\n",
    "\tleaq\t(%rsi,%rsi,2), %rdx ; rdx = i + 2 *i = 3 * i\n",
    "\tleaq\t(%rsi,%rsi,4), %rax ; rax = i + 4 *i = 5 * i -- lets call %eax \"address\"\n",
    "\tleaq\t(%rdi,%rdx,8), %rcx ; rcx = array + (3*i * 8) <-- This is one past the last last element of the array the loop will access.  We'll call this 'last_address'.\n",
    "\tleaq\t(%rdi,%rax,4), %rax ; rax = array + 5*i * 4 <-- This is the first element of the array the loop will access\n",
    "                                ;  The steps above look non-intutivie, but 3*i*8 - 5*i*4 = 4*i, which is the number of bytes between the first last and last access.\n",
    "\txorl\t%edx, %edx          ; sum = 0\n",
    "\t.p2align 4,,10\n",
    "\t.p2align 3\n",
    ".L3:\n",
    "\taddl\t(%rax), %edx        ; sum += *address \n",
    "\taddq\t$4, %rax            ; address += 4\n",
    "\tmovl\t%edx, %r8d          ; I'm not sure why it does this.\n",
    "\tcmpq\t%rax, %rcx          ; does address == last_address?  \n",
    "\tjne\t.L3                     ; if not, go again\n",
    "\tmovl\t%r8d, %eax\n",
    "\tret\n",
    "\t.p2align 4,,10\n",
    "\t.p2align 3\n",
    ".L4:\n",
    "\txorl\t%r8d, %r8d\n",
    "\tmovl\t%r8d, %eax\n",
    "\tret\n",
    "\t.cfi_endproc\n",
    "    \n",
    "```"
   ]
  },
  {
   "cell_type": "markdown",
   "metadata": {
    "editable": false
   },
   "source": [
    "We can try to mimic the optimizer and do this by hand:"
   ]
  },
  {
   "cell_type": "code",
   "execution_count": null,
   "metadata": {
    "cse142L.is_response": true,
    "deletable": false,
    "editable": true
   },
   "outputs": [],
   "source": [
    "\n",
    "foo = build(code(r\"\"\"\n",
    "#include\"cfiddle.hpp\"\n",
    "\n",
    "extern \"C\" uint foo(register  uint * array, register uint64_t i, register uint64_t k) {\n",
    "    register int sum = 0;\n",
    "    register uint *end = &array[6*i];\n",
    "    for (register uint* a = &array[5*i]; a < end; a++) {\n",
    "        sum += *a;\n",
    "    }\n",
    "    return sum;\n",
    "}\n",
    "\n",
    "\"\"\"), arg_map(OPTIMIZE=[\"-O0\", \"-O2\"], DEBUG_FLAGS=\"-Wno-unused\"))\n",
    "\n",
    "compare([x.cfg(\"foo\") for x in foo], [f\"OPTIMIZE = {x.get_build_parameters()['OPTIMIZE']}\" for x in foo])"
   ]
  },
  {
   "cell_type": "markdown",
   "metadata": {
    "editable": false
   },
   "source": [
    "That worked pretty well!:  The first basic block is much larger but the loop body is much more compact.\n",
    "\n",
    "Before we get too pleased with ourselves, though, you should note that this is just with `-O2`.  Change the optimization flag to `-O3` and see what it does."
   ]
  },
  {
   "cell_type": "markdown",
   "metadata": {
    "editable": false
   },
   "source": [
    "## Calls to Small Functions"
   ]
  },
  {
   "cell_type": "code",
   "execution_count": null,
   "metadata": {
    "cse142L.is_response": true,
    "deletable": false,
    "editable": true
   },
   "outputs": [],
   "source": [
    "\n",
    "foo = build(code(r\"\"\"\n",
    "#include\"cfiddle.hpp\"\n",
    "\n",
    "extern \"C\" uint64_t f(register uint64_t a, register uint64_t b) {\n",
    "    return 3*a + 5*b;\n",
    "}\n",
    "\n",
    "extern \"C\" void foo(register uint64_t * array, register uint64_t  i, register uint64_t  k) {\n",
    "    array[0] = f(i,k);\n",
    "    array[1] = f(i,i);\n",
    "    array[2] = f(i,7);\n",
    "    array[3] = f(11,13);\n",
    "}\n",
    "\n",
    "\"\"\"), arg_map(OPTIMIZE=[\"-O0\", \"-O2 -fno-semantic-interposition\"], DEBUG_FLAGS=\"-Wno-unused\"))"
   ]
  },
  {
   "cell_type": "code",
   "execution_count": null,
   "metadata": {
    "editable": false
   },
   "outputs": [],
   "source": [
    "compare([x.asm(\"foo\") for x in foo], [f\"OPTIMIZE = {x.get_build_parameters()['OPTIMIZE']}\" for x in foo])\n",
    "compare([x.asm(\"f\") for x in foo], [f\"OPTIMIZE = {x.get_build_parameters()['OPTIMIZE']}\" for x in foo])"
   ]
  },
  {
   "cell_type": "markdown",
   "metadata": {
    "editable": false
   },
   "source": [
    "The unoptimized code simply calls `f()` four times with the arguments passed to it, and that takes quite a few instructions, especially when you add in the many instructions the unoptimized version of `f()` uses to perform an two multiplies and an add.\n",
    "\n",
    "With optimizations, the compiler generates three different implementations that take advantage of the specific values passed to `f()`, but it complicates things a little by reordering the instructions.  Below, I've re-arranged the instructions to make it clearer\n",
    "\n",
    "```\n",
    "    ; f(i,k)\n",
    "\tleaq\t(%rdx,%rdx,4), %rdx ; k = k * 5\n",
    "\taddq\t%rax, %rdx          ; k += i*3\n",
    "\tmovq\t%rdx, (%rdi)        ; array[0] = k*5 + i*3\n",
    "\n",
    "    ; f(i,i)\n",
    "\tsalq\t$3, %rsi            ; i *= 8\n",
    "\tmovq\t%rsi, 8(%rdi)       ; array[1] = i*8\n",
    "\n",
    "    ; f(i,7)\n",
    "    leaq\t(%rsi,%rsi,2), %rax ; %rax  = i * 3\n",
    "\taddq\t$35, %rax           ; rax += 35\n",
    "\tmovq\t%rax, 16(%rdi)      ; array[2] = i*3 + 35\n",
    "\n",
    "    ; f(11,13)\n",
    "\tmovq\t$98, 24(%rdi)       ; array[3] = 98\n",
    "    \n",
    "```\n",
    "\n",
    "Each version is simpler than the last, and the `f(i,i)` and `f(11,13)` are both shorter than the fully general version.\n",
    "\n",
    "You could do the same thing by hand, by replacing each call to `f()` with a copy of the body of `f` and relabeling the variables appropriately."
   ]
  },
  {
   "cell_type": "markdown",
   "metadata": {
    "editable": false
   },
   "source": [
    "<div class=\"alert alert-block alert-info\">\n",
    "    \n",
    "**Strange optimization options** :  You might notice the `-fno-semantic-interposition` optimization flag.  It's a good a example of the ~300 optimization flags that gcc provides.  It's there to ensure that the compiler inlines functions correctly.  I need it because cfiddle compiles your code into a shared library (i.e., a `.so` file) that requires with `-fPIC` (which means compile as position-independent code, which is what's required for dynamic loading.) compiler option.  How did I know to add this option?  I looked at the assembly and saw that `f()` was not being inlined like I thought it should be.  Then I did some experiments and eventually posted to [Stack Overflow](https://stackoverflow.com/questions/73900598/why-does-fpic-hinder-inlining). \n",
    "</div>\n"
   ]
  },
  {
   "cell_type": "markdown",
   "metadata": {
    "editable": false
   },
   "source": [
    "## Other Features"
   ]
  },
  {
   "cell_type": "markdown",
   "metadata": {
    "cse142L.is_response": true,
    "cse142L.points": 1,
    "cse142L.question_type": "completeness",
    "deletable": false,
    "editable": true
   },
   "source": [
    "<div class=\"question completeness\">\n",
    "    \n",
    "<div class=\"question-text\">\n",
    "\n",
    "In the two cells below, write code that illustrates an interesting construct in C or C++ other than the ones presented above.  What's interesting about what the compiler generated?\n",
    "    \n",
    "</div>\n",
    "\n",
    "<div class=\"answer\">\n",
    "\n",
    "**Language feature in the first cell**:\n",
    " \n",
    "**What's interesting about the assembly**:\n",
    "    \n",
    "**Language feature in the second cell**:\n",
    " \n",
    "**What's interesting about the assembly**:\n",
    "    \n",
    "</div>\n",
    "    \n",
    "</div>"
   ]
  },
  {
   "cell_type": "code",
   "execution_count": null,
   "metadata": {
    "cse142L.is_response": true,
    "deletable": false,
    "editable": true
   },
   "outputs": [],
   "source": [
    "\n",
    "foo = build(code(r\"\"\"\n",
    "#include\"cfiddle.hpp\"\n",
    "\n",
    "extern \"C\" void foo() {\n",
    "    // your language feature here\n",
    "}\n",
    "\n",
    "\"\"\"), arg_map(OPTIMIZE=[\"-O0\", \"-O3 -fno-semantic-interposition\"], DEBUG_FLAGS=\"-g0\"))\n",
    "compare([x.asm(\"foo\") for x in foo], [f\"OPTIMIZE = {x.get_build_parameters()['OPTIMIZE']}\" for x in foo])\n"
   ]
  },
  {
   "cell_type": "code",
   "execution_count": null,
   "metadata": {
    "cse142L.is_response": true,
    "deletable": false,
    "editable": true
   },
   "outputs": [],
   "source": [
    "\n",
    "foo = build(code(r\"\"\"\n",
    "#include\"cfiddle.hpp\"\n",
    "\n",
    "extern \"C\" void foo() {\n",
    "    // your language feature here\n",
    "}\n",
    "\n",
    "\"\"\"), arg_map(OPTIMIZE=[\"-O0\", \"-O3 -fno-semantic-interposition\"], DEBUG_FLAGS=\"-g0\"))\n",
    "compare([x.asm(\"foo\") for x in foo], [f\"OPTIMIZE = {x.get_build_parameters()['OPTIMIZE']}\" for x in foo])\n"
   ]
  },
  {
   "cell_type": "markdown",
   "metadata": {
    "editable": false
   },
   "source": [
    "# Programming Assignment: Can You Beat the Compiler?"
   ]
  },
  {
   "cell_type": "markdown",
   "metadata": {
    "editable": false
   },
   "source": [
    "\n",
    "<div class=\"alert alert-block alert-danger\">\n",
    "    \n",
    "**This Programming Assignment Is Much More Involved than Lab 1's**:  Budget your time accordingly.  In fact, when the TAs tested this lab, the reiterated over and over that they thought it was interesting and doable, but that student really needed start earlier.\n",
    "\n",
    "</div>\n",
    "\n",
    "<div class=\"alert alert-block alert-info\">\n",
    "Here's how to approach this lab.  \n",
    "\n",
    "1. Read through the whole thing and run the example code in the code cells.  \n",
    "2. Do your work in the \"Running the Code\" section.  It has the key commands you'll need to evaluate and analyze your results.\n",
    "4. When you are all done, go to the Final Measurement section and follow those instructions.\n",
    "    \n",
    "</div>\n",
    "\n",
    "In this programming assignment you'll be taking the place of the compiler to optimize several invocations of a simple implementation of matrix multiply.\n",
    "\n",
    "The code uses a very simple matrix library.  Here's the header;"
   ]
  },
  {
   "cell_type": "code",
   "execution_count": null,
   "metadata": {
    "editable": false
   },
   "outputs": [],
   "source": [
    "render_code(\"matmul.hpp\")"
   ]
  },
  {
   "cell_type": "markdown",
   "metadata": {
    "editable": false
   },
   "source": [
    "And the rest of the implementation:"
   ]
  },
  {
   "cell_type": "code",
   "execution_count": null,
   "metadata": {
    "editable": false
   },
   "outputs": [],
   "source": [
    "build(\"matmul.cpp\")[0].source(show=(\"START_IMPL\",\"END_IMPL\"))"
   ]
  },
  {
   "cell_type": "markdown",
   "metadata": {
    "editable": false
   },
   "source": [
    "The code you'll be modifying is below.  Please read through it and the comments carefully."
   ]
  },
  {
   "cell_type": "code",
   "execution_count": null,
   "metadata": {
    "cse142L.is_response": true,
    "deletable": false,
    "editable": true
   },
   "outputs": [],
   "source": [
    "\n",
    "matmul_solution = build(code(r\"\"\"\n",
    "#include\"cfiddle.hpp\"\n",
    "#include\"matmul.hpp\"\n",
    "\n",
    "\n",
    "// Compute the matrix product: c = a * b\n",
    "// This is a reference implementation.  You don't need to modify it.\n",
    "extern \"C\" void matrix_product(Matrix * c, Matrix * a, Matrix * b) {\n",
    "    for(uint i = 0; i < a->rows; i++) {\n",
    "        for(uint j = 0; j < b->columns; j++) {\n",
    "        matrix_write(c, j, i, 0);\n",
    "            for(uint k = 0; k < a->columns; k++) {\n",
    "                matrix_write(c, j, i,\n",
    "                         matrix_read(c, j, i) +\n",
    "                            (matrix_read(a, k, i) *\n",
    "                             matrix_read(b, j, k)));\n",
    "            }\n",
    "        }\n",
    "    }\n",
    "}\n",
    "\n",
    "// These are the functions you'll be modifying.   Right now, they all just call the reference\n",
    "// implementation above, but when you are done, they should be specialized depending on how they\n",
    "// are called by the go() function in the next cell.\n",
    "extern \"C\" void matrix_product_1(Matrix * c, Matrix * a, Matrix * b) {\n",
    "    for(uint i = 0; i < a->rows; i++) {\n",
    "        for(uint j = 0; j < b->columns; j++) {\n",
    "        matrix_write(c, j, i, 0);\n",
    "            for(uint k = 0; k < a->columns; k++) {\n",
    "                matrix_write(c, j, i,\n",
    "                         matrix_read(c, j, i) +\n",
    "                            (matrix_read(a, k, i) *\n",
    "                             matrix_read(b, j, k)));\n",
    "            }\n",
    "        }\n",
    "    }\n",
    "}\n",
    "\n",
    "extern \"C\" void matrix_product_2(Matrix * c, Matrix * a, Matrix * b) {\n",
    "    for(uint i = 0; i < a->rows; i++) {\n",
    "        for(uint j = 0; j < b->columns; j++) {\n",
    "        matrix_write(c, j, i, 0);\n",
    "            for(uint k = 0; k < a->columns; k++) {\n",
    "                matrix_write(c, j, i,\n",
    "                         matrix_read(c, j, i) +\n",
    "                            (matrix_read(a, k, i) *\n",
    "                             matrix_read(b, j, k)));\n",
    "            }\n",
    "        }\n",
    "    }\n",
    "}\n",
    "\n",
    "extern \"C\" void matrix_product_3(Matrix * c, Matrix * a, Matrix * b) {\n",
    "    for(uint i = 0; i < a->rows; i++) {\n",
    "        for(uint j = 0; j < b->columns; j++) {\n",
    "        matrix_write(c, j, i, 0);\n",
    "            for(uint k = 0; k < a->columns; k++) {\n",
    "                matrix_write(c, j, i,\n",
    "                         matrix_read(c, j, i) +\n",
    "                            (matrix_read(a, k, i) *\n",
    "                             matrix_read(b, j, k)));\n",
    "            }\n",
    "        }\n",
    "    }\n",
    "}\n",
    "\n",
    "extern \"C\" void matrix_product_4(Matrix * c, Matrix * a, Matrix * b) {\n",
    "    for(uint i = 0; i < a->rows; i++) {\n",
    "        for(uint j = 0; j < b->columns; j++) {\n",
    "        matrix_write(c, j, i, 0);\n",
    "            for(uint k = 0; k < a->columns; k++) {\n",
    "                matrix_write(c, j, i,\n",
    "                         matrix_read(c, j, i) +\n",
    "                            (matrix_read(a, k, i) *\n",
    "                             matrix_read(b, j, k)));\n",
    "            }\n",
    "        }\n",
    "    }\n",
    "}\n",
    "\n",
    "extern \"C\" void matrix_product_5(Matrix * c, Matrix * a, Matrix * b) {\n",
    "    for(uint i = 0; i < a->rows; i++) {\n",
    "        for(uint j = 0; j < b->columns; j++) {\n",
    "        matrix_write(c, j, i, 0);\n",
    "            for(uint k = 0; k < a->columns; k++) {\n",
    "                matrix_write(c, j, i,\n",
    "                         matrix_read(c, j, i) +\n",
    "                            (matrix_read(a, k, i) *\n",
    "                             matrix_read(b, j, k)));\n",
    "            }\n",
    "        }\n",
    "    }\n",
    "}\n",
    "\"\"\", file_name=\"matmul_solution.cpp\"), build_parameters=arg_map(MORE_SRC=[\"canary.cpp\", \"matmul.cpp\"]))[0]\n"
   ]
  },
  {
   "attachments": {
    "image.png": {
     "image/png": "[encoded data removed]"
    }
   },
   "cell_type": "markdown",
   "metadata": {
    "editable": false
   },
   "source": [
    "<div class=\"alert alert-block alert-info\">\n",
    "\n",
    "**SourceCodeModified Errors** If you get this error when you run the cell above\n",
    "\n",
    "![image.png](attachment:image.png)\n",
    "    \n",
    "That means that you've modified the contents of `matmul_solution.cpp` outside of the Jupyter notebook, and cfiddle is refusing to overwrite your work.  This will happen, for instance, if you're using using VSCode to write your solution.  \n",
    "    \n",
    "You have several options:\n",
    "\n",
    "1.  Run the `build(\"matmul_solution.cpp\")` cell below to compile your modified code.\n",
    "2.  Copy the contents of your modified `matmul_solution.cpp` into the cell above.\n",
    "3.  Delete your modified `matmul_solution.cpp` and re-run the cell above to rewrite the file.\n",
    "\n",
    "</div>\n"
   ]
  },
  {
   "cell_type": "markdown",
   "metadata": {
    "editable": false
   },
   "source": [
    "The five `matrix_product_*()` functions are what we will actually be testing.  Right now they are all identical.\n",
    "\n",
    "Then there's the test harness that calls them:"
   ]
  },
  {
   "cell_type": "code",
   "execution_count": null,
   "metadata": {
    "editable": false,
    "init_cell": true
   },
   "outputs": [],
   "source": [
    "build(\"matmul.cpp\")[0].source(show=(\"START_TESTS\", \"END_TESTS\"))"
   ]
  },
  {
   "cell_type": "markdown",
   "metadata": {
    "editable": false
   },
   "source": [
    "Each function (`test_matrix_product_1()` to `test_matrix_product_5()`) calls one of the implementations in `matmul_solution.cpp`.  The difference between the tests lies in how their arguments are set: `matrix_product_1()` is called with arbitrary-sized matrices, while the others constrain the shape of the matrices they pass to the matrix product implementation.  The last one also limits what `seed` will be.\n",
    "\n",
    "For instance, `test_matrix_product_2()` calls `matrix_product_2()` only with square matrices. For `matrix_product_3()`, `test_matrix_product_3()` only calls it with square where the dimensions are a power of two.\n",
    "\n",
    "Your task is to create optimized implementations of `matrix_product_1()` through `matrix_product_5()` by manually applying a sequence of compiler optimizations.\n",
    "\n",
    "All the `test_matrix_product_*()` take the same arguments, even though they ignore some of them.  This just makes it easier to call with Cfiddle.\n",
    "\n",
    "The test suite in `run_tests.cpp` contains tests for each of the `matrix_product_*()` functions, but they only test for matrices that could be passed to those functions using the code in the corresponding `test_matrix_product_*()` (e.g., the tests for `matrix_product_2()` only include square matrices).  \n",
    "\n",
    "This means your implementation of the `matrix_product_*()` functions need not be correct for all matrices.  They only need to generate the correct answer when called as they are called in `test_matrix_product_*()`.  This is, in essence, what the compiler does when it inlines a function -- once it makes a copy it can tune that copy to the particular call site.\n",
    "\n",
    "You can make the following assumptions:\n",
    "\n",
    "* No dimension of any matrix is larger than 2048\n",
    "* The calls in the `test_matrix_product_*()` function are the only calls to the corresponding `matrix_product_*()` functions.\n",
    "\n",
    "And you are subject to the following constraints:\n",
    "\n",
    "* Your code will be compiled with `-O0`.\n",
    "* You can only use \"vanilla\" C++, so you can't use\n",
    "    * inline assembly language.\n",
    "    * The `__attribute__` keyword.\n",
    "* You cannot use the `inline` keyword (but you can inline by hand).\n",
    "* You can, however, use `__restrict__` and `register`.\n",
    "* You are free to leverage the C/C++ preprocessor.\n",
    "* You are also free to inspect the assembly that the compiler produces to get ideas.\n",
    "* Code generation (i.e., writing code that write code) is allowed.\n",
    "* You can only modify the code in `matmul_solution.cpp` (not `matmul.cpp` or `matmul.hpp`).\n",
    "\n",
    "\n",
    "<div class=\"alert alert-block alert-info\">\n",
    "    \n",
    "**What is `fast_rand()?**:  `fast_rand()` is an extremely fast and extremely poor random number generator.  Higher-quality random number generators are slow enough that their execution can easily overwhelm anything we are trying to measure.\n",
    "    \n",
    "Another advantage is that `fast_rand()` consumes a current random seed and produces a new one.  This gives us very good control over what random numbers it produces (which, if you think about, is an oxymoron...), which makes it good for testing:  With the same seed, we'll always get the same values.\n",
    "</div>\n",
    "\n",
    "\n",
    "\n",
    "## Applying the Optimizations\n",
    "\n",
    "You can apply any optimizations that you'd like (subject to the list of constraints above).  Here's a good list and good order to think try applying them:\n",
    "\n",
    "* Function inlining.\n",
    "* Register assignment.\n",
    "* Common sub-expression elimination.\n",
    "* Constant propagation.\n",
    "* Loop invariant code motion.\n",
    "* Strength reduction.\n",
    "* Loop unrolling.\n",
    "* Using better algorithms.\n",
    "\n",
    "Later in this lab, we will ask you compare the performance of the code with different optimizations applied.  To facilitate that, I suggest the following algorithm for doing this lab:\n",
    "\n",
    "1.  Pick an optimization.\n",
    "2.  Apply it to all 5 versions of matrix product.  Optimizations will apply differently depending on the assumption you can make for each version.\n",
    "3.  Make the regressions pass.\n",
    "4.  Save a copy with a descriptive name like `00_matmul_solution_inlining.cpp` and `01_matmul_solution_register_assignment.cpp`.\n",
    "5.  Repeat.\n",
    "\n",
    "To be clear, you _are not_ required to apply the optimizations in the order listed (but it's a good idea).  It is also ok if the difference between two versions includes multiple optimizations.  However, the more cleanly you can separate the effects of the optimizations you apply, the easier it will be to answer questions later in the lab."
   ]
  },
  {
   "cell_type": "markdown",
   "metadata": {
    "editable": false
   },
   "source": [
    "## Running the Code"
   ]
  },
  {
   "cell_type": "markdown",
   "metadata": {
    "editable": false
   },
   "source": [
    "You can compile and run the code like so:"
   ]
  },
  {
   "cell_type": "code",
   "execution_count": null,
   "metadata": {
    "cse142L.is_response": true,
    "deletable": false,
    "editable": true
   },
   "outputs": [],
   "source": [
    "\n",
    "matmul = build(\"matmul_solution.cpp\", build_parameters=arg_map(OPTIMIZE=[\"-O0\"], MORE_SRC=\"canary.cpp matmul.cpp\"))\n",
    "\n",
    "matmul_run = run(matmul, function=[f\"test_matrix_product_{k}\" for k in range(1,6)], arguments=arg_map(rows=500, size1=550, columns=450, size2=475, log_size=9, seed=4))"
   ]
  },
  {
   "cell_type": "markdown",
   "metadata": {
    "editable": false
   },
   "source": [
    "And look at the results like so:"
   ]
  },
  {
   "cell_type": "code",
   "execution_count": null,
   "metadata": {
    "editable": false
   },
   "outputs": [],
   "source": [
    "PE_calc(matmul_run.as_df())"
   ]
  },
  {
   "cell_type": "markdown",
   "metadata": {
    "editable": false
   },
   "source": [
    "And checkout the assembly"
   ]
  },
  {
   "cell_type": "code",
   "execution_count": null,
   "metadata": {
    "editable": false
   },
   "outputs": [],
   "source": [
    "matmul[0].asm(\"matrix_product_1\")"
   ]
  },
  {
   "cell_type": "markdown",
   "metadata": {
    "editable": false
   },
   "source": [
    "Ideally, you'd also be able to look at the CFG. However, the CFG generator seems to fail on most versions of the matrix product.  I'm not sure why.  I would not rely on it for this PA."
   ]
  },
  {
   "cell_type": "code",
   "execution_count": null,
   "metadata": {
    "editable": false
   },
   "outputs": [],
   "source": [
    "# matmul[0].cfg(\"matrix_product_1\")  This probably won't work."
   ]
  },
  {
   "cell_type": "markdown",
   "metadata": {
    "editable": false
   },
   "source": [
    "## Things To Try\n",
    "\n",
    "Here are some suggestions on how to approach the lab.\n",
    "\n",
    "1. Apply the optimizations suggested above.\n",
    "2. Work in baby steps and run the regressions _a lot_.  If you make a bunch of big changes and something goes wrong, debugging will be almost impossible.  Make incremental, correct changes (as verified by `run_tests.exe`).\n"
   ]
  },
  {
   "cell_type": "markdown",
   "metadata": {
    "editable": false
   },
   "source": [
    "## The Test Suite"
   ]
  },
  {
   "cell_type": "markdown",
   "metadata": {
    "editable": false
   },
   "source": [
    "\n",
    "The lab  provides a comprehensive test suite for your implementation.  The code in is `run_test.cpp`.  It use [GTest](https://github.com/google/googletest) which is a very powerful C++ testing tool from Google.  Because of this, the tests run outside of cfiddle.\n",
    "\n",
    "You can build the tests with:"
   ]
  },
  {
   "cell_type": "code",
   "execution_count": null,
   "metadata": {
    "editable": false
   },
   "outputs": [],
   "source": [
    "!make run_tests.exe"
   ]
  },
  {
   "cell_type": "markdown",
   "metadata": {
    "editable": false
   },
   "source": [
    "\n",
    "<div class=\"alert alert-block alert-info\">\n",
    "\n",
    "**NOTE:** When you build run_tests.exe, it'll use the version of `matmul_solution.cpp` it finds in your lab directory.  The contents of this file will reflect the last time you executed the cell above with the `build()` command in it, so if you make changes there, you'll need to re-run the cell.\n",
    "    \n",
    "</div>\n",
    "\n",
    "Then you can run the tests like this (they take a little while to run):"
   ]
  },
  {
   "cell_type": "code",
   "execution_count": null,
   "metadata": {
    "editable": false
   },
   "outputs": [],
   "source": [
    "!./run_tests.exe"
   ]
  },
  {
   "cell_type": "markdown",
   "metadata": {
    "editable": false
   },
   "source": [
    "The tests are in 5 groups, each of which tests one of the five functions you'll write."
   ]
  },
  {
   "cell_type": "markdown",
   "metadata": {
    "editable": false
   },
   "source": [
    "### Running the Test Suite\n",
    "\n",
    "The test suite is meant to help keep you on the right track as you go through the assignment.  When you make a change to your code, I would:\n",
    "\n",
    "1.  Run all the tests.  If they all pass, great!\n",
    "2.  If some fail, run the tests for the `matrix_product_*()` function you're working on.\n",
    "3.  Once you find a particular test case that fails, you can run and debug just that test (see below).\n",
    "\n",
    "When a test fails, `run_tests.exe` will print out a description of the test that failed:\n",
    "\n",
    "```\n",
    "[----------] Global test environment tear-down\n",
    "[==========] 16 tests from 6 test suites ran. (15925 ms total)\n",
    "[  PASSED  ] 0 tests.\n",
    "[  FAILED  ] 16 tests, listed below:\n",
    "[  FAILED  ] MatmulTests_5.matrix_product_5\n",
    "[  FAILED  ] MatmulTestsHidden.hidden\n",
    "[  FAILED  ] matrix_product/MatmulTests_1.matrix_product/0, where GetParam() = (1, 1, 1, 1)\n",
    "[  FAILED  ] matrix_product/MatmulTests_1.matrix_product/1, where GetParam() = (10, 20, 30, 10)\n",
    "[  FAILED  ] matrix_product/MatmulTests_1.matrix_product/2, where GetParam() = (32, 20, 10, 10)\n",
    "[  FAILED  ] matrix_product/MatmulTests_1.matrix_product/3, where GetParam() = (30, 30, 30, 10)\n",
    "[  FAILED  ] matrix_product_2/MatmulTests_2.matrix_product_2/0, where GetParam() = (1, 1)\n",
    "[  FAILED  ] matrix_product_2/MatmulTests_2.matrix_product_2/1, where GetParam() = (10, 10)\n",
    "[  FAILED  ] matrix_product_2/MatmulTests_2.matrix_product_2/2, where GetParam() = (32, 10)\n",
    "[  FAILED  ] matrix_product_2/MatmulTests_2.matrix_product_2/3, where GetParam() = (30, 10)\n",
    "[  FAILED  ] matrix_product_3/MatmulTests_3.matrix_product_3/0, where GetParam() = (1, 1)\n",
    "[  FAILED  ] matrix_product_3/MatmulTests_3.matrix_product_3/1, where GetParam() = (2, 11)\n",
    "[  FAILED  ] matrix_product_3/MatmulTests_3.matrix_product_3/2, where GetParam() = (4, 12)\n",
    "[  FAILED  ] matrix_product_3/MatmulTests_3.matrix_product_3/3, where GetParam() = (6, 13)\n",
    "[  FAILED  ] matrix_product_4/MatmulTests_4.matrix_product_4/0, where GetParam() = (1)\n",
    "[  FAILED  ] matrix_product_4/MatmulTests_4.matrix_product_4/1, where GetParam() = (2)\n",
    "\n",
    "16 FAILED TESTS\n",
    "```\n",
    "\n",
    "Each test has a name (e.g., `matrix_product_3/MatmulTests_3.matrix_product_3/2`).  To run the tests just for `matrix_product_1()` you can do:\n"
   ]
  },
  {
   "cell_type": "code",
   "execution_count": null,
   "metadata": {
    "editable": false
   },
   "outputs": [],
   "source": [
    "!./run_tests.exe --gtest_filter=*MatmulTests_1*"
   ]
  },
  {
   "cell_type": "markdown",
   "metadata": {
    "editable": false
   },
   "source": [
    "To run one test do something like:"
   ]
  },
  {
   "cell_type": "code",
   "execution_count": null,
   "metadata": {
    "editable": false
   },
   "outputs": [],
   "source": [
    "!./run_tests.exe --gtest_filter=matrix_product/MatmulTests_1.matrix_product/3"
   ]
  },
  {
   "cell_type": "markdown",
   "metadata": {
    "editable": false
   },
   "source": [
    "You can also get a list of all the tests with"
   ]
  },
  {
   "cell_type": "code",
   "execution_count": null,
   "metadata": {
    "editable": false
   },
   "outputs": [],
   "source": [
    "!./run_tests.exe --gtest_list_tests"
   ]
  },
  {
   "cell_type": "markdown",
   "metadata": {
    "editable": false
   },
   "source": [
    "### Debugging With the Test Suite"
   ]
  },
  {
   "cell_type": "markdown",
   "metadata": {
    "editable": false
   },
   "source": [
    "If you want to debug your test, open a shell and do\n",
    "\n",
    "```\n",
    "$ gdb run_tests.exe\n",
    "GNU gdb (Ubuntu 12.0.90-0ubuntu1) 12.0.90\n",
    "Copyright (C) 2022 Free Software Foundation, Inc.\n",
    "License GPLv3+: GNU GPL version 3 or later <http://gnu.org/licenses/gpl.html>\n",
    "This is free software: you are free to change and redistribute it.\n",
    "There is NO WARRANTY, to the extent permitted by law.\n",
    "Type \"show copying\" and \"show warranty\" for details.\n",
    "This GDB was configured as \"x86_64-linux-gnu\".\n",
    "Type \"show configuration\" for configuration details.\n",
    "For bug reporting instructions, please see:\n",
    "<https://www.gnu.org/software/gdb/bugs/>.\n",
    "Find the GDB manual and other documentation resources online at:\n",
    "    <http://www.gnu.org/software/gdb/documentation/>.\n",
    "\n",
    "For help, type \"help\".\n",
    "Type \"apropos word\" to search for commands related to \"word\"...\n",
    "Reading symbols from run_tests.exe...\n",
    "```\n",
    "\n",
    "Then set a breakpoint on `matmul_product_1` (or whatever function you want to debug):\n",
    "\n",
    "```\n",
    "(gdb) b matmul_product_1\n",
    "Breakpoint 1 at 0x2f922: file matmul_solution.cpp, line 9.\n",
    "```\n",
    "\n",
    "and then run the executable with `--gtest_filter` to run the test you want to debug (this output is from an earlier lab, but you get the idea):\n",
    "\n",
    "```\n",
    "(gdb) run --gtest_filter=simple_tests/NibbleTestFixtureSmall.simple_tests/0\n",
    "Starting program: /cse142L/labs/CSE141pp-Lab-The-PE/run_tests.exe --gtest_filter=simple_tests/NibbleTestFixtureSmall.simple_tests/0\n",
    "[Thread debugging using libthread_db enabled]\n",
    "Using host libthread_db library \"/lib/x86_64-linux-gnu/libthread_db.so.1\".\n",
    "Note: Google Test filter = simple_tests/NibbleTestFixtureSmall.simple_tests/0\n",
    "[==========] Running 1 test from 1 test suite.\n",
    "[----------] Global test environment set-up.\n",
    "[----------] 1 test from simple_tests/NibbleTestFixtureSmall\n",
    "[ RUN      ] simple_tests/NibbleTestFixtureSmall.simple_tests/0\n",
    "1\n",
    "\n",
    "Breakpoint 1, nibble_search (query=15 '\\017', targets=std::vector of length 1, capacity 1 = {...}) at nibble_solution.cpp:9\n",
    "9\textern \"C\" uint64_t nibble_search(uint8_t query, const std::vector<uint16_t> & targets) {\n",
    "(gdb) \n",
    "```\n",
    "\n",
    "And debug away!"
   ]
  },
  {
   "cell_type": "markdown",
   "metadata": {
    "editable": false
   },
   "source": [
    "## Useful Tools"
   ]
  },
  {
   "cell_type": "markdown",
   "metadata": {
    "editable": false
   },
   "source": [
    "The tools we'll use in the labs to manipulate and plot data are based on two widely-used software packages:  [Pandas](https://pandas.pydata.org/) and [matplotlib](https://matplotlib.org/).  They are powerful software packages with complex interfaces.  Most of the tools you'll use directly are defined in `notebook.py`.  These are the same functions that I've used above plot results, so this Jupyter Notebook is full of examples of how they work.\n",
    "\n",
    "The documentation below provides an introduction to the tools in `notebook.py`."
   ]
  },
  {
   "cell_type": "markdown",
   "metadata": {
    "editable": false
   },
   "source": [
    "### Data Frames\n",
    "\n",
    "Data frames are a fancy sort of 2-dimensional array.  They have rows of data and named columns -- very much like the CSV files.  In this class we get them by calling `as_df()` on the result of `run()` (If this fails, go run the cells in [Limitations of the Compiler](#Limitations-of-the-Compiler):"
   ]
  },
  {
   "cell_type": "code",
   "execution_count": null,
   "metadata": {
    "editable": false
   },
   "outputs": [],
   "source": [
    "df = matmul_run.as_df()\n",
    "display(df)"
   ]
  },
  {
   "cell_type": "markdown",
   "metadata": {
    "editable": false
   },
   "source": [
    "The numbers down the side are the \"index\" and the bold names at the top of the columns are the column names.\n",
    "\n",
    "We can \"slice\" the data frame as well to extract a subset of its columns.  We do this by passing an array of column names in square braces (`[]`):"
   ]
  },
  {
   "cell_type": "code",
   "execution_count": null,
   "metadata": {
    "editable": false
   },
   "outputs": [],
   "source": [
    "display(df[[\"function\", \"ET\"]])"
   ]
  },
  {
   "cell_type": "markdown",
   "metadata": {
    "editable": false
   },
   "source": [
    "We can concatenate multiple dataframes like so:"
   ]
  },
  {
   "cell_type": "code",
   "execution_count": null,
   "metadata": {
    "editable": false
   },
   "outputs": [],
   "source": [
    "import pandas as pd\n",
    "df2 = matmul_run.as_df()\n",
    "df3 = pd.concat([df,df2])\n",
    "display(df3)"
   ]
  },
  {
   "cell_type": "markdown",
   "metadata": {
    "editable": false
   },
   "source": [
    "Note that `concat` returns a new dataframe (`df3`) rather than modifying `df`."
   ]
  },
  {
   "cell_type": "markdown",
   "metadata": {
    "editable": false
   },
   "source": [
    "### Computing Useful Values\n",
    "\n",
    "The `PE_calc()` function computes the terms of the performance equation:"
   ]
  },
  {
   "cell_type": "code",
   "execution_count": null,
   "metadata": {
    "editable": false
   },
   "outputs": [],
   "source": [
    "pe = PE_calc(df)\n",
    "display(pe)"
   ]
  },
  {
   "cell_type": "markdown",
   "metadata": {
    "editable": false
   },
   "source": [
    "### Plotting Results\n",
    "\n",
    "[Matplotlib](https://matplotlib.org/) is an extremely flexible and powerful plotting tool that we could spend a whole quarter on.  Fortunately, `notebook.py` has some convenient helper functions in it that make it easy graph data in data frames.\n",
    "\n",
    "One of those helpers in `plotPEBar`.  The cell below, creates a dataframe and then plots several bar charts. The `what` parameter is a list of tuples (pairs of values in `(` and `)`).  The first value in each tuple is what ends up on the x-axis.  The second item of the tuple is plotted on the y axis.  You can plot as many bar charts as you want and it'll plot all the entries in the dataframe:"
   ]
  },
  {
   "cell_type": "code",
   "execution_count": null,
   "metadata": {
    "editable": false
   },
   "outputs": [],
   "source": [
    "plotPEBar(df=pe, what=[(\"function\", \"ET\")])\n",
    "plotPEBar(df=pe, what=[(\"function\", \"ET\"),(\"function\", \"IC\")])\n",
    "plotPEBar(df=pd.concat([df,df]), what=[(\"function\", \"ET\"),(\"function\", \"IC\")])"
   ]
  },
  {
   "cell_type": "markdown",
   "metadata": {
    "editable": false
   },
   "source": [
    "### Adding Tags to Experiments\n",
    "\n",
    "Sometimes it can be useful to add extra columns to the output of your experiments.  You can do this by passing `TAG=\"something\"` to `build()`:"
   ]
  },
  {
   "cell_type": "code",
   "execution_count": null,
   "metadata": {
    "editable": false
   },
   "outputs": [],
   "source": [
    "my_code = build(code(r\"\"\"\n",
    "#include\"cfiddle.hpp\"\n",
    "extern \"C\" void foo(uint64_t length) {\n",
    "    start_measurement();\n",
    "    for(volatile uint64_t i  = 0; i < length; i++) {\n",
    "    }\n",
    "    end_measurement();\n",
    "}\n",
    "\"\"\"), build_parameters=arg_map(OPTIMIZE=[\"-O3\", \"-O1\"], TAG=\"my compile tag\"))"
   ]
  },
  {
   "cell_type": "markdown",
   "metadata": {
    "editable": false
   },
   "source": [
    "Then you can run it:"
   ]
  },
  {
   "cell_type": "code",
   "execution_count": null,
   "metadata": {
    "editable": false
   },
   "outputs": [],
   "source": [
    "my_run = run(my_code, function=\"foo\", arguments=arg_map(length=[10, 1000000]))"
   ]
  },
  {
   "cell_type": "markdown",
   "metadata": {
    "editable": false
   },
   "source": [
    "And the tag will appear in the output:"
   ]
  },
  {
   "cell_type": "code",
   "execution_count": null,
   "metadata": {
    "editable": false
   },
   "outputs": [],
   "source": [
    "display(my_run.as_df())"
   ]
  },
  {
   "cell_type": "markdown",
   "metadata": {
    "editable": false
   },
   "source": [
    "If you want to compare to implementations, you can do this:"
   ]
  },
  {
   "cell_type": "code",
   "execution_count": null,
   "metadata": {
    "editable": false
   },
   "outputs": [],
   "source": [
    "my_code_nonvolatile = build(code(r\"\"\"\n",
    "#include\"cfiddle.hpp\"\n",
    "extern \"C\" void foo(uint64_t length) {\n",
    "    start_measurement();\n",
    "    for(uint64_t i  = 0; i < length; i++) {// without `volatile`\n",
    "    }\n",
    "    end_measurement();\n",
    "}\n",
    "\"\"\"), build_parameters=arg_map(OPTIMIZE=[\"-O4\", \"-O1\"], TAG=\"not volatile\"))"
   ]
  },
  {
   "cell_type": "code",
   "execution_count": null,
   "metadata": {
    "editable": false
   },
   "outputs": [],
   "source": [
    "my_run = run(my_code+ my_code_nonvolatile, function=\"foo\", arguments=arg_map(length=[10, 1000000]))"
   ]
  },
  {
   "cell_type": "code",
   "execution_count": null,
   "metadata": {
    "editable": false
   },
   "outputs": [],
   "source": [
    "my_run_data = PE_calc(my_run.as_df())\n",
    "display(my_run_data)"
   ]
  },
  {
   "cell_type": "markdown",
   "metadata": {
    "editable": false
   },
   "source": [
    "### Doing Math on Data Frames"
   ]
  },
  {
   "cell_type": "markdown",
   "metadata": {
    "editable": false
   },
   "source": [
    "Data frames also make it easy to do math on your data. For instance, can compute the average error between `cmdlineMHz` and `realMHz`:"
   ]
  },
  {
   "cell_type": "code",
   "execution_count": null,
   "metadata": {
    "editable": false
   },
   "outputs": [],
   "source": [
    "my_run_data[\"MHz_error\"] = my_run_data[\"realMHz\"]/my_run_data[\"requestedMHz\"] - 1\n",
    "display(my_run_data)"
   ]
  },
  {
   "cell_type": "markdown",
   "metadata": {
    "editable": false
   },
   "source": [
    "There's a lot going on there.  The division is a \"vector\" or \"element-wise\" operation:  the result for each row is computed from the values in that row.  However, the `-1` is a \"scalar\" (single value), so it's subtracted from all the results.\n",
    "\n",
    "You can also do math on strings:"
   ]
  },
  {
   "cell_type": "code",
   "execution_count": null,
   "metadata": {
    "editable": false
   },
   "outputs": [],
   "source": [
    "my_run_data[\"experiment-name\"] = my_run_data[\"function\"] + \"-\" + my_run_data[\"OPTIMIZE\"]"
   ]
  },
  {
   "cell_type": "markdown",
   "metadata": {
    "editable": false
   },
   "source": [
    "Which is useful drawing graphs:"
   ]
  },
  {
   "cell_type": "code",
   "execution_count": null,
   "metadata": {
    "editable": false
   },
   "outputs": [],
   "source": [
    "plotPEBar(df=my_run_data, what=[(\"experiment-name\", \"ET\")])"
   ]
  },
  {
   "cell_type": "markdown",
   "metadata": {
    "editable": false
   },
   "source": [
    "## Analyzing Your Solution"
   ]
  },
  {
   "cell_type": "markdown",
   "metadata": {
    "editable": false
   },
   "source": [
    "You just spent significant effort optimizing `matrix_product()` for different call sites.  Let's see how you did compared to the compiler.\n",
    "\n",
    "The cell below compiles and runs your code and the baseline version with and without optimizations.\n",
    "\n"
   ]
  },
  {
   "cell_type": "code",
   "execution_count": null,
   "metadata": {
    "editable": false
   },
   "outputs": [],
   "source": [
    "starter_unoptimized = build(\"matmul_starter.cpp\", build_parameters=arg_map(OPTIMIZE=\"-O0\", description=\"starter code without compiler optimizations\", MORE_SRC=\"matmul.cpp\"))\n",
    "starter_optimized = build(\"matmul_starter.cpp\", build_parameters=arg_map(OPTIMIZE=\"-O3 -fno-semantic-interposition\", description=\"starter code with compiler optimizations\", MORE_SRC=\"matmul.cpp\"))\n",
    "solution_unoptimized = build(\"matmul_solution.cpp\", build_parameters=arg_map(OPTIMIZE=\"-O0\", description=\"your code without compiler optimizations\", MORE_SRC=\"matmul.cpp\"))\n",
    "solution_optimized  = build(\"matmul_solution.cpp\", build_parameters=arg_map(OPTIMIZE=\"-O3 -fno-semantic-interposition\", description=\"your code with compiler optimizations\", MORE_SRC=\"matmul.cpp\"))\n",
    "analysis_data = run(starter_unoptimized + \n",
    "                    starter_optimized + \n",
    "                    solution_unoptimized + \n",
    "                    solution_optimized, function=[f\"test_matrix_product_{k}\" for k in range(1,6)], arguments=arg_map(rows=500, size1=550, columns=450, size2=475, log_size=9, seed=4))\n",
    "    "
   ]
  },
  {
   "cell_type": "markdown",
   "metadata": {
    "editable": false
   },
   "source": [
    "Here's the results:"
   ]
  },
  {
   "cell_type": "code",
   "execution_count": null,
   "metadata": {
    "editable": false
   },
   "outputs": [],
   "source": [
    "analysis_df = PE_calc(analysis_data.as_df())\n",
    "display(analysis_df)"
   ]
  },
  {
   "cell_type": "markdown",
   "metadata": {
    "editable": false
   },
   "source": [
    "Now we'll use [pivot table](https://pandas.pydata.org/docs/reference/api/pandas.pivot_table.html) (Which are awesome!) to rearrange the data into a more useful format:"
   ]
  },
  {
   "cell_type": "code",
   "execution_count": null,
   "metadata": {
    "editable": false
   },
   "outputs": [],
   "source": [
    "\n",
    "perf_compare=pd.pivot_table(analysis_df, values=\"ET\", columns=\"description\", index=\"function\")\n",
    "\n",
    "perf_compare[\"the speedup of your manual optimizations alone\"] = perf_compare[\"starter code without compiler optimizations\"]/perf_compare[\"your code without compiler optimizations\"]\n",
    "#perf_compare[\"the speedup of the compiler's optimizations alone\"] = \n",
    "#perf_compare[\"the combined speedup of your manual optimizations and the compiler's optimizations\"] =\n",
    "#perf_compare[\"the speedup your optimizations provide in addition to the compiler's\"] =\n",
    "display(perf_compare)"
   ]
  },
  {
   "cell_type": "markdown",
   "metadata": {
    "cse142L.is_response": true,
    "cse142L.points": 3,
    "cse142L.question_type": "correctness",
    "deletable": false,
    "editable": true
   },
   "source": [
    "<div class=\"question correctness points-3\">\n",
    "\n",
    "<div class=\"question-text\">\n",
    "\n",
    "Modify the cell above to compute speedups that measure:\n",
    "  \n",
    "1. the speedup of your manual optimizations alone (done for you).\n",
    "2. the speedup of the compiler's optimizations alone.\n",
    "3. the combined speedup of your manual optimizations and the compiler's optimizations.\n",
    "4. the speedup your optimizations provide in addition to the compiler's (i.e., what's the speedup from your code changes if the the compiler optimizations are already enabled).\n",
    "\n",
    "</div>\n",
    "\n",
    "<div class=\"answer\">\n",
    "\n",
    "    \n",
    "</div>\n",
    "\n",
    "</div>"
   ]
  },
  {
   "cell_type": "markdown",
   "metadata": {
    "cse142L.is_response": true,
    "cse142L.points": 2,
    "cse142L.question_type": "correctness",
    "deletable": false,
    "editable": true
   },
   "source": [
    "<div class=\"question correctness points-2\">\n",
    "\n",
    "<div class=\"question-text\">\n",
    "\n",
    "Based on the data above, were you able better-optimize any of the five functions?  If you did, which ones?  Why do you think you beat the compiler on these functions, but not others? \n",
    "\n",
    "</div>\n",
    "\n",
    "<div class=\"answer\">\n",
    "\n",
    "    \n",
    "</div>\n",
    "\n",
    "</div>"
   ]
  },
  {
   "cell_type": "markdown",
   "metadata": {
    "cse142L.is_response": true,
    "cse142L.points": 2,
    "cse142L.question_type": "correctness",
    "deletable": false,
    "editable": true
   },
   "source": [
    "<div class=\"question correctness points-2\">\n",
    "\n",
    "<div class=\"question-text\">\n",
    "In the real world, you should, of course, compile with optimizations enabled.  Did the optimizations you made make things easier for the compiler's optimizer so that the combination of you _and_ the compiler did better than the compiler alone?   For which functions was this the case?\n",
    "</div>\n",
    "\n",
    "<div class=\"answer\">\n",
    "\n",
    "</div>\n",
    "\n",
    "</div>"
   ]
  },
  {
   "cell_type": "markdown",
   "metadata": {
    "cse142L.is_response": true,
    "cse142L.points": 5,
    "cse142L.question_type": "correctness",
    "deletable": false,
    "editable": true
   },
   "source": [
    "<div class=\"question correctness points-5\">\n",
    "\n",
    "<div class=\"question-text\">\n",
    "\n",
    "Based on the data above select:\n",
    "    \n",
    "1.  A function (other than `matrix_product_5`) for which your optimizations improved performance beyond what the compiler achieved on its own.\n",
    "2.  If there was no such function, the function (other than `matrix_product_5`) for which you achieved the greatest speedup.\n",
    "    \n",
    "Copy the code for that function into the first cell below.  Then, in the following cell, provide another version of the same function that achieves the same performance but has as few changes as possible.\n",
    "    \n",
    "</div>\n",
    "\n",
    "<div class=\"answer\">\n",
    "What optimizations actually made a difference with `-O3` enabled?\n",
    "</div>\n",
    "\n",
    "</div>"
   ]
  },
  {
   "cell_type": "markdown",
   "metadata": {
    "editable": false
   },
   "source": [
    "Here are some things to consider as your approach this problem:\n",
    "\n",
    "1.  If you saved versions of your code as you applied optimizations, running them might provide some insight.\n",
    "2.  Don't assume that all the optimizations you applied are necessary.  For instance, if you have three versions with optimizations $A$, $A + B$, and $A + B + C$, and the last version is the best, don't assume that optimizations $A$ and $B$ are necessary.  Perhaps $C$ is solely responsible for the benefit when the compiler is optimizing too."
   ]
  },
  {
   "cell_type": "code",
   "execution_count": null,
   "metadata": {
    "cse142L.is_response": true,
    "deletable": false,
    "editable": true
   },
   "outputs": [],
   "source": [
    "\n",
    "# Your fully-optimized version of the function\n",
    "final_code = build(code(r\"\"\"\n",
    "#include\"cfiddle.hpp\"\n",
    "#include\"matmul.hpp\"\n",
    "extern \"C\" void matrix_product_1(Matrix * c, Matrix * a, Matrix * b) {\n",
    "        for(uint i = 0; i < a->rows; i++) {\n",
    "                for(uint j = 0; j < b->columns; j++) {\n",
    "                        matrix_write(c, j, i, 0);\n",
    "                        for(uint k = 0; k < a->columns; k++) {\n",
    "                                matrix_write(c, j, i,\n",
    "                                             matrix_read(c, j, i) +\n",
    "                                             (matrix_read(a, k, i) *\n",
    "                                              matrix_read(b, j, k)));\n",
    "                        }\n",
    "                }\n",
    "        }\n",
    "}\n",
    "\n",
    "// Comment out the empty implmentation of the function you implemented above\n",
    "\n",
    "// extern \"C\" void matrix_product_1(Matrix * c, Matrix * a, Matrix * b) {}\n",
    "extern \"C\" void matrix_product_2(Matrix * c, Matrix * a, Matrix * b) {}\n",
    "extern \"C\" void matrix_product_3(Matrix * c, Matrix * a, Matrix * b) {}\n",
    "extern \"C\" void matrix_product_4(Matrix * c, Matrix * a, Matrix * b) {}\n",
    "extern \"C\" void matrix_product_5(Matrix * c, Matrix * a, Matrix * b) {}\n",
    "\n",
    "\n",
    "\"\"\", file_name=\"all_optimizations.cpp\"), build_parameters=arg_map(OPTIMIZE=\"-O3 -fno-semantic-interposition\", MORE_SRC=\"canary.cpp matmul.cpp\", tag=\"full optimizations\"))"
   ]
  },
  {
   "cell_type": "code",
   "execution_count": null,
   "metadata": {
    "cse142L.is_response": true,
    "deletable": false,
    "editable": true
   },
   "outputs": [],
   "source": [
    "\n",
    "# A version of the same function with minimal set of optimizations that achieved same speedup in combination with the compiler.\n",
    "# Or, to put it another, what's the smallest set of changes you can make to the original to get the same performance as the code above when compiled with -O3?\n",
    "#\n",
    "# If you saved versions of your implementation as you added each optimization, it might be useful to compile and run them with optimizations and see when \n",
    "# performance got better.\n",
    "good_performance_with_minimal_changes = build(code(r\"\"\"\n",
    "#include\"cfiddle.hpp\"\n",
    "#include\"matmul.hpp\"\n",
    "extern \"C\" void matrix_product_1(Matrix * c, Matrix * a, Matrix * b) {\n",
    "        for(uint i = 0; i < a->rows; i++) {\n",
    "                for(uint j = 0; j < b->columns; j++) {\n",
    "                        matrix_write(c, j, i, 0);\n",
    "                        for(uint k = 0; k < a->columns; k++) {\n",
    "                                matrix_write(c, j, i,\n",
    "                                             matrix_read(c, j, i) +\n",
    "                                             (matrix_read(a, k, i) *\n",
    "                                              matrix_read(b, j, k)));\n",
    "                        }\n",
    "                }\n",
    "        }\n",
    "}\n",
    "\n",
    "// Comment out the empty implmentatiox of the function you implemented above\n",
    "\n",
    "// extern \"C\" void matrix_product_1(Matrix * c, Matrix * a, Matrix * b) {}\n",
    "extern \"C\" void matrix_product_2(Matrix * c, Matrix * a, Matrix * b) {}\n",
    "extern \"C\" void matrix_product_3(Matrix * c, Matrix * a, Matrix * b) {}\n",
    "extern \"C\" void matrix_product_4(Matrix * c, Matrix * a, Matrix * b) {}\n",
    "extern \"C\" void matrix_product_5(Matrix * c, Matrix * a, Matrix * b) {}\n",
    "\n",
    "\"\"\", file_name=\"minimal_optimizations.cpp\"), build_parameters=arg_map(OPTIMIZE=\"-O3 -fno-semantic-interposition\", MORE_SRC=\"canary.cpp matmul.cpp\", tag=\"helpful optimizations\"))"
   ]
  },
  {
   "cell_type": "markdown",
   "metadata": {
    "editable": false
   },
   "source": [
    "You can the code to compare the performance.  The results should show that the two implementations have nearly the same performance. "
   ]
  },
  {
   "cell_type": "code",
   "execution_count": null,
   "metadata": {
    "editable": false
   },
   "outputs": [],
   "source": [
    "# Be sure to adjust the name of the function to match the version you've choosen to study.\n",
    "selective_optimization = run(final_code + good_performance_with_minimal_changes, function=\"test_matrix_product_1\", arguments=arg_map(rows=500, size1=550, columns=450, size2=475, log_size=9, seed=4))\n",
    "selective_optimization_data = selective_optimization.as_df()\n",
    "display(selective_optimization_data)\n",
    "pd.pivot_table(selective_optimization_data, values=\"ET\", columns=\"function\", index=\"tag\")"
   ]
  },
  {
   "cell_type": "markdown",
   "metadata": {
    "editable": false
   },
   "source": [
    "![](https://pbs.twimg.com/media/EqKlf6tXEAAL35S?format=jpg&name=small)"
   ]
  },
  {
   "cell_type": "markdown",
   "metadata": {
    "editable": false
   },
   "source": [
    "## Final Measurement and Grading"
   ]
  },
  {
   "cell_type": "markdown",
   "metadata": {
    "editable": false
   },
   "source": [
    "When you are done, make sure your best solution is in `matmul_solution.cpp`.  Then you can submit your code to the Gradescope autograder.  It will run the commands given above and use the `ET` values from `autograde.csv` to assign your grade.\n",
    "\n",
    "Your grade is based on your speed up relative to the original version of `matmul_solution.cpp` in the lab.  The target speedups are visible in the output of the autograder cell below.\n",
    "\n",
    "You don't get extra credit for beating the target.\n",
    "\n",
    "To get points, your code must also be correct.  The autograder will run the regressions in `run_tests.exe` to check it's correctness.\n",
    "\n",
    "You can mimic exactly what the autograder will do with the command below.  You can run the cell below to list them and the target speedups.\n",
    "\n",
    "After you run it, the results will be in `autograde/autograde.csv` rather than `./autograde.csv`.  This command builds and runs your code in a more controlled way by doing the following:\n",
    "\n",
    "1.  Ignores all the files in your repo except `matmul_solution.cpp`.\n",
    "2.  Copies those files into a clean clone of the starter repo.\n",
    "3.  Builds and runs `run_tests.exe` with the hidden tests enabled.\n",
    "3.  Runs your code using `run_bench.py`.\n",
    "5.  It then runs the `autograde.py` script to compute your grade.\n",
    "\n",
    "Running the cell below does just what the Gradescope autograder does.  And the cell below shows the name and target speedups for each benchmark.  This takes 1-2 minutes to run.\n",
    "\n",
    "<div class=\"alert alert-block alert-danger\">\n",
    "\n",
    "**Only Gradescope Counts** The scores produced here **do not** count.  Only gradescope counts.  The results here should match what Gradescope does, but I would test your solution on Gradescope well-ahead of the deadline to ensure your code is working like you expect.\n",
    "    \n",
    "</div>\n",
    "\n",
    "<div class=\"alert alert-block alert-info\">\n",
    "\n",
    "**There are hidden test cases**  The autograder will run some tests that you can't see.  So it's possible that the cells below will pass, but gradesceope will fail.\n",
    "    \n",
    "</div>"
   ]
  },
  {
   "cell_type": "code",
   "execution_count": null,
   "metadata": {
    "editable": false
   },
   "outputs": [],
   "source": [
    "!cse142 job run --take matmul_solution.cpp --lab compiler-bench --force autograde"
   ]
  },
  {
   "cell_type": "code",
   "execution_count": null,
   "metadata": {
    "editable": false
   },
   "outputs": [],
   "source": [
    "render_csv(\"autograde/autograde.csv\")"
   ]
  },
  {
   "cell_type": "markdown",
   "metadata": {
    "editable": false
   },
   "source": [
    "And run the autograder"
   ]
  },
  {
   "cell_type": "code",
   "execution_count": null,
   "metadata": {
    "editable": false
   },
   "outputs": [],
   "source": [
    "#run it locally\n",
    "!./autograde.py --submission . --results autograde.json\n",
    "\n",
    "from autograde import compute_all_scores\n",
    "df = compute_all_scores(dir=\"autograde\")\n",
    "display(df)\n",
    "print(f\"total points: {round(sum(df['score']), 2)}\")"
   ]
  },
  {
   "cell_type": "markdown",
   "metadata": {
    "editable": false
   },
   "source": [
    "The \"capped_score\" column contains the number of points you'll receive.\n",
    "\n",
    "And see the autograder's output like this:"
   ]
  },
  {
   "cell_type": "code",
   "execution_count": null,
   "metadata": {
    "editable": false
   },
   "outputs": [],
   "source": [
    "render_code(\"autograde.json\")"
   ]
  },
  {
   "cell_type": "markdown",
   "metadata": {
    "editable": false
   },
   "source": [
    "Most of it is internal stuff that gradscope needs, but the key parts are the `score`, `max_score`, and `output` fields.\n",
    "\n",
    "All that's left is commit your code:"
   ]
  },
  {
   "cell_type": "code",
   "execution_count": null,
   "metadata": {
    "editable": false
   },
   "outputs": [],
   "source": [
    "!git add matmul_solution.cpp\n",
    "!git commit -m \"Yay! I finished the first lab!\"\n",
    "!git push --force"
   ]
  },
  {
   "cell_type": "markdown",
   "metadata": {
    "editable": false
   },
   "source": [
    "# Recap"
   ]
  },
  {
   "cell_type": "markdown",
   "metadata": {
    "editable": false
   },
   "source": [
    "This lab has illustrated a range of common compiler optimizations that improve program performance.  We've seen how optimizations can work in isolation and, often more important, how one optimization (I'm looking at you, inlining) can often unlock additional opportunities to apply further optimizations.  We've also seen how optimizations are especially important for C++ and other languages where small functions are common.  Finally, we quantified the impact of optimizations using the performance equation."
   ]
  },
  {
   "cell_type": "markdown",
   "metadata": {
    "editable": false
   },
   "source": [
    "# Turning In the Lab"
   ]
  },
  {
   "cell_type": "markdown",
   "metadata": {
    "editable": false
   },
   "source": [
    "For each lab, there are two different assignments on gradescope:\n",
    "\n",
    "1.  The lab notebook.\n",
    "2.  The programming assignment.\n",
    "\n",
    "There's also a pre-lab reading quiz on Canvas and a post-lab survey which is embedded below.\n",
    "\n",
    "## The CSE142L Emergency Lab Submission Form\n",
    "\n",
    "We do not accept late submissions.  However, sometimes things go wrong at submission time.  To accommodate this, we have the [Emergency Lab Submission Form](https://docs.google.com/forms/d/e/1FAIpQLSdPhzCyLgjmtzwF8frQ1Vrz_zHPaKurlcOf1mWMbAL3jaSVog/viewform).  It allows us to deal with submission problems in a fair and uniform way.\n",
    "\n",
    "Here's the process:\n",
    "\n",
    "1.  If you are having trouble submitting, commit your work, and fill out this form _before the deadline_.  THERE WILL BE NO EXCEPTIONS GRANTED.\n",
    "2.  The commit has you provide for your github repo must be dated before the deadline.\n",
    "3.  You can continue to try to submit via the normal gradescope.\n",
    "4.  If you aren't able to successfully submit via gradescope, then submit a regrade request during the regrade period.\n",
    "5.  We will review the contents of your github repo, the gradescope submission URLs, and the job IDs you provide.\n",
    "6.  If there was some problem with the infrastructure, you can receive up to full credit.  If there was a problem on your side (e.g., not generating the PDF properly), you can earn up to 90% credit.\n",
    "\n",
    "We will not address these issues on Piazza or via email.  \n",
    "\n",
    "## Reading Quiz\n",
    "\n",
    "The reading quiz is an online assignment on Canvas.  It's due before the class when we will assign the lab.\n",
    "\n",
    "## The Note Book\n",
    "\n",
    "You need to turn in your lab notebook and your programming assignment separately. \n",
    "\n",
    "After you complete the lab, you will turn it in by creating a version of the notebook that only contains your answers and then printing that to a pdf.\n",
    "\n",
    "**Step 1:**  Save your workbook!!!"
   ]
  },
  {
   "cell_type": "code",
   "execution_count": null,
   "metadata": {
    "editable": false
   },
   "outputs": [],
   "source": [
    "!for i in 1 2 3 4 5; do echo Save your notebook!; sleep 1; done"
   ]
  },
  {
   "cell_type": "markdown",
   "metadata": {
    "editable": false
   },
   "source": [
    "**Step 2:**  Run this command:"
   ]
  },
  {
   "cell_type": "code",
   "execution_count": null,
   "metadata": {
    "editable": false
   },
   "outputs": [],
   "source": [
    "!turnin-lab Lab.ipynb\n",
    "!ls -lh Lab.turnin.ipynb"
   ]
  },
  {
   "attachments": {
    "image.png": {
     "image/png": "[encoded data removed]"
    }
   },
   "cell_type": "markdown",
   "metadata": {
    "editable": false
   },
   "source": [
    "The date in the above file listing should show that you just created `Lab.turnin.ipynb`\n",
    "\n",
    "**Step 3:**  Click on this link to open it: [./Lab.turnin.ipynb](./Lab.turnin.ipynb)\n",
    "\n",
    "**Step 4:**  Hide the table of contents by clicking the\n",
    "\n",
    "![image.png](attachment:image.png)\n",
    "\n",
    "**Step 5:**  Select \"Print\" from _your browser's_ \"file\" menu.  Print directly to a PDF.\n",
    "\n",
    "**Step 6:**  Make sure all your answers are visible and not cut off the side of the page.\n",
    "\n",
    "**Step 7:**  Turn in that PDF via gradescope."
   ]
  },
  {
   "cell_type": "markdown",
   "metadata": {
    "editable": false
   },
   "source": [
    "<div class=\"alert alert-block alert-danger\">\n",
    "\n",
    "**Print Carefully** It's important that you print directly to a PDF.  In particular, you should _not_ do any of the following:\n",
    "    \n",
    "1. **Do not** select \"Print Preview\" and then print that. (Remarkably, this is not the same as printing directly, so it's not clear what it is a preview of)\n",
    "2. **Do not** select `Download as-> PDF via LaTex.  It generates nothing useful.\n",
    "    \n",
    "</div>\n",
    "\n",
    "Once you have your PDF, you can submit it via gradescope.  In gradescope, you'll need to show us where all your answers are.  Please do this carefully, if we can't find your answer, we can't grade it."
   ]
  },
  {
   "cell_type": "markdown",
   "metadata": {
    "editable": false
   },
   "source": [
    "## The Programming Assignment\n",
    "\n",
    "You'll turn in your programming assignment by providing gradescope with your github repo.   It'll run the autograder and return the results."
   ]
  },
  {
   "cell_type": "markdown",
   "metadata": {
    "editable": false
   },
   "source": [
    "## Lab Survey\n",
    "\n",
    "Please fill out this survey when you've finished the lab.  You can only submit once.  Be sure to press \"submit\", your answers won't be saved in the notebook."
   ]
  },
  {
   "cell_type": "code",
   "execution_count": null,
   "metadata": {
    "deletable": false,
    "editable": false,
    "init_cell": true
   },
   "outputs": [],
   "source": [
    "from IPython.display import IFrame    \n",
    "IFrame('https://docs.google.com/forms/d/e/1FAIpQLSdEyaIDy52FLLUzQEXoJJmz7ffQBN1-0Qdndu6wQ7NK8U6pZw/viewform', width=800, height=2000)\n"
   ]
  },
  {
   "cell_type": "markdown",
   "metadata": {
    "editable": false
   },
   "source": [
    "\n"
   ]
  }
 ],
 "metadata": {
  "celltoolbar": "Initialization Cell",
  "kernelspec": {
   "display_name": "Python 3 (ipykernel)",
   "language": "python",
   "name": "python3"
  },
  "language_info": {
   "codemirror_mode": {
    "name": "ipython",
    "version": 3
   },
   "file_extension": ".py",
   "mimetype": "text/x-python",
   "name": "python",
   "nbconvert_exporter": "python",
   "pygments_lexer": "ipython3",
   "version": "3.10.6"
  },
  "toc": {
   "base_numbering": 1,
   "nav_menu": {},
   "number_sections": true,
   "sideBar": true,
   "skip_h1_title": false,
   "title_cell": "Table of Contents",
   "title_sidebar": "Contents",
   "toc_cell": false,
   "toc_position": {
    "height": "calc(100% - 180px)",
    "left": "10px",
    "top": "150px",
    "width": "256px"
   },
   "toc_section_display": true,
   "toc_window_display": true
  },
  "toc-autonumbering": true
 },
 "nbformat": 4,
 "nbformat_minor": 4
}
